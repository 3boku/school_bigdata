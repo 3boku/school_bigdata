{
  "nbformat": 4,
  "nbformat_minor": 0,
  "metadata": {
    "colab": {
      "provenance": [],
      "authorship_tag": "ABX9TyOVpaHTRq2osCYUNMFizMsQ",
      "include_colab_link": true
    },
    "kernelspec": {
      "name": "python3",
      "display_name": "Python 3"
    },
    "language_info": {
      "name": "python"
    }
  },
  "cells": [
    {
      "cell_type": "markdown",
      "metadata": {
        "id": "view-in-github",
        "colab_type": "text"
      },
      "source": [
        "<a href=\"https://colab.research.google.com/github/NANONANDFLASH/school_bigdata/blob/main/20615_%EC%A0%95%ED%98%84%EC%84%9C_%EB%B0%98%EB%B3%B5%EB%AC%B8_while.ipynb\" target=\"_parent\"><img src=\"https://colab.research.google.com/assets/colab-badge.svg\" alt=\"Open In Colab\"/></a>"
      ]
    },
    {
      "cell_type": "markdown",
      "source": [
        "#P16\n"
      ],
      "metadata": {
        "id": "P8z_8N6jxpXx"
      }
    },
    {
      "cell_type": "code",
      "execution_count": null,
      "metadata": {
        "id": "mOlbbPkmwo3b"
      },
      "outputs": [],
      "source": [
        "i = 1\n",
        "\n",
        "while i <=3:\n",
        "  print(\"안녕하세요\")\n",
        "  i+=1"
      ]
    },
    {
      "cell_type": "code",
      "source": [
        "i = 1\n",
        "\n",
        "while i <=3:\n",
        "  print(i, \"번 학생의 성적을 처리한다.\")\n",
        "  i+=1"
      ],
      "metadata": {
        "id": "G9eqfhoTwtbQ"
      },
      "execution_count": null,
      "outputs": []
    },
    {
      "cell_type": "code",
      "source": [
        "dan =int(input(\"원하는 단은? \"))\n",
        "i = 1;\n",
        "\n",
        "while i <= 9:\n",
        "  print(dan, \"*\", i, \"=\", dan*i)\n",
        "  i+=1"
      ],
      "metadata": {
        "colab": {
          "base_uri": "https://localhost:8080/"
        },
        "id": "IoxnuZpuwvtL",
        "outputId": "91576b6b-064f-4418-b698-7c394bf8713a"
      },
      "execution_count": 1,
      "outputs": [
        {
          "output_type": "stream",
          "name": "stdout",
          "text": [
            "원하는 단은? 3\n",
            "3 * 1 = 3\n",
            "3 * 2 = 6\n",
            "3 * 3 = 9\n",
            "3 * 4 = 12\n",
            "3 * 5 = 15\n",
            "3 * 6 = 18\n",
            "3 * 7 = 21\n",
            "3 * 8 = 24\n",
            "3 * 9 = 27\n"
          ]
        }
      ]
    },
    {
      "cell_type": "code",
      "source": [
        "i = 1\n",
        "sum = int(0)\n",
        "while i <= 10:\n",
        "  sum+=i\n",
        "  print(\"i의 값\", sum)\n",
        "  i+=1"
      ],
      "metadata": {
        "colab": {
          "base_uri": "https://localhost:8080/"
        },
        "id": "pKz10Ae9xTe7",
        "outputId": "c88c8618-e45f-4bbe-cfff-267c056359ff"
      },
      "execution_count": 9,
      "outputs": [
        {
          "output_type": "stream",
          "name": "stdout",
          "text": [
            "i의 값 1\n",
            "i의 값 3\n",
            "i의 값 6\n",
            "i의 값 10\n",
            "i의 값 15\n",
            "i의 값 21\n",
            "i의 값 28\n",
            "i의 값 36\n",
            "i의 값 45\n",
            "i의 값 55\n"
          ]
        }
      ]
    },
    {
      "cell_type": "code",
      "source": [
        "i = 150\n",
        "sum = 0\n",
        "while i <= 300:\n",
        "  if(i%2!=0):\n",
        "    sum+=i\n",
        "  i+=1\n",
        "print(\"sum =\", sum)"
      ],
      "metadata": {
        "colab": {
          "base_uri": "https://localhost:8080/"
        },
        "id": "WA6CrR8U2gn8",
        "outputId": "35ebc1aa-0768-4f5c-b7cc-7d56fb6dbfce"
      },
      "execution_count": 18,
      "outputs": [
        {
          "output_type": "stream",
          "name": "stdout",
          "text": [
            "sum = 16875\n"
          ]
        }
      ]
    },
    {
      "cell_type": "code",
      "source": [
        "print('-' * 15)\n",
        "print(\"섭씨  화씨\")\n",
        "print('-' * 15)\n",
        "c = -5\n",
        "while c <=5:\n",
        "  f = c * 9.0 /5.0 + 32.0\n",
        "  print(\"%5d %5.1f\" %(c, f))\n",
        "  c+=1\n",
        "print('-'*15)"
      ],
      "metadata": {
        "colab": {
          "base_uri": "https://localhost:8080/"
        },
        "id": "v7KlE8203cyX",
        "outputId": "c58f4f96-3aab-44f9-e196-ce5bf1dc684d"
      },
      "execution_count": 20,
      "outputs": [
        {
          "output_type": "stream",
          "name": "stdout",
          "text": [
            "---------------\n",
            "섭씨  화씨\n",
            "---------------\n",
            "   -5  23.0\n",
            "   -4  24.8\n",
            "   -3  26.6\n",
            "   -2  28.4\n",
            "   -1  30.2\n",
            "    0  32.0\n",
            "    1  33.8\n",
            "    2  35.6\n",
            "    3  37.4\n",
            "    4  39.2\n",
            "    5  41.0\n",
            "---------------\n"
          ]
        }
      ]
    },
    {
      "cell_type": "markdown",
      "source": [
        "#17p"
      ],
      "metadata": {
        "id": "_T1zETgU5ZH9"
      }
    },
    {
      "cell_type": "code",
      "source": [
        "fac = 1\n",
        "i = 1\n",
        "\n",
        "while i <= 10:\n",
        "  fac*=i\n",
        "  i+=1\n",
        "print(\"10! =\", fac)"
      ],
      "metadata": {
        "colab": {
          "base_uri": "https://localhost:8080/"
        },
        "id": "SIc5lKsJ4E7-",
        "outputId": "9ceced71-e9b2-492a-c3a7-8b8e8c53576d"
      },
      "execution_count": 21,
      "outputs": [
        {
          "output_type": "stream",
          "name": "stdout",
          "text": [
            "10! = 3628800\n"
          ]
        }
      ]
    },
    {
      "cell_type": "code",
      "source": [
        "i = 1\n",
        "\n",
        "while i<=20:\n",
        "  if i%2==0:\n",
        "    print(i, end=' ')\n",
        "  i+=1"
      ],
      "metadata": {
        "colab": {
          "base_uri": "https://localhost:8080/"
        },
        "id": "111qJigm4Zi8",
        "outputId": "70479453-1f74-4338-f97f-3792c4294fb7"
      },
      "execution_count": 23,
      "outputs": [
        {
          "output_type": "stream",
          "name": "stdout",
          "text": [
            "2 4 6 8 10 12 14 16 18 20 "
          ]
        }
      ]
    },
    {
      "cell_type": "code",
      "source": [
        "i = 1\n",
        "\n",
        "while i <= 50:\n",
        "  if i%3!=0:\n",
        "    print(i, end=' ')\n",
        "  i+=1\n",
        "  "
      ],
      "metadata": {
        "colab": {
          "base_uri": "https://localhost:8080/"
        },
        "id": "3m8vM-lC4wpB",
        "outputId": "ad877c26-355c-4011-cd86-743d9e00f2db"
      },
      "execution_count": 24,
      "outputs": [
        {
          "output_type": "stream",
          "name": "stdout",
          "text": [
            "1 2 4 5 7 8 10 11 13 14 16 17 19 20 22 23 25 26 28 29 31 32 34 35 37 38 40 41 43 44 46 47 49 50 "
          ]
        }
      ]
    },
    {
      "cell_type": "code",
      "source": [
        "pw = \"\"\n",
        "\n",
        "while pw != \"python\":\n",
        "  pw = input('암호입력: ')\n",
        "print(\"로그인 성공\")\n"
      ],
      "metadata": {
        "colab": {
          "base_uri": "https://localhost:8080/"
        },
        "id": "wfFpilhM4_Sx",
        "outputId": "d0b7c61c-f7d8-4965-84b0-2491ca08d471"
      },
      "execution_count": 25,
      "outputs": [
        {
          "output_type": "stream",
          "name": "stdout",
          "text": [
            "암호입력: c\n",
            "암호입력: java\n",
            "암호입력: python\n",
            "로그인 성공\n"
          ]
        }
      ]
    },
    {
      "cell_type": "code",
      "source": [
        "import random\n",
        "\n",
        "cnt = 0\n",
        "guess = 0\n",
        "answer = random.randint(1, 100)\n",
        "\n",
        "print(\"1부터 100사이의 숫자를 맞추기 \")\n",
        "print(answer)\n",
        "while guess != answer:\n",
        "  guess = int(input('숫자를 맞춰 보세요: '))\n",
        "  cnt += 1\n",
        "  if guess < answer :\n",
        "    print('높음')\n",
        "  elif guess > answer:\n",
        "    print('낮음')\n",
        "\n",
        "print('축하합니다.', '시도횟수 =', cnt)\n",
        "\n"
      ],
      "metadata": {
        "colab": {
          "base_uri": "https://localhost:8080/"
        },
        "id": "zXq4qYLT5RS5",
        "outputId": "1b1f1b8e-46bc-4700-f6b1-e50776b6dc3a"
      },
      "execution_count": 31,
      "outputs": [
        {
          "output_type": "stream",
          "name": "stdout",
          "text": [
            "1부터 100사이의 숫자를 맞추기 \n",
            "32\n",
            "숫자를 맞춰 보세요: 4\n",
            "높음\n",
            "숫자를 맞춰 보세요: 50\n",
            "낮음\n",
            "숫자를 맞춰 보세요: 32\n",
            "축하합니다. 시도횟수 = 3\n"
          ]
        }
      ]
    },
    {
      "cell_type": "code",
      "source": [],
      "metadata": {
        "id": "JPQ-Lpat50-7"
      },
      "execution_count": null,
      "outputs": []
    }
  ]
}