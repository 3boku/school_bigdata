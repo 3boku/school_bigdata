{
  "nbformat": 4,
  "nbformat_minor": 0,
  "metadata": {
    "colab": {
      "provenance": [],
      "authorship_tag": "ABX9TyNAQCtE57ZOFUcCHYsxNMJr",
      "include_colab_link": true
    },
    "kernelspec": {
      "name": "python3",
      "display_name": "Python 3"
    },
    "language_info": {
      "name": "python"
    }
  },
  "cells": [
    {
      "cell_type": "markdown",
      "metadata": {
        "id": "view-in-github",
        "colab_type": "text"
      },
      "source": [
        "<a href=\"https://colab.research.google.com/github/NANONANDFLASH/school_bigdata/blob/main/20615%EC%A0%95%ED%98%84%EC%84%9C_%EB%A6%AC%EC%8A%A4%ED%8A%B82.ipynb\" target=\"_parent\"><img src=\"https://colab.research.google.com/assets/colab-badge.svg\" alt=\"Open In Colab\"/></a>"
      ]
    },
    {
      "cell_type": "markdown",
      "source": [
        "#p23"
      ],
      "metadata": {
        "id": "3W4eYbyECCvi"
      }
    },
    {
      "cell_type": "code",
      "execution_count": null,
      "metadata": {
        "colab": {
          "base_uri": "https://localhost:8080/"
        },
        "id": "SyeCtxZjBk_V",
        "outputId": "17aebd5d-8933-41c1-d59b-739f87c24a46"
      },
      "outputs": [
        {
          "output_type": "stream",
          "name": "stdout",
          "text": [
            "[2, 3, 4]\n",
            "[1, 3, 5]\n",
            "[0, 2, 4]\n"
          ]
        }
      ],
      "source": [
        "#ex9\n",
        "nums = [0,1,2,3,4,5,6,7,8,9]\n",
        "print(nums[2:5:1])\n",
        "print(nums[1:7:2])\n",
        "print(nums[0:5:2])"
      ]
    },
    {
      "cell_type": "code",
      "source": [
        "#ex10\n",
        "nums = [0, 1, 2, 3, 4, 5, 6, 7, 8, 9]\n",
        "print(nums[0:5:1])\n",
        "print(nums[0:7:2])\n",
        "print(nums[0:5:2])"
      ],
      "metadata": {
        "colab": {
          "base_uri": "https://localhost:8080/"
        },
        "id": "kZLkQHHuCpFB",
        "outputId": "ad415789-4881-4ddc-83b3-b1f3f1feacc9"
      },
      "execution_count": null,
      "outputs": [
        {
          "output_type": "stream",
          "name": "stdout",
          "text": [
            "[0, 1, 2, 3, 4]\n",
            "[0, 2, 4, 6]\n",
            "[0, 2, 4]\n"
          ]
        }
      ]
    },
    {
      "cell_type": "code",
      "source": [
        "#ex11\n",
        "nums = [0,1,2,3,4,5,6,7,8,9]\n",
        "print(nums[2:10:1])\n",
        "print(nums[1:2:1])\n",
        "print(nums[7:10:1])"
      ],
      "metadata": {
        "colab": {
          "base_uri": "https://localhost:8080/"
        },
        "id": "_W6gulgCDR9K",
        "outputId": "f806740e-8787-4861-fbe7-600a3f40a820"
      },
      "execution_count": null,
      "outputs": [
        {
          "output_type": "stream",
          "name": "stdout",
          "text": [
            "[2, 3, 4, 5, 6, 7, 8, 9]\n",
            "[1]\n",
            "[7, 8, 9]\n"
          ]
        }
      ]
    },
    {
      "cell_type": "code",
      "source": [
        "#ex12\n",
        "nums = [0,1,2,3,4,5,6,7,8,9]\n",
        "print(nums[2:5])\n",
        "print(nums[1:7])\n",
        "print(nums[0:5])"
      ],
      "metadata": {
        "colab": {
          "base_uri": "https://localhost:8080/"
        },
        "id": "Of8sKrURDdUf",
        "outputId": "aa05e8e4-7077-46c2-8cdc-af258b5c350b"
      },
      "execution_count": null,
      "outputs": [
        {
          "output_type": "stream",
          "name": "stdout",
          "text": [
            "[2, 3, 4]\n",
            "[1, 2, 3, 4, 5, 6]\n",
            "[0, 1, 2, 3, 4]\n"
          ]
        }
      ]
    },
    {
      "cell_type": "code",
      "source": [
        "#ex13\n",
        "fruits = ['사과', '오렌지', '딸기', '포도', '감', '키위', '멜론', '수박']\n",
        "print(fruits)\n",
        "print(fruits[0])\n",
        "print(fruits[1:4])\n",
        "print(fruits[2:])\n",
        "print(fruits[-1])\n",
        "print(fruits[-4:-2])\n",
        "print(fruits[-3])"
      ],
      "metadata": {
        "colab": {
          "base_uri": "https://localhost:8080/"
        },
        "id": "5CHNguooD3Pr",
        "outputId": "8733d133-9a15-4b63-9f7e-4fc259319a6f"
      },
      "execution_count": null,
      "outputs": [
        {
          "output_type": "stream",
          "name": "stdout",
          "text": [
            "['사과', '오렌지', '딸기', '포도', '감', '키위', '멜론', '수박']\n",
            "사과\n",
            "['오렌지', '딸기', '포도']\n",
            "['딸기', '포도', '감', '키위', '멜론', '수박']\n",
            "수박\n",
            "['감', '키위']\n",
            "키위\n"
          ]
        }
      ]
    },
    {
      "cell_type": "code",
      "source": [
        "#ex14\n",
        "my_list = list(\"PythonIsFun!\")\n",
        "print(my_list)\n",
        "print(my_list[5:11])\n",
        "print(my_list[-5:-2])\n",
        "print(my_list[:4])\n",
        "print(my_list[8:])\n"
      ],
      "metadata": {
        "colab": {
          "base_uri": "https://localhost:8080/"
        },
        "id": "uW8pKKq3EVsi",
        "outputId": "de630266-2340-4ceb-8723-aecede9f2c19"
      },
      "execution_count": null,
      "outputs": [
        {
          "output_type": "stream",
          "name": "stdout",
          "text": [
            "['P', 'y', 't', 'h', 'o', 'n', 'I', 's', 'F', 'u', 'n', '!']\n",
            "['n', 'I', 's', 'F', 'u', 'n']\n",
            "['s', 'F', 'u']\n",
            "['P', 'y', 't', 'h']\n",
            "['F', 'u', 'n', '!']\n"
          ]
        }
      ]
    },
    {
      "cell_type": "code",
      "source": [
        "#ex15\n",
        "s = \"python\"\n",
        "print(s[2])\n",
        "print(s[-2])\n",
        "print(s[1:4]) "
      ],
      "metadata": {
        "colab": {
          "base_uri": "https://localhost:8080/"
        },
        "id": "wphbzpgNEoIE",
        "outputId": "8e312b38-919a-49ca-dbdb-e4828bcbe45c"
      },
      "execution_count": null,
      "outputs": [
        {
          "output_type": "stream",
          "name": "stdout",
          "text": [
            "t\n",
            "o\n",
            "yth\n"
          ]
        }
      ]
    },
    {
      "cell_type": "code",
      "source": [
        "file = \"20210505-104830.jpg\"\n",
        "print(\"촬영 날짜:\"+file[5:6]+\"월\"+file[7:8]+\"일\")\n",
        "print(\"촬영 시간:\"+file[9:11]+\"시\"+file[11:13]+\"분\")\n",
        "print(\"확장자:\"+file[16:19])"
      ],
      "metadata": {
        "colab": {
          "base_uri": "https://localhost:8080/"
        },
        "id": "j700zDk6E80W",
        "outputId": "20b2f9c4-1688-446f-dede-407fb8ee0faf"
      },
      "execution_count": null,
      "outputs": [
        {
          "output_type": "stream",
          "name": "stdout",
          "text": [
            "촬영 날짜:5월5일\n",
            "촬영 시간:10시48분\n",
            "확장자:jpg\n"
          ]
        }
      ]
    },
    {
      "cell_type": "code",
      "source": [
        "s = \"차종: 코란도C, 제조사: 쌍용, 배기량: 1998\"\n",
        "print(s[15:17])"
      ],
      "metadata": {
        "colab": {
          "base_uri": "https://localhost:8080/"
        },
        "id": "u6eToWiRGAeu",
        "outputId": "2e5fc3b6-e9d9-48ad-ad12-cf531e15d987"
      },
      "execution_count": null,
      "outputs": [
        {
          "output_type": "stream",
          "name": "stdout",
          "text": [
            "쌍용\n"
          ]
        }
      ]
    },
    {
      "cell_type": "code",
      "source": [
        "jumin = \"901231-1914983\"\n",
        "year = jumin[0:2]\n",
        "if int(jumin[7])%2==0:\n",
        "  gender = \"여자\"\n",
        "else:\n",
        "  gender = \"남자\"\n",
        "print(\"{}년생 {}입니다.\".format(year,gender))"
      ],
      "metadata": {
        "colab": {
          "base_uri": "https://localhost:8080/"
        },
        "id": "b93X44BPGPWP",
        "outputId": "bd36b559-88f4-431e-8eeb-99a4e8066bb5"
      },
      "execution_count": null,
      "outputs": [
        {
          "output_type": "stream",
          "name": "stdout",
          "text": [
            "90년생 남자입니다.\n"
          ]
        }
      ]
    },
    {
      "cell_type": "code",
      "source": [],
      "metadata": {
        "id": "lqyfKParGQcg"
      },
      "execution_count": null,
      "outputs": []
    }
  ]
}