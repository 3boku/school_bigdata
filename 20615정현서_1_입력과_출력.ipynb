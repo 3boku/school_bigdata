{
  "nbformat": 4,
  "nbformat_minor": 0,
  "metadata": {
    "colab": {
      "provenance": [],
      "collapsed_sections": [
        "XrXSi2mMYaH5",
        "PwwUHNrGhArh",
        "lBxrppv6hFbh",
        "MxnEg_j2iNLp",
        "ZbrWryuvlsnJ"
      ],
      "toc_visible": true,
      "authorship_tag": "ABX9TyOrPHEfXxLOvUYOzYi7nCfx",
      "include_colab_link": true
    },
    "kernelspec": {
      "name": "python3",
      "display_name": "Python 3"
    },
    "language_info": {
      "name": "python"
    }
  },
  "cells": [
    {
      "cell_type": "markdown",
      "metadata": {
        "id": "view-in-github",
        "colab_type": "text"
      },
      "source": [
        "<a href=\"https://colab.research.google.com/github/NANONANDFLASH/school_bigdata/blob/main/20615%EC%A0%95%ED%98%84%EC%84%9C_1_%EC%9E%85%EB%A0%A5%EA%B3%BC_%EC%B6%9C%EB%A0%A5.ipynb\" target=\"_parent\"><img src=\"https://colab.research.google.com/assets/colab-badge.svg\" alt=\"Open In Colab\"/></a>"
      ]
    },
    {
      "cell_type": "markdown",
      "source": [
        "#1.출력하기 p1"
      ],
      "metadata": {
        "id": "XrXSi2mMYaH5"
      }
    },
    {
      "cell_type": "code",
      "source": [
        "print(3+3)"
      ],
      "metadata": {
        "colab": {
          "base_uri": "https://localhost:8080/"
        },
        "id": "o48wx8VQYS7q",
        "outputId": "5b5c264d-2fe1-43fa-fb3b-9a8fc8727826"
      },
      "execution_count": 2,
      "outputs": [
        {
          "output_type": "stream",
          "name": "stdout",
          "text": [
            "6\n"
          ]
        }
      ]
    },
    {
      "cell_type": "code",
      "source": [
        "print(3+4)\n",
        "4*5\n",
        "a = 1\n",
        "b = 2\n",
        "print(a+b)"
      ],
      "metadata": {
        "colab": {
          "base_uri": "https://localhost:8080/"
        },
        "id": "ZbtlvmRHZ3P5",
        "outputId": "1b61609e-3b0c-4e7c-ab3b-68aa2a00c910"
      },
      "execution_count": 14,
      "outputs": [
        {
          "output_type": "stream",
          "name": "stdout",
          "text": [
            "7\n",
            "3\n"
          ]
        }
      ]
    },
    {
      "cell_type": "code",
      "source": [
        "a = '강아지'\n",
        "b = '고양이'\n",
        "print(a)\n",
        "print(b)"
      ],
      "metadata": {
        "colab": {
          "base_uri": "https://localhost:8080/"
        },
        "id": "I9RG-RPMaGla",
        "outputId": "14c119ef-447f-4deb-a9df-e419a7250eae"
      },
      "execution_count": 15,
      "outputs": [
        {
          "output_type": "stream",
          "name": "stdout",
          "text": [
            "강아지\n",
            "고양이\n"
          ]
        }
      ]
    },
    {
      "cell_type": "code",
      "source": [
        "print(\" *       *\")\n",
        "print(\"  *     *\")\n",
        "print(\"   *   *\")\n",
        "print(\"    * *\")\n",
        "print(\"     *\")"
      ],
      "metadata": {
        "colab": {
          "base_uri": "https://localhost:8080/"
        },
        "id": "JGLRfB0kYZYh",
        "outputId": "97ded7f7-327f-4ada-f48f-ef2bb9cf6532"
      },
      "execution_count": 11,
      "outputs": [
        {
          "output_type": "stream",
          "name": "stdout",
          "text": [
            " *       *\n",
            "  *     *\n",
            "   *   *\n",
            "    * *\n",
            "     *\n"
          ]
        }
      ]
    },
    {
      "cell_type": "code",
      "source": [
        "a = '강아지'\n",
        "b = '고양이'\n",
        "print(a, end = '')\n",
        "print(b)"
      ],
      "metadata": {
        "colab": {
          "base_uri": "https://localhost:8080/"
        },
        "id": "IU5Ga9s9a8iC",
        "outputId": "2b794bd2-92c6-452a-8be3-93e3a66d4875"
      },
      "execution_count": 16,
      "outputs": [
        {
          "output_type": "stream",
          "name": "stdout",
          "text": [
            "강아지고양이\n"
          ]
        }
      ]
    },
    {
      "cell_type": "code",
      "source": [
        "print(34, end = '^^')\n",
        "print(78)"
      ],
      "metadata": {
        "colab": {
          "base_uri": "https://localhost:8080/"
        },
        "id": "1bthfnjZbLIx",
        "outputId": "af46cc9b-253e-45e2-fb8b-0dd601afb11e"
      },
      "execution_count": 17,
      "outputs": [
        {
          "output_type": "stream",
          "name": "stdout",
          "text": [
            "34^^78\n"
          ]
        }
      ]
    },
    {
      "cell_type": "code",
      "source": [
        "a = 12\n",
        "b = 34\n",
        "print(a,b)"
      ],
      "metadata": {
        "colab": {
          "base_uri": "https://localhost:8080/"
        },
        "id": "2xlpnsGUbSj0",
        "outputId": "f1ddf14e-61a6-4da5-8458-ba97659b8f51"
      },
      "execution_count": 18,
      "outputs": [
        {
          "output_type": "stream",
          "name": "stdout",
          "text": [
            "12 34\n"
          ]
        }
      ]
    },
    {
      "cell_type": "markdown",
      "source": [
        "#1. 출력하기 p2"
      ],
      "metadata": {
        "id": "PwwUHNrGhArh"
      }
    },
    {
      "cell_type": "code",
      "source": [
        "a=12\n",
        "b=34\n",
        "print(a, b, sep =',')"
      ],
      "metadata": {
        "colab": {
          "base_uri": "https://localhost:8080/"
        },
        "id": "5M9e7YWJbarL",
        "outputId": "81f84684-f619-4bc2-c4e5-adceecdb97a9"
      },
      "execution_count": 22,
      "outputs": [
        {
          "output_type": "stream",
          "name": "stdout",
          "text": [
            "12,34\n"
          ]
        }
      ]
    },
    {
      "cell_type": "code",
      "source": [
        "s = '서울'\n",
        "d = '대전'\n",
        "g = '대구'\n",
        "b = '부산'\n",
        "print(s, d, g, b, sep ='찍고 ', end=\"찍고\")"
      ],
      "metadata": {
        "colab": {
          "base_uri": "https://localhost:8080/"
        },
        "id": "akRupnbhcNH2",
        "outputId": "d97cfd82-2d87-4da8-c5d9-e4bdef0e3b2e"
      },
      "execution_count": 33,
      "outputs": [
        {
          "output_type": "stream",
          "name": "stdout",
          "text": [
            "서울찍고 대전찍고 대구찍고 부산찍고"
          ]
        }
      ]
    },
    {
      "cell_type": "code",
      "source": [
        "print(12, 34, 56, sep='^^', end = '-->')\n",
        "print(78)"
      ],
      "metadata": {
        "colab": {
          "base_uri": "https://localhost:8080/"
        },
        "id": "zWhh-b3hcVJD",
        "outputId": "ec26edcc-d8a1-4e84-ba31-d7095f0cc411"
      },
      "execution_count": 29,
      "outputs": [
        {
          "output_type": "stream",
          "name": "stdout",
          "text": [
            "12^^34^^56-->78\n"
          ]
        }
      ]
    },
    {
      "cell_type": "code",
      "source": [
        "a = 13\n",
        "b = 21\n",
        "print(a, b)\n",
        "print(a + b)\n",
        "print(a, b, sep='')\n",
        "print(a, b, end='')"
      ],
      "metadata": {
        "colab": {
          "base_uri": "https://localhost:8080/"
        },
        "id": "WImdkfDFcnl8",
        "outputId": "df76c729-5a8a-4dc7-a3d1-6f93f7f07c73"
      },
      "execution_count": 30,
      "outputs": [
        {
          "output_type": "stream",
          "name": "stdout",
          "text": [
            "13 21\n",
            "34\n",
            "1321\n",
            "13 21"
          ]
        }
      ]
    },
    {
      "cell_type": "markdown",
      "source": [
        "#2. 입력하기 p2"
      ],
      "metadata": {
        "id": "lBxrppv6hFbh"
      }
    },
    {
      "cell_type": "code",
      "source": [
        "age = input('몇 살이세요?')\n",
        "print(age)"
      ],
      "metadata": {
        "colab": {
          "base_uri": "https://localhost:8080/"
        },
        "id": "KyqRsKGmc3dK",
        "outputId": "6e2e32e5-64c1-42c3-8b63-e74e8bce7f5b"
      },
      "execution_count": 31,
      "outputs": [
        {
          "output_type": "stream",
          "name": "stdout",
          "text": [
            "몇 살이세요?12\n",
            "12\n"
          ]
        }
      ]
    },
    {
      "cell_type": "code",
      "source": [
        "name = input('이름을 입력하세요: ')\n",
        "print(\"안녕하세요\", name, \"님!\")"
      ],
      "metadata": {
        "colab": {
          "base_uri": "https://localhost:8080/"
        },
        "id": "ylJ6QT0SdMJq",
        "outputId": "b23398c1-6145-4ca9-e8da-da138e5ff19e"
      },
      "execution_count": 32,
      "outputs": [
        {
          "output_type": "stream",
          "name": "stdout",
          "text": [
            "이름을 입력하세요: 윤아\n",
            "안녕하세요 윤아 님!\n"
          ]
        }
      ]
    },
    {
      "cell_type": "code",
      "source": [
        "f1 = input('첫 번째 과일 입력: ')\n",
        "f2 = input('두 번째 과일 입력: ')\n",
        "print(f1, \"와(과)\", f2, \"은(는) 내가 좋아하는 과일이다.\")"
      ],
      "metadata": {
        "colab": {
          "base_uri": "https://localhost:8080/"
        },
        "id": "Z5GQMInkddVq",
        "outputId": "b2666b1b-2bdc-4c2d-a69d-9f4bb381b715"
      },
      "execution_count": 42,
      "outputs": [
        {
          "output_type": "stream",
          "name": "stdout",
          "text": [
            "첫 번째 과일 입력: 사과\n",
            "두 번째 과일 입력: 수박\n",
            "사과 와(과) 수박 은(는) 내가 좋아하는 과일이다.\n"
          ]
        }
      ]
    },
    {
      "cell_type": "code",
      "source": [
        "year = input('몇 년도? ')\n",
        "month = input(\"몇 월? \")\n",
        "day = input(\"몇 일? \")\n",
        "print(year, month, day, sep = \" . \")"
      ],
      "metadata": {
        "colab": {
          "base_uri": "https://localhost:8080/"
        },
        "id": "4I3uhf1NeeQa",
        "outputId": "7a56fbce-42c4-47b6-c7d0-f344476a8420"
      },
      "execution_count": 43,
      "outputs": [
        {
          "output_type": "stream",
          "name": "stdout",
          "text": [
            "몇 년도? 2021\n",
            "몇 월? 12\n",
            "몇 일? 25\n",
            "2021 . 12 . 25\n"
          ]
        }
      ]
    },
    {
      "cell_type": "code",
      "source": [
        "age = input('몇 살이세요?')\n",
        "print(age + age)"
      ],
      "metadata": {
        "colab": {
          "base_uri": "https://localhost:8080/"
        },
        "id": "UTXGvGpQiEp2",
        "outputId": "923804de-3835-488d-819c-621a14dbd4cd"
      },
      "execution_count": 44,
      "outputs": [
        {
          "output_type": "stream",
          "name": "stdout",
          "text": [
            "몇 살이세요?18\n",
            "1818\n"
          ]
        }
      ]
    },
    {
      "cell_type": "markdown",
      "source": [
        "# 2. 입력하기 p3"
      ],
      "metadata": {
        "id": "MxnEg_j2iNLp"
      }
    },
    {
      "cell_type": "code",
      "source": [
        "age = input('몇 살이세요?')\n",
        "age = int(age)\n",
        "print(age+age)"
      ],
      "metadata": {
        "colab": {
          "base_uri": "https://localhost:8080/"
        },
        "id": "N8925Ml-iWrC",
        "outputId": "d1d1f778-68fc-4066-b553-ad9e1db43014"
      },
      "execution_count": 45,
      "outputs": [
        {
          "output_type": "stream",
          "name": "stdout",
          "text": [
            "몇 살이세요?18\n",
            "36\n"
          ]
        }
      ]
    },
    {
      "cell_type": "code",
      "source": [
        "price = int(input('가격을 입력하세요 : '))\n",
        "num = int(input('개수를 입력하세요: '))\n",
        "sum= price * num\n",
        "print('총액은', sum, \"원입니다\")"
      ],
      "metadata": {
        "colab": {
          "base_uri": "https://localhost:8080/"
        },
        "id": "uELVycuHioKi",
        "outputId": "d125b24b-6a17-46b5-fcdd-5aae990b07fe"
      },
      "execution_count": 47,
      "outputs": [
        {
          "output_type": "stream",
          "name": "stdout",
          "text": [
            "가격을 입력하세요 : 100\n",
            "개수를 입력하세요: 5\n",
            "총액은 500 원입니다\n"
          ]
        }
      ]
    },
    {
      "cell_type": "code",
      "source": [
        "width = int(input('사각형의 가로: '))\n",
        "height = int(input('사각형의 세로: '))\n",
        "print(\"사각형의 면적은\", width*height, \"입니다.\")"
      ],
      "metadata": {
        "colab": {
          "base_uri": "https://localhost:8080/"
        },
        "id": "vYWtqyx9jHXs",
        "outputId": "dc703440-d1b4-49c9-8692-1247984909ce"
      },
      "execution_count": 51,
      "outputs": [
        {
          "output_type": "stream",
          "name": "stdout",
          "text": [
            "사각형의 가로: 5\n",
            "사각형의 세로: 10\n",
            "사각형의 면적은 50 입니다.\n"
          ]
        }
      ]
    },
    {
      "cell_type": "code",
      "source": [
        "name = input('이름? ')\n",
        "year = int(input('태어난 해는? '))\n",
        "print(name, '님의 나이는', (2023-year+1),'세 입니다.')"
      ],
      "metadata": {
        "colab": {
          "base_uri": "https://localhost:8080/"
        },
        "id": "3Z3AijyQj86L",
        "outputId": "457ecb12-428e-4fb0-e3c0-a97d766ce2e7"
      },
      "execution_count": 53,
      "outputs": [
        {
          "output_type": "stream",
          "name": "stdout",
          "text": [
            "이름? 정수\n",
            "태어난 해는? 2002\n",
            "정수 님의 나이는 22 세 입니다.\n"
          ]
        }
      ]
    },
    {
      "cell_type": "code",
      "source": [
        "price = int(input('물건의 가격? '))\n",
        "num = int(input('물건 구매 개수? '))\n",
        "money = int(input('지불한 돈? '))\n",
        "print('거스름돈은', money-price*num, '원입니다.')"
      ],
      "metadata": {
        "colab": {
          "base_uri": "https://localhost:8080/"
        },
        "id": "3anyXzRAkoHy",
        "outputId": "0950e774-d63d-4877-ed07-5c36b1831f5e"
      },
      "execution_count": 54,
      "outputs": [
        {
          "output_type": "stream",
          "name": "stdout",
          "text": [
            "물건의 가격? 500\n",
            "물건 구매 개수? 4\n",
            "지불한 돈? 5000\n",
            "거스름돈은 3000 원입니다.\n"
          ]
        }
      ]
    },
    {
      "cell_type": "markdown",
      "source": [
        "#1. 변수 p4"
      ],
      "metadata": {
        "id": "ZbrWryuvlsnJ"
      }
    },
    {
      "cell_type": "code",
      "source": [
        "score = 100\n",
        "print(score)\n",
        "print(type(score))"
      ],
      "metadata": {
        "colab": {
          "base_uri": "https://localhost:8080/"
        },
        "id": "9jcOZ-ttlmlM",
        "outputId": "d8f18f2a-bb39-4c19-ca23-ce3920a9569f"
      },
      "execution_count": 55,
      "outputs": [
        {
          "output_type": "stream",
          "name": "stdout",
          "text": [
            "100\n",
            "<class 'int'>\n"
          ]
        }
      ]
    },
    {
      "cell_type": "code",
      "source": [
        "score = 'high'\n",
        "print(score)\n",
        "print(type(score))"
      ],
      "metadata": {
        "colab": {
          "base_uri": "https://localhost:8080/"
        },
        "id": "gXNshoj-mBwv",
        "outputId": "bf06a5bc-ce15-4eed-d599-42386bda63f0"
      },
      "execution_count": 57,
      "outputs": [
        {
          "output_type": "stream",
          "name": "stdout",
          "text": [
            "high\n",
            "<class 'str'>\n"
          ]
        }
      ]
    },
    {
      "cell_type": "markdown",
      "source": [
        "#1. 변수 p5"
      ],
      "metadata": {
        "id": "I-GXKZmzn7cB"
      }
    },
    {
      "cell_type": "code",
      "source": [
        "num = 123456789\n",
        "print(num)\n",
        "print(type(num))"
      ],
      "metadata": {
        "colab": {
          "base_uri": "https://localhost:8080/"
        },
        "id": "2BEZEhc0oA24",
        "outputId": "ba26b872-7f48-4f0c-a8db-b50f0c12d4bc"
      },
      "execution_count": 62,
      "outputs": [
        {
          "output_type": "stream",
          "name": "stdout",
          "text": [
            "123456789\n",
            "<class 'int'>\n"
          ]
        }
      ]
    },
    {
      "cell_type": "code",
      "source": [
        "num = -20909\n",
        "print(num)\n",
        "print(type(num))"
      ],
      "metadata": {
        "colab": {
          "base_uri": "https://localhost:8080/"
        },
        "id": "vVDJMDG0oFw5",
        "outputId": "7eb8ab3d-6e54-44e1-87cd-fd7261603374"
      },
      "execution_count": 63,
      "outputs": [
        {
          "output_type": "stream",
          "name": "stdout",
          "text": [
            "-20909\n",
            "<class 'int'>\n"
          ]
        }
      ]
    },
    {
      "cell_type": "code",
      "source": [
        "a= 1.5\n",
        "b = -3.5\n",
        "print(a, b)\n",
        "print(type(a), type(b))"
      ],
      "metadata": {
        "colab": {
          "base_uri": "https://localhost:8080/"
        },
        "id": "eqHHxfGloTCJ",
        "outputId": "6cc47059-73d1-4ca9-a051-3a13adbf022f"
      },
      "execution_count": 64,
      "outputs": [
        {
          "output_type": "stream",
          "name": "stdout",
          "text": [
            "1.5 -3.5\n",
            "<class 'float'> <class 'float'>\n"
          ]
        }
      ]
    },
    {
      "cell_type": "code",
      "source": [
        "x=3.3764\n",
        "y = 6/2\n",
        "print(x, y)\n",
        "print(type(x), type(y))"
      ],
      "metadata": {
        "colab": {
          "base_uri": "https://localhost:8080/"
        },
        "id": "jIWYdgTIoudZ",
        "outputId": "ca8f939b-d2a9-4be2-ae52-309af024b545"
      },
      "execution_count": 65,
      "outputs": [
        {
          "output_type": "stream",
          "name": "stdout",
          "text": [
            "3.3764 3.0\n",
            "<class 'float'> <class 'float'>\n"
          ]
        }
      ]
    },
    {
      "cell_type": "code",
      "source": [
        "a = \"Korea 서울 1234\"\n",
        "print(a)\n",
        "print(type(a))"
      ],
      "metadata": {
        "colab": {
          "base_uri": "https://localhost:8080/"
        },
        "id": "zR8Wt7ykpE8s",
        "outputId": "f76e2376-8148-4804-8395-389624ef08ea"
      },
      "execution_count": 66,
      "outputs": [
        {
          "output_type": "stream",
          "name": "stdout",
          "text": [
            "Korea 서울 1234\n",
            "<class 'str'>\n"
          ]
        }
      ]
    },
    {
      "cell_type": "code",
      "source": [
        "a = 30\n",
        "print(a)\n",
        "print(type(a))\n",
        "\n",
        "b = '30'\n",
        "print(b)\n",
        "print(type(b))"
      ],
      "metadata": {
        "colab": {
          "base_uri": "https://localhost:8080/"
        },
        "id": "mUrJOGgUpS3l",
        "outputId": "d2a7b224-e953-4c38-f0ff-0ef71b9c3c4a"
      },
      "execution_count": 68,
      "outputs": [
        {
          "output_type": "stream",
          "name": "stdout",
          "text": [
            "30\n",
            "<class 'int'>\n",
            "30\n",
            "<class 'str'>\n"
          ]
        }
      ]
    },
    {
      "cell_type": "code",
      "source": [
        "a = 5\n",
        "b = a==5\n",
        "print(b)"
      ],
      "metadata": {
        "colab": {
          "base_uri": "https://localhost:8080/"
        },
        "id": "NoELt7Fppg3h",
        "outputId": "ab67d141-ee61-4e59-ba06-5d2cfd371438"
      },
      "execution_count": 69,
      "outputs": [
        {
          "output_type": "stream",
          "name": "stdout",
          "text": [
            "True\n"
          ]
        }
      ]
    },
    {
      "cell_type": "code",
      "source": [
        "if a ==5:\n",
        "  print(\"a는 5\")"
      ],
      "metadata": {
        "colab": {
          "base_uri": "https://localhost:8080/"
        },
        "id": "6JuV30CJpumE",
        "outputId": "cb227a9e-8921-432a-a2ba-dbae6a950cff"
      },
      "execution_count": 73,
      "outputs": [
        {
          "output_type": "stream",
          "name": "stdout",
          "text": [
            "a는 5\n"
          ]
        }
      ]
    },
    {
      "cell_type": "markdown",
      "source": [
        "#1. 변수 p6"
      ],
      "metadata": {
        "id": "977wE637p8Oo"
      }
    },
    {
      "cell_type": "code",
      "source": [
        "a = input('첫 번째 숫자를 입력하세요: ')\n",
        "b = input('두 번째 숫자를 입력하세요: ')\n",
        "c = a + b\n",
        "print(c)"
      ],
      "metadata": {
        "colab": {
          "base_uri": "https://localhost:8080/"
        },
        "id": "wTq-Mj6up_FI",
        "outputId": "2cae5a6a-f2b4-4db6-909c-759811f5feb2"
      },
      "execution_count": 74,
      "outputs": [
        {
          "output_type": "stream",
          "name": "stdout",
          "text": [
            "첫 번째 숫자를 입력하세요: 18\n",
            "두 번째 숫자를 입력하세요: 45\n",
            "1845\n"
          ]
        }
      ]
    },
    {
      "cell_type": "code",
      "source": [
        "a = input('첫 번째 숫자를 입력하세요: ')\n",
        "b = input('두 번째 숫자를 입력하세요: ')\n",
        "c = int(a) + int(b)\n",
        "print(c)"
      ],
      "metadata": {
        "colab": {
          "base_uri": "https://localhost:8080/"
        },
        "id": "FtfDve5UqT_B",
        "outputId": "38b9c69b-6943-42a7-a956-f5d4f568cdb8"
      },
      "execution_count": 75,
      "outputs": [
        {
          "output_type": "stream",
          "name": "stdout",
          "text": [
            "첫 번째 숫자를 입력하세요: 18\n",
            "두 번째 숫자를 입력하세요: 45\n",
            "63\n"
          ]
        }
      ]
    },
    {
      "cell_type": "code",
      "source": [
        "inch = input('인치를 입력하세요 : ')\n",
        "cm = float(inch)*2.54\n",
        "print('센티미터:', cm,\"cm\")"
      ],
      "metadata": {
        "colab": {
          "base_uri": "https://localhost:8080/"
        },
        "id": "yYtLTuSiqbah",
        "outputId": "5ff600e9-3351-43a5-bb8f-4c25fe7c7d80"
      },
      "execution_count": 77,
      "outputs": [
        {
          "output_type": "stream",
          "name": "stdout",
          "text": [
            "인치를 입력하세요 : 3.5\n",
            "센티미터: 8.89 cm\n"
          ]
        }
      ]
    },
    {
      "cell_type": "code",
      "source": [
        "num = input('반지름은? ')\n",
        "num2 = float(num)*2*3.14\n",
        "num3 = float(num)*float(num)*3.14\n",
        "\n",
        "print('반지름이', num,'인 원의 둘레는', round(num2, 2),'이고, 면적은 ', num3.,'이다.')"
      ],
      "metadata": {
        "colab": {
          "base_uri": "https://localhost:8080/"
        },
        "id": "htG9T_h0qzL5",
        "outputId": "a51f51af-c5ee-4fc4-963b-f77c7626d388"
      },
      "execution_count": 84,
      "outputs": [
        {
          "output_type": "stream",
          "name": "stdout",
          "text": [
            "반지름은? 5\n",
            "반지름이 5 인 원의 둘레는 31.4 이고, 면적은  78.5 이다.\n"
          ]
        }
      ]
    },
    {
      "cell_type": "code",
      "source": [
        "high = input('현재 키는? ')\n",
        "lehigh = input('5개월 후의 목표 키는? ')\n",
        "mo = (float(lehigh)-float(high))/5\n",
        "print('한달에', round(mo, 2),\"cm씩 성장해 보세요!\")"
      ],
      "metadata": {
        "colab": {
          "base_uri": "https://localhost:8080/"
        },
        "id": "VnO8SWYIskVj",
        "outputId": "0c4632b9-dee4-42e2-e2b2-1587ac6839d5"
      },
      "execution_count": 90,
      "outputs": [
        {
          "output_type": "stream",
          "name": "stdout",
          "text": [
            "현재 키는? 2\n",
            "5개월 후의 목표 키는? 2\n",
            "한달에 0.0 cm씩 성장해 보세요!\n"
          ]
        }
      ]
    },
    {
      "cell_type": "code",
      "source": [
        "book = input('책 값: ')\n",
        "discount = input('할인율(%): ')\n",
        "delivery = input('배송비: ')\n",
        "total = (float(book)+float(delivery))-float(book)/100*float(discount)\n",
        "print('결제하실 금액은 ', round(total, 2), '원 입니다.')"
      ],
      "metadata": {
        "colab": {
          "base_uri": "https://localhost:8080/"
        },
        "id": "GfFklahqtYk0",
        "outputId": "93614332-eb6f-4ee2-b127-8ab243215679"
      },
      "execution_count": 100,
      "outputs": [
        {
          "output_type": "stream",
          "name": "stdout",
          "text": [
            "책 값: 3000\n",
            "할인율(%): 20\n",
            "배송비: 3000\n",
            "결제하실 금액은  5400.0 원 입니다.\n"
          ]
        }
      ]
    },
    {
      "cell_type": "code",
      "source": [
        "num1 = int(input('첫 번째 과목: '))\n",
        "num2 = int(input('두 번째 과목: '))\n",
        "sum = num1 + num2\n",
        "avg = float(sum)/2\n",
        "print(\"합계:\", sum, \"평균:\", round(avg, 2))"
      ],
      "metadata": {
        "colab": {
          "base_uri": "https://localhost:8080/"
        },
        "id": "dXicBR0Xvo7h",
        "outputId": "d1c5c7db-0bae-4a95-9efc-c5b988ee7c76"
      },
      "execution_count": 103,
      "outputs": [
        {
          "output_type": "stream",
          "name": "stdout",
          "text": [
            "첫 번째 과목: 80\n",
            "두 번째 과목: 96\n",
            "합계: 176 평균: 88.0\n"
          ]
        }
      ]
    },
    {
      "cell_type": "code",
      "source": [
        "mic = input('삼각형의 밑변 길이 : ')\n",
        "high = input('삼각형의 높이 : ')\n",
        "num = float(mic) * float(high)/2\n",
        "print('삼각형의 면적 : ', round(num, 2))"
      ],
      "metadata": {
        "colab": {
          "base_uri": "https://localhost:8080/"
        },
        "id": "eslwvNBcwRpy",
        "outputId": "8a145f2d-95d1-450b-af27-1ea1fa071b54"
      },
      "execution_count": 106,
      "outputs": [
        {
          "output_type": "stream",
          "name": "stdout",
          "text": [
            "삼각형의 밑변 길이 : 105\n",
            "삼각형의 높이 : 5\n",
            "삼각형의 면적 :  262.5\n"
          ]
        }
      ]
    },
    {
      "cell_type": "code",
      "source": [
        "kg = float(input('킬로그램(kg) 입력: '))\n",
        "pound = kg*2.2046\n",
        "print(kg,'kg은', round(pound, 4), '파운드입니다.')"
      ],
      "metadata": {
        "colab": {
          "base_uri": "https://localhost:8080/"
        },
        "id": "6B2shH1Gv-mB",
        "outputId": "13bdc8cf-79ce-4689-b188-6319f87afead"
      },
      "execution_count": 108,
      "outputs": [
        {
          "output_type": "stream",
          "name": "stdout",
          "text": [
            "킬로그램(kg) 입력: 30.5\n",
            "30.5 kg은 67.2403 파운드입니다.\n"
          ]
        }
      ]
    },
    {
      "cell_type": "markdown",
      "source": [
        "# 연산자 p7"
      ],
      "metadata": {
        "id": "W2r9L_S-xRLw"
      }
    },
    {
      "cell_type": "code",
      "source": [
        "print(5+2)\n",
        "print(5-2)\n",
        "print(5*2)\n",
        "print(5/2)\n",
        "print(5**2)\n",
        "print(5//2)\n",
        "print(5%2)\n"
      ],
      "metadata": {
        "colab": {
          "base_uri": "https://localhost:8080/"
        },
        "id": "wTDoKvT6xM5_",
        "outputId": "12cfe4d0-ed57-4007-d916-ddc0f0b1f01d"
      },
      "execution_count": 110,
      "outputs": [
        {
          "output_type": "stream",
          "name": "stdout",
          "text": [
            "7\n",
            "3\n",
            "10\n",
            "2.5\n",
            "25\n",
            "2\n",
            "1\n",
            "7\n"
          ]
        }
      ]
    },
    {
      "cell_type": "code",
      "source": [
        "x = 10 % 3\n",
        "print(x)\n",
        "y = 7//3\n",
        "print(y)"
      ],
      "metadata": {
        "colab": {
          "base_uri": "https://localhost:8080/"
        },
        "id": "5F-6IoFpxn0M",
        "outputId": "618f8008-d8c2-4c46-9dd6-c4647dfe4632"
      },
      "execution_count": 111,
      "outputs": [
        {
          "output_type": "stream",
          "name": "stdout",
          "text": [
            "1\n",
            "2\n"
          ]
        }
      ]
    },
    {
      "cell_type": "code",
      "source": [
        "a = 10\n",
        "b = 20\n",
        "c = a + b * 10 - 5 / 5\n",
        "print(c)"
      ],
      "metadata": {
        "colab": {
          "base_uri": "https://localhost:8080/"
        },
        "id": "K4TDryUvxuiE",
        "outputId": "7bb4d887-3070-42a2-f883-c2cc6524ae00"
      },
      "execution_count": 112,
      "outputs": [
        {
          "output_type": "stream",
          "name": "stdout",
          "text": [
            "209.0\n"
          ]
        }
      ]
    },
    {
      "cell_type": "code",
      "source": [
        "x = 2**3\n",
        "print(x)\n",
        "\n",
        "y = 10**4\n",
        "print(y)"
      ],
      "metadata": {
        "colab": {
          "base_uri": "https://localhost:8080/"
        },
        "id": "e_CWiHCIx2AJ",
        "outputId": "30f3455c-c77f-435d-c666-962b7207f324"
      },
      "execution_count": 113,
      "outputs": [
        {
          "output_type": "stream",
          "name": "stdout",
          "text": [
            "8\n",
            "10000\n"
          ]
        }
      ]
    },
    {
      "cell_type": "code",
      "source": [
        "hello = '안녕 ' * 5\n",
        "print(hello)"
      ],
      "metadata": {
        "colab": {
          "base_uri": "https://localhost:8080/"
        },
        "id": "SbBp4bNHx_Pc",
        "outputId": "3b37f269-ca48-4c39-8912-8aa09ae4943e"
      },
      "execution_count": 114,
      "outputs": [
        {
          "output_type": "stream",
          "name": "stdout",
          "text": [
            "안녕 안녕 안녕 안녕 안녕 \n"
          ]
        }
      ]
    },
    {
      "cell_type": "code",
      "source": [
        "s1 = \"대한민국\"\n",
        "s2 = \"만세\"\n",
        "print(s1+s2)\n",
        "print(s1*5)"
      ],
      "metadata": {
        "colab": {
          "base_uri": "https://localhost:8080/"
        },
        "id": "J-JG7gN6yIs0",
        "outputId": "323abe22-9f5c-46fb-8651-9e5edaffcc88"
      },
      "execution_count": 115,
      "outputs": [
        {
          "output_type": "stream",
          "name": "stdout",
          "text": [
            "대한민국만세\n",
            "대한민국대한민국대한민국대한민국대한민국\n"
          ]
        }
      ]
    },
    {
      "cell_type": "code",
      "source": [
        "print(\"korea\"+str(2021))\n",
        "print(110+int(22))\n",
        "print(10 + int(22.5))\n",
        "print(10 + int(float(22.5)))\n",
        "print(\"korea\"+2021)"
      ],
      "metadata": {
        "colab": {
          "base_uri": "https://localhost:8080/",
          "height": 284
        },
        "id": "4qxUiUWRyX8p",
        "outputId": "79dfcacb-d1cc-45e6-d8b8-ff9bbcfd7c0e"
      },
      "execution_count": 116,
      "outputs": [
        {
          "output_type": "stream",
          "name": "stdout",
          "text": [
            "korea2021\n",
            "132\n",
            "32\n",
            "32\n"
          ]
        },
        {
          "output_type": "error",
          "ename": "TypeError",
          "evalue": "ignored",
          "traceback": [
            "\u001b[0;31m---------------------------------------------------------------------------\u001b[0m",
            "\u001b[0;31mTypeError\u001b[0m                                 Traceback (most recent call last)",
            "\u001b[0;32m<ipython-input-116-5716c22ee287>\u001b[0m in \u001b[0;36m<module>\u001b[0;34m\u001b[0m\n\u001b[1;32m      3\u001b[0m \u001b[0mprint\u001b[0m\u001b[0;34m(\u001b[0m\u001b[0;36m10\u001b[0m \u001b[0;34m+\u001b[0m \u001b[0mint\u001b[0m\u001b[0;34m(\u001b[0m\u001b[0;36m22.5\u001b[0m\u001b[0;34m)\u001b[0m\u001b[0;34m)\u001b[0m\u001b[0;34m\u001b[0m\u001b[0;34m\u001b[0m\u001b[0m\n\u001b[1;32m      4\u001b[0m \u001b[0mprint\u001b[0m\u001b[0;34m(\u001b[0m\u001b[0;36m10\u001b[0m \u001b[0;34m+\u001b[0m \u001b[0mint\u001b[0m\u001b[0;34m(\u001b[0m\u001b[0mfloat\u001b[0m\u001b[0;34m(\u001b[0m\u001b[0;36m22.5\u001b[0m\u001b[0;34m)\u001b[0m\u001b[0;34m)\u001b[0m\u001b[0;34m)\u001b[0m\u001b[0;34m\u001b[0m\u001b[0;34m\u001b[0m\u001b[0m\n\u001b[0;32m----> 5\u001b[0;31m \u001b[0mprint\u001b[0m\u001b[0;34m(\u001b[0m\u001b[0;34m\"korea\"\u001b[0m\u001b[0;34m+\u001b[0m\u001b[0;36m2021\u001b[0m\u001b[0;34m)\u001b[0m\u001b[0;34m\u001b[0m\u001b[0;34m\u001b[0m\u001b[0m\n\u001b[0m",
            "\u001b[0;31mTypeError\u001b[0m: can only concatenate str (not \"int\") to str"
          ]
        }
      ]
    },
    {
      "cell_type": "code",
      "source": [
        "x = 10\n",
        "x += 20\n",
        "print(x)"
      ],
      "metadata": {
        "colab": {
          "base_uri": "https://localhost:8080/"
        },
        "id": "u2YBDR3CysRh",
        "outputId": "f40728d2-a9f0-4dbe-b94b-f80d3a71dbe8"
      },
      "execution_count": 118,
      "outputs": [
        {
          "output_type": "stream",
          "name": "stdout",
          "text": [
            "30\n"
          ]
        }
      ]
    },
    {
      "cell_type": "code",
      "source": [
        "a = 5\n",
        "a = a+1\n",
        "print(a)\n",
        "\n",
        "a=5\n",
        "a +=1\n",
        "print(a)\n",
        "\n",
        "a -= 5\n",
        "print(a)\n",
        "\n",
        "a*=2\n",
        "print(a)"
      ],
      "metadata": {
        "colab": {
          "base_uri": "https://localhost:8080/"
        },
        "id": "xMT7FZVhy090",
        "outputId": "ed12cd32-f86d-40ca-f254-8c0a4c6b31fc"
      },
      "execution_count": 119,
      "outputs": [
        {
          "output_type": "stream",
          "name": "stdout",
          "text": [
            "6\n",
            "6\n",
            "1\n",
            "2\n"
          ]
        }
      ]
    },
    {
      "cell_type": "code",
      "source": [
        "x = 3\n",
        "y = 5\n",
        "x *= x+y\n",
        "print(x)"
      ],
      "metadata": {
        "colab": {
          "base_uri": "https://localhost:8080/"
        },
        "id": "QHreK1iezWnQ",
        "outputId": "442bd10f-0289-41a9-b5ef-5065f1364170"
      },
      "execution_count": 120,
      "outputs": [
        {
          "output_type": "stream",
          "name": "stdout",
          "text": [
            "24\n"
          ]
        }
      ]
    },
    {
      "cell_type": "markdown",
      "source": [
        "##연산자복습"
      ],
      "metadata": {
        "id": "xtgH_KVd2o1A"
      }
    },
    {
      "cell_type": "code",
      "source": [
        "money = int(input('투입한 돈: '))\n",
        "price = int(input('물건 값: '))\n",
        "change = money-price\n",
        "five = change // 500\n",
        "one = (change-five*500) // 100\n",
        "print('거스름돈', change)\n",
        "print('500원 동전의 개수:', five)\n",
        "print('100원 동전의 개수', one);"
      ],
      "metadata": {
        "colab": {
          "base_uri": "https://localhost:8080/"
        },
        "id": "0MmCB92c2qTI",
        "outputId": "2671be7c-7f0d-437e-af22-456b692b7d8a"
      },
      "execution_count": 123,
      "outputs": [
        {
          "output_type": "stream",
          "name": "stdout",
          "text": [
            "투입한 돈: 2500\n",
            "물건 값: 300\n",
            "거스름돈 2200\n",
            "500원 동전의 개수:  4\n",
            "100원 동전의 개수 2\n"
          ]
        }
      ]
    }
  ]
}