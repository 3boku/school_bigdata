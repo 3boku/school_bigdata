{
  "nbformat": 4,
  "nbformat_minor": 0,
  "metadata": {
    "colab": {
      "provenance": [],
      "authorship_tag": "ABX9TyPwMMxmQdQIvEhTKROdPGyz",
      "include_colab_link": true
    },
    "kernelspec": {
      "name": "python3",
      "display_name": "Python 3"
    },
    "language_info": {
      "name": "python"
    }
  },
  "cells": [
    {
      "cell_type": "markdown",
      "metadata": {
        "id": "view-in-github",
        "colab_type": "text"
      },
      "source": [
        "<a href=\"https://colab.research.google.com/github/sambok23/school_bigdata/blob/main/20615%EC%A0%95%ED%98%84%EC%84%9C_dict.ipynb\" target=\"_parent\"><img src=\"https://colab.research.google.com/assets/colab-badge.svg\" alt=\"Open In Colab\"/></a>"
      ]
    },
    {
      "cell_type": "code",
      "execution_count": 3,
      "metadata": {
        "colab": {
          "base_uri": "https://localhost:8080/"
        },
        "id": "3f7uB_onQSjU",
        "outputId": "3f959a52-c11c-4be5-bd8e-7b33cd39cf61"
      },
      "outputs": [
        {
          "output_type": "stream",
          "name": "stdout",
          "text": [
            "<class 'list'>\n",
            "(1, 2, 3, 4, 5)\n",
            "<class 'tuple'>\n",
            "[1, 2, 3, 4, 5]\n",
            "<class 'list'>\n"
          ]
        }
      ],
      "source": [
        "score = [1,2,3,4,5]\n",
        "print(type(score))\n",
        "tu=tuple(score)\n",
        "print(tu)\n",
        "print(type(tu))\n",
        "li=list(tu)\n",
        "print(li)\n",
        "print(type(li))"
      ]
    },
    {
      "cell_type": "code",
      "source": [
        "dic = { 'boy':'소년', 'school':'학교', 'book':'책'}\n",
        "print(dic)\n",
        "print(type(dic))\n",
        "print(dic['boy'])\n",
        "print(dic['school'])"
      ],
      "metadata": {
        "colab": {
          "base_uri": "https://localhost:8080/"
        },
        "id": "AxVmh_z5TL4E",
        "outputId": "dd2b0913-b0c1-4b7c-e55a-73ac9e14ea74"
      },
      "execution_count": 8,
      "outputs": [
        {
          "output_type": "stream",
          "name": "stdout",
          "text": [
            "{'boy': '소년', 'school': '학교', 'book': '책'}\n",
            "<class 'dict'>\n",
            "소년\n",
            "학교\n"
          ]
        }
      ]
    },
    {
      "cell_type": "code",
      "source": [
        "print(dic.keys())\n",
        "print(type(dic.keys()))\n",
        "print(dic.values())\n",
        "print(type(dic.values()))\n",
        "print(dic.items())\n",
        "print(type(dic.items()))"
      ],
      "metadata": {
        "colab": {
          "base_uri": "https://localhost:8080/"
        },
        "id": "E34EYU3STwHj",
        "outputId": "39a87413-57b4-4b41-c6ff-4ae60f82e693"
      },
      "execution_count": 12,
      "outputs": [
        {
          "output_type": "stream",
          "name": "stdout",
          "text": [
            "dict_keys(['boy', 'school', 'book'])\n",
            "<class 'dict_keys'>\n",
            "dict_values(['소년', '학교', '책'])\n",
            "<class 'dict_values'>\n",
            "dict_items([('boy', '소년'), ('school', '학교'), ('book', '책')])\n",
            "<class 'dict_items'>\n"
          ]
        }
      ]
    },
    {
      "cell_type": "code",
      "source": [
        "dic1 = sorted(dic)\n",
        "print(dic1)"
      ],
      "metadata": {
        "colab": {
          "base_uri": "https://localhost:8080/"
        },
        "id": "HiKXkLiRUWYv",
        "outputId": "e2a66acf-7b02-42e8-e977-e995dc901517"
      },
      "execution_count": 13,
      "outputs": [
        {
          "output_type": "stream",
          "name": "stdout",
          "text": [
            "['book', 'boy', 'school']\n",
            "{'boy': '소년', 'school': '학교', 'book': '책'}\n"
          ]
        }
      ]
    },
    {
      "cell_type": "code",
      "source": [
        "dic2 = sorted(dic.keys())\n",
        "print(dic2)"
      ],
      "metadata": {
        "colab": {
          "base_uri": "https://localhost:8080/"
        },
        "id": "3C4PQHNLVNg8",
        "outputId": "321d9d72-7e2e-4eb7-e1fd-4f5c7b7f1658"
      },
      "execution_count": 16,
      "outputs": [
        {
          "output_type": "stream",
          "name": "stdout",
          "text": [
            "['book', 'boy', 'school']\n"
          ]
        }
      ]
    },
    {
      "cell_type": "code",
      "source": [
        "dic3 = sorted(dic.values())\n",
        "print(dic3)"
      ],
      "metadata": {
        "colab": {
          "base_uri": "https://localhost:8080/"
        },
        "id": "yYe8DufQVgqG",
        "outputId": "c0e15583-2c8b-4ee3-90b2-db619edce0ef"
      },
      "execution_count": 14,
      "outputs": [
        {
          "output_type": "stream",
          "name": "stdout",
          "text": [
            "['소년', '책', '학교']\n"
          ]
        }
      ]
    },
    {
      "cell_type": "code",
      "source": [
        "dic4= sorted(dic.keys(), reverse=True)\n",
        "print(dic4)"
      ],
      "metadata": {
        "colab": {
          "base_uri": "https://localhost:8080/"
        },
        "id": "TmTTyUheZBx0",
        "outputId": "1f297cd9-78a4-4be8-fffe-ab7af3612c2d"
      },
      "execution_count": 17,
      "outputs": [
        {
          "output_type": "stream",
          "name": "stdout",
          "text": [
            "['school', 'boy', 'book']\n"
          ]
        }
      ]
    },
    {
      "cell_type": "code",
      "source": [
        "dic5 = sorted(dic.values(), reverse=True)\n",
        "print(dic5)"
      ],
      "metadata": {
        "colab": {
          "base_uri": "https://localhost:8080/"
        },
        "id": "I8xs4OrxZHqz",
        "outputId": "a0a30bc9-8bfa-4c17-d5bf-3087e3488020"
      },
      "execution_count": 18,
      "outputs": [
        {
          "output_type": "stream",
          "name": "stdout",
          "text": [
            "['학교', '책', '소년']\n"
          ]
        }
      ]
    },
    {
      "cell_type": "code",
      "source": [
        "dic6 = sorted(dic.items())\n",
        "print(dic6)"
      ],
      "metadata": {
        "colab": {
          "base_uri": "https://localhost:8080/"
        },
        "id": "3UhyGIG9ZTKz",
        "outputId": "3dce0d8d-f76c-4cea-bd36-9ccf3071675b"
      },
      "execution_count": 19,
      "outputs": [
        {
          "output_type": "stream",
          "name": "stdout",
          "text": [
            "[('book', '책'), ('boy', '소년'), ('school', '학교')]\n"
          ]
        }
      ]
    },
    {
      "cell_type": "code",
      "source": [
        "dic7 = sorted(dic.items(), reverse=True)\n",
        "print(dic7)"
      ],
      "metadata": {
        "colab": {
          "base_uri": "https://localhost:8080/"
        },
        "id": "-eeh_sF0ZZ5z",
        "outputId": "95d5825a-5cdf-4c58-d9a1-f07eac7b3165"
      },
      "execution_count": 20,
      "outputs": [
        {
          "output_type": "stream",
          "name": "stdout",
          "text": [
            "[('school', '학교'), ('boy', '소년'), ('book', '책')]\n"
          ]
        }
      ]
    },
    {
      "cell_type": "code",
      "source": [
        "import operator\n",
        "\n",
        "dic8 = sorted(dic.items(), key=operator.itemgetter(1), reverse=True)\n",
        "print(dic8)"
      ],
      "metadata": {
        "colab": {
          "base_uri": "https://localhost:8080/"
        },
        "id": "mIsn4Xm7Zg82",
        "outputId": "b57ce055-86f4-4178-9e39-a3b691dc6011"
      },
      "execution_count": 23,
      "outputs": [
        {
          "output_type": "stream",
          "name": "stdout",
          "text": [
            "[('school', '학교'), ('book', '책'), ('boy', '소년')]\n"
          ]
        }
      ]
    },
    {
      "cell_type": "code",
      "source": [
        "dic = { 'boy':'소년', 'school':'학교', 'book':'책'}\n",
        "\n",
        "for k in dic:\n",
        "  print(k)"
      ],
      "metadata": {
        "colab": {
          "base_uri": "https://localhost:8080/"
        },
        "id": "8hN4YGCyZ5e1",
        "outputId": "dea6c3ce-68a7-48f7-f64e-09145fb2c621"
      },
      "execution_count": 24,
      "outputs": [
        {
          "output_type": "stream",
          "name": "stdout",
          "text": [
            "boy\n",
            "school\n",
            "book\n"
          ]
        }
      ]
    },
    {
      "cell_type": "code",
      "source": [
        "dic = { 'boy':'소년', 'school':'학교', 'book':'책'}\n",
        "\n",
        "for k in dic.keys():\n",
        "  print(k)"
      ],
      "metadata": {
        "colab": {
          "base_uri": "https://localhost:8080/"
        },
        "id": "9rrc7drUaN_a",
        "outputId": "411d25f5-2448-495e-9558-6a16aa8c734f"
      },
      "execution_count": 26,
      "outputs": [
        {
          "output_type": "stream",
          "name": "stdout",
          "text": [
            "boy\n",
            "school\n",
            "book\n"
          ]
        }
      ]
    },
    {
      "cell_type": "code",
      "source": [
        "dic = { 'boy':'소년', 'school':'학교', 'book':'책'}\n",
        "\n",
        "for k, i in dic.items():\n",
        "  print(k, i)\n",
        "  print(type(k), type(i))"
      ],
      "metadata": {
        "colab": {
          "base_uri": "https://localhost:8080/"
        },
        "id": "bgUt6jUcaRiK",
        "outputId": "48a524b9-e356-457b-ac40-b757a628ef6b"
      },
      "execution_count": 30,
      "outputs": [
        {
          "output_type": "stream",
          "name": "stdout",
          "text": [
            "boy 소년\n",
            "<class 'str'> <class 'str'>\n",
            "school 학교\n",
            "<class 'str'> <class 'str'>\n",
            "book 책\n",
            "<class 'str'> <class 'str'>\n"
          ]
        }
      ]
    },
    {
      "cell_type": "code",
      "source": [],
      "metadata": {
        "id": "TJzIRC3za3aA"
      },
      "execution_count": null,
      "outputs": []
    }
  ]
}