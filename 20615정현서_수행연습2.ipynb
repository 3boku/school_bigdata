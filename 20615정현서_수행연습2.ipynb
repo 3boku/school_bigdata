{
  "nbformat": 4,
  "nbformat_minor": 0,
  "metadata": {
    "colab": {
      "provenance": [],
      "authorship_tag": "ABX9TyPfByNDezyS0zrY/0acd9/A",
      "include_colab_link": true
    },
    "kernelspec": {
      "name": "python3",
      "display_name": "Python 3"
    },
    "language_info": {
      "name": "python"
    }
  },
  "cells": [
    {
      "cell_type": "markdown",
      "metadata": {
        "id": "view-in-github",
        "colab_type": "text"
      },
      "source": [
        "<a href=\"https://colab.research.google.com/github/NANONANDFLASH/school_bigdata/blob/main/20615%EC%A0%95%ED%98%84%EC%84%9C_%EC%88%98%ED%96%89%EC%97%B0%EC%8A%B52.ipynb\" target=\"_parent\"><img src=\"https://colab.research.google.com/assets/colab-badge.svg\" alt=\"Open In Colab\"/></a>"
      ]
    },
    {
      "cell_type": "code",
      "execution_count": 4,
      "metadata": {
        "colab": {
          "base_uri": "https://localhost:8080/"
        },
        "id": "I5yrMe_JAZXN",
        "outputId": "00038499-27f2-4e99-93fd-9c09f95bbc76"
      },
      "outputs": [
        {
          "output_type": "stream",
          "name": "stdout",
          "text": [
            "토끼\n",
            "거북이\n",
            "사자\n",
            "호랑이\n"
          ]
        }
      ],
      "source": [
        "#p23_ex8\n",
        "\n",
        "animals = ['토끼', '거북이', '사자', '호랑이']\n",
        "\n",
        "for i in range(len(animals)):\n",
        "  print(animals[i])"
      ]
    },
    {
      "cell_type": "code",
      "source": [
        "#p24_ex19\n",
        "\n",
        "nums = [1,2,3,4]\n",
        "nums.append(5);\n",
        "print(nums)\n",
        "\n",
        "nums.insert(2, 99)\n",
        "print(nums)"
      ],
      "metadata": {
        "colab": {
          "base_uri": "https://localhost:8080/"
        },
        "id": "BBjkr71XCDV5",
        "outputId": "c0ebb556-b1f3-450c-8edc-28a5c862be23"
      },
      "execution_count": 6,
      "outputs": [
        {
          "output_type": "stream",
          "name": "stdout",
          "text": [
            "[1, 2, 3, 4, 5]\n",
            "[1, 2, 99, 3, 4, 5]\n"
          ]
        }
      ]
    },
    {
      "cell_type": "code",
      "source": [
        "#p24_ex20\n",
        "\n",
        "list1 = [1,2,3,4,5]\n",
        "list2 = [10, 11]\n",
        "list1.extend(list2)\n",
        "print(list1)"
      ],
      "metadata": {
        "colab": {
          "base_uri": "https://localhost:8080/"
        },
        "id": "h_IpwSCECbvt",
        "outputId": "49cc2e17-2440-4d7c-957d-2e442f893a1a"
      },
      "execution_count": 8,
      "outputs": [
        {
          "output_type": "stream",
          "name": "stdout",
          "text": [
            "[1, 2, 3, 4, 5, 10, 11]\n"
          ]
        }
      ]
    },
    {
      "cell_type": "code",
      "source": [
        "#p24_ex21\n",
        "\n",
        "score = [88, 95, 70, 100, 99]\n",
        "print(\"100의 위치:\", score.index(100)+1)\n",
        "\n",
        "print(score.pop())\n",
        "print(score.pop())\n",
        "print(score.pop(1))\n",
        "print(score)"
      ],
      "metadata": {
        "colab": {
          "base_uri": "https://localhost:8080/"
        },
        "id": "7f1s3MfLCoja",
        "outputId": "ebcf7c50-ae8e-4d8d-a195-d8fce2f3c50f"
      },
      "execution_count": 14,
      "outputs": [
        {
          "output_type": "stream",
          "name": "stdout",
          "text": [
            "100의 위치: 4\n",
            "99\n",
            "100\n",
            "95\n",
            "[88, 70]\n"
          ]
        }
      ]
    },
    {
      "cell_type": "code",
      "source": [
        "#p24_ex22\n",
        "\n",
        "score = [88, 95, 70, 100, 99]\n",
        "\n",
        "score.remove(99)\n",
        "print(\"99 삭제 후: \", score)\n",
        "\n",
        "score.sort()\n",
        "print(\"리스트 정렬 후: \", score)\n",
        "\n",
        "score.reverse()\n",
        "print(\"거꾸로 정렬: \", score)\n",
        "\n",
        "score.clear()\n",
        "print(\"리스트 삭제 후: \", score)"
      ],
      "metadata": {
        "colab": {
          "base_uri": "https://localhost:8080/"
        },
        "id": "ikvWOCi3DQWQ",
        "outputId": "2973af97-a7a3-4f2f-ba42-b3560a87e386"
      },
      "execution_count": 15,
      "outputs": [
        {
          "output_type": "stream",
          "name": "stdout",
          "text": [
            "99 삭제 후:  [88, 95, 70, 100]\n",
            "리스트 정렬 후:  [70, 88, 95, 100]\n",
            "거꾸로 정렬:  [100, 95, 88, 70]\n",
            "리스트 삭제 후:  []\n"
          ]
        }
      ]
    },
    {
      "cell_type": "code",
      "source": [
        "#P24_ex23\n",
        "\n",
        "list1 = ['a', 'bb', 'c', 'd', 'aaa', 'c', 'ddd', 'aaa', 'b', 'cc', 'd', 'aaa']\n",
        "lengh = list1.count('aaa')\n",
        "print(lengh)"
      ],
      "metadata": {
        "colab": {
          "base_uri": "https://localhost:8080/"
        },
        "id": "TPkvX920FEuF",
        "outputId": "59990cc3-2f76-4c98-a5d7-5f8efe7765e0"
      },
      "execution_count": 18,
      "outputs": [
        {
          "output_type": "stream",
          "name": "stdout",
          "text": [
            "3\n"
          ]
        }
      ]
    },
    {
      "cell_type": "code",
      "source": [
        "#p24_ex24\n",
        "mylist = ['사과', '바나나', '파인애플']\n",
        "mylist.append('키위')\n",
        "mylist.append('배')\n",
        "for a in mylist:\n",
        "  print(a)"
      ],
      "metadata": {
        "colab": {
          "base_uri": "https://localhost:8080/"
        },
        "id": "6Guucp-gFYfm",
        "outputId": "420202d9-73f7-4e4a-98b2-e1ddd9c35adc"
      },
      "execution_count": 20,
      "outputs": [
        {
          "output_type": "stream",
          "name": "stdout",
          "text": [
            "사과\n",
            "바나나\n",
            "파인애플\n",
            "키위\n",
            "배\n"
          ]
        }
      ]
    },
    {
      "cell_type": "code",
      "source": [
        "#p25_ex29\n",
        "emails = [['kim', 'naver.com'], ['hwang', 'hanmil.net'], ['lee', 'korea.com'], ['choi', 'gmail.com']]\n",
        "\n",
        "email_new = []\n",
        "for email in emails:\n",
        "  email_new.append(email[0] + '@' + email[1])\n",
        "\n",
        "print(email_new)\n"
      ],
      "metadata": {
        "colab": {
          "base_uri": "https://localhost:8080/"
        },
        "id": "udddstxSFmId",
        "outputId": "e194e1dd-d186-416a-cd20-a821f892b2fb"
      },
      "execution_count": 26,
      "outputs": [
        {
          "output_type": "stream",
          "name": "stdout",
          "text": [
            "['kim@naver.com', 'hwang@hanmil.net', 'lee@korea.com', 'choi@gmail.com']\n"
          ]
        }
      ]
    },
    {
      "cell_type": "code",
      "source": [
        "#p26_ex31\n",
        "\n",
        "score = [ 1,3, 5, 7, 9, 11, 13]\n",
        "cnt = 0\n",
        "for num in score:\n",
        "  if num<10:\n",
        "    cnt+=1\n",
        "    print(num, end=' ')\n",
        "print('\\n10보다 작은 수의 개수: ', cnt)"
      ],
      "metadata": {
        "colab": {
          "base_uri": "https://localhost:8080/"
        },
        "id": "PODVs1uaGG2C",
        "outputId": "81bfe5a3-09a7-455b-b060-e7dfd631d314"
      },
      "execution_count": 28,
      "outputs": [
        {
          "output_type": "stream",
          "name": "stdout",
          "text": [
            "1 3 5 7 9 \n",
            "10보다 작은 수의 개수:  5\n"
          ]
        }
      ]
    },
    {
      "cell_type": "code",
      "source": [
        "#p26_ex33\n",
        "\n",
        "subjects = []\n",
        "sum = 0\n",
        "avg = 0\n",
        "\n",
        "for i in range(5):\n",
        "  subject = int(input('성적 입력: '))\n",
        "  subjects.append(subject)\n",
        "  sum += subject\n",
        "\n",
        "avg = sum / 5.0\n",
        "\n",
        "print(subjects)\n",
        "print('총점은 %d이고 평균은 %.1f입니다.' % (sum, avg))\n"
      ],
      "metadata": {
        "colab": {
          "base_uri": "https://localhost:8080/"
        },
        "id": "0HbAY6DhG1YR",
        "outputId": "09cd0f6f-f8d2-431f-9600-f765bd8de6da"
      },
      "execution_count": 31,
      "outputs": [
        {
          "output_type": "stream",
          "name": "stdout",
          "text": [
            "성적 입력: 59\n",
            "성적 입력: 66\n",
            "성적 입력: 76\n",
            "성적 입력: 82\n",
            "성적 입력: 79\n",
            "[59, 66, 76, 82, 79]\n",
            "총점은 362이고 평균은 72.4입니다.\n"
          ]
        }
      ]
    },
    {
      "cell_type": "code",
      "source": [
        "#p28_ex41\n",
        "data = [[10, 20, 30], [40, 50], [60,70,80,90]]\n",
        "print(data)\n",
        "\n",
        "for i in range(len(data)):\n",
        "  print(data[i][0])"
      ],
      "metadata": {
        "colab": {
          "base_uri": "https://localhost:8080/"
        },
        "id": "ZP4LEV_sHnnx",
        "outputId": "c735c901-07df-4209-d122-d5fa995ee9b0"
      },
      "execution_count": 33,
      "outputs": [
        {
          "output_type": "stream",
          "name": "stdout",
          "text": [
            "[[10, 20, 30], [40, 50], [60, 70, 80, 90]]\n",
            "10\n",
            "40\n",
            "60\n"
          ]
        }
      ]
    },
    {
      "cell_type": "code",
      "source": [
        "#p28_ex42\n",
        "\n",
        "score = [\n",
        "    [88, 76, 92, 98],\n",
        "    [65, 70, 58, 82],\n",
        "    [82, 80, 78, 88]\n",
        "]\n",
        "total = 0\n",
        "totalsub = 0\n",
        "\n",
        "for i in range(len(score)):\n",
        "  total = score[i][0] + score[i][1] + score[i][2] + score[i][3]\n",
        "  totalsub = total / 4\n",
        "  print('총점 %d 평균 %.2f' % (total, totalsub))\n",
        "  total = 0\n",
        "  totalsub = 0\n"
      ],
      "metadata": {
        "colab": {
          "base_uri": "https://localhost:8080/"
        },
        "id": "q2GN50JTH5tG",
        "outputId": "82430c42-75b9-40d3-9aed-028df6e44b08"
      },
      "execution_count": 35,
      "outputs": [
        {
          "output_type": "stream",
          "name": "stdout",
          "text": [
            "총점 354 평균 88.50\n",
            "총점 275 평균 68.75\n",
            "총점 328 평균 82.00\n"
          ]
        }
      ]
    },
    {
      "cell_type": "code",
      "source": [
        "#p26_ex32\n",
        "\n",
        "question = ['tr_in', 'b_s', '_axi', 'air_lane']\n",
        "answer = ['a', 'u', 't', 'p']\n",
        "count = 0\n",
        "for i in range(4):\n",
        "  q = '%s에서 밑줄(_) 안에 들어갈 알파벳은?'%question[i]\n",
        "  ans = input(q)\n",
        "  if ans == answer[i]:\n",
        "    print('정답입니다!')\n",
        "    count+=1\n",
        "  else:\n",
        "    print('틀렸습니다!')\n",
        "print('당신의 점수는 %d/4 입니다.'%count)"
      ],
      "metadata": {
        "colab": {
          "base_uri": "https://localhost:8080/"
        },
        "id": "u0UxHfw9JM0u",
        "outputId": "2248fc19-5455-406e-ce3d-de2367b1eb9f"
      },
      "execution_count": 37,
      "outputs": [
        {
          "output_type": "stream",
          "name": "stdout",
          "text": [
            "tr_in에서 밑줄(_) 안에 들어갈 알파벳은?a\n",
            "정답입니다!\n",
            "b_s에서 밑줄(_) 안에 들어갈 알파벳은?u\n",
            "정답입니다!\n",
            "_axi에서 밑줄(_) 안에 들어갈 알파벳은?t\n",
            "정답입니다!\n",
            "air_lane에서 밑줄(_) 안에 들어갈 알파벳은?p\n",
            "정답입니다!\n",
            "당신의 점수는 0/4 입니다.\n"
          ]
        }
      ]
    },
    {
      "cell_type": "code",
      "source": [
        "#p29_ex45\n",
        "\n",
        "scores = [\n",
        "    [96, 84, 80],\n",
        "    [96, 86, 76],\n",
        "    [76, 95, 83],\n",
        "    [89, 96, 69],\n",
        "    [83, 86, 79],\n",
        "    [85, 90, 83]\n",
        "]\n",
        "sum = 0\n",
        "avg = 0\n",
        "for i in range(len(scores)):\n",
        "  sum = scores[i][0] + scores[i][1] + scores[i][2]\n",
        "  avg = sum / 3\n",
        "  print('%d번째 학생의 합계 : %d, %.2f'%(i, sum, avg))"
      ],
      "metadata": {
        "colab": {
          "base_uri": "https://localhost:8080/"
        },
        "id": "IbjnUMASKA4u",
        "outputId": "58dcc966-78d5-417c-e685-4c00150c24bc"
      },
      "execution_count": 40,
      "outputs": [
        {
          "output_type": "stream",
          "name": "stdout",
          "text": [
            "0번째 학생의 합계 : 260, 86.67\n",
            "1번째 학생의 합계 : 258, 86.00\n",
            "2번째 학생의 합계 : 254, 84.67\n",
            "3번째 학생의 합계 : 254, 84.67\n",
            "4번째 학생의 합계 : 248, 82.67\n",
            "5번째 학생의 합계 : 258, 86.00\n"
          ]
        }
      ]
    },
    {
      "cell_type": "code",
      "source": [
        "#p29_ex48\n",
        "\n",
        "li = []\n",
        "for n in range(1, 10):\n",
        "  n*=n\n",
        "  if n%3==0:\n",
        "    li.append(n)\n",
        "print(li)"
      ],
      "metadata": {
        "colab": {
          "base_uri": "https://localhost:8080/"
        },
        "id": "9x7UpARHKsdm",
        "outputId": "257adbb0-adb3-414f-9b15-6230f22d3a50"
      },
      "execution_count": 46,
      "outputs": [
        {
          "output_type": "stream",
          "name": "stdout",
          "text": [
            "[9, 36, 81]\n"
          ]
        }
      ]
    },
    {
      "cell_type": "code",
      "source": [
        "#p29_ex49\n",
        "numbers = [1,2,3,4,5]\n",
        "result = []\n",
        "for n in numbers:\n",
        "  if n % 2 ==1:\n",
        "    result.append(n*2)\n",
        "print(result)"
      ],
      "metadata": {
        "colab": {
          "base_uri": "https://localhost:8080/"
        },
        "id": "AfW0B-M5LIAz",
        "outputId": "39b9ce78-7175-4110-db12-11147e708e46"
      },
      "execution_count": 47,
      "outputs": [
        {
          "output_type": "stream",
          "name": "stdout",
          "text": [
            "[2, 6, 10]\n"
          ]
        }
      ]
    },
    {
      "cell_type": "code",
      "source": [
        "#p30_문제2\n",
        "\n",
        "for i in [1,2,3]:\n",
        "  print(['a'*i, 'b'*i, 'c'*i])"
      ],
      "metadata": {
        "colab": {
          "base_uri": "https://localhost:8080/"
        },
        "id": "b4C3iu6nLCXK",
        "outputId": "f8ff8bf2-6f1a-46d7-ddfa-93864b76f575"
      },
      "execution_count": 50,
      "outputs": [
        {
          "output_type": "stream",
          "name": "stdout",
          "text": [
            "['a', 'b', 'c']\n",
            "['aa', 'bb', 'cc']\n",
            "['aaa', 'bbb', 'ccc']\n"
          ]
        }
      ]
    },
    {
      "cell_type": "code",
      "source": [
        "#p31_ex8\n",
        "sentence = input('문장을 입력해 주세요: ')\n",
        "i = len(sentence) - 1\n",
        "\n",
        "while i >= 0:\n",
        "    print(sentence[i], end=\"\")\n",
        "    i -= 1"
      ],
      "metadata": {
        "colab": {
          "base_uri": "https://localhost:8080/"
        },
        "id": "g8vN8q92Lvdi",
        "outputId": "3d38d283-15c8-42d3-a0d6-0b32b5a4542b"
      },
      "execution_count": 51,
      "outputs": [
        {
          "output_type": "stream",
          "name": "stdout",
          "text": [
            "문장을 입력해 주세요: Enjoy your life!\n",
            "!efil ruoy yojnE"
          ]
        }
      ]
    },
    {
      "cell_type": "code",
      "source": [
        "#p31_ex14\n",
        "jumin = \"901231-1914983\"\n",
        "year = jumin[:2]\n",
        "\n",
        "if jumin[7] == '2':\n",
        "  gender = '여자'\n",
        "else:\n",
        "  gender = '남자'\n",
        "print(f'{year}년생 {gender}입니다.')"
      ],
      "metadata": {
        "colab": {
          "base_uri": "https://localhost:8080/"
        },
        "id": "4LJbujTRMSe6",
        "outputId": "28ea2e1a-73d9-4c05-fd79-a5a3c4973472"
      },
      "execution_count": 53,
      "outputs": [
        {
          "output_type": "stream",
          "name": "stdout",
          "text": [
            "90년생 남자입니다.\n"
          ]
        }
      ]
    },
    {
      "cell_type": "code",
      "source": [
        "#p32_ex17\n",
        "BTS = '정국, 진, 뷔, 슈가, 지민, RM, 제이홉'\n",
        "BTS_member = BTS.split(', ')\n",
        "print('방탄 멤버: ', BTS_member)\n",
        "\n",
        "for member in BTS_member:\n",
        "  print(member + ' 사랑해')\n"
      ],
      "metadata": {
        "colab": {
          "base_uri": "https://localhost:8080/"
        },
        "id": "wQYIYSAkNA2O",
        "outputId": "bc1ddf22-52ee-4e99-d1b9-27e329376000"
      },
      "execution_count": 57,
      "outputs": [
        {
          "output_type": "stream",
          "name": "stdout",
          "text": [
            "방탄 멤버:  ['정국', '진', '뷔', '슈가', '지민', 'RM', '제이홉']\n",
            "정국 사랑해\n",
            "진 사랑해\n",
            "뷔 사랑해\n",
            "슈가 사랑해\n",
            "지민 사랑해\n",
            "RM 사랑해\n",
            "제이홉 사랑해\n"
          ]
        }
      ]
    },
    {
      "cell_type": "code",
      "source": [
        "#p32_ex18\n",
        "file_names = ['file1.py', 'file2.txt', 'file3.pptx', 'file4.doc']\n",
        "\n",
        "for i in range(len(file_names)):\n",
        "    name, extension = file_names[i].split('.')\n",
        "    print(file_names[i], '=> 파일명:', name, '확장자:', extension)"
      ],
      "metadata": {
        "colab": {
          "base_uri": "https://localhost:8080/"
        },
        "id": "P5zAik2SOEdt",
        "outputId": "3daa0374-6c51-49eb-8271-16aa57ef84be"
      },
      "execution_count": 60,
      "outputs": [
        {
          "output_type": "stream",
          "name": "stdout",
          "text": [
            "file1.py => 파일명: file1 확장자: py\n",
            "file2.txt => 파일명: file2 확장자: txt\n",
            "file3.pptx => 파일명: file3 확장자: pptx\n",
            "file4.doc => 파일명: file4 확장자: doc\n"
          ]
        }
      ]
    },
    {
      "cell_type": "code",
      "source": [
        "#p32_ex19\n",
        "sentence = input('문자열 입력: ')\n",
        "a = sentence.split(' ')\n",
        "for word in a:\n",
        "  print(word[0], end='')"
      ],
      "metadata": {
        "colab": {
          "base_uri": "https://localhost:8080/"
        },
        "id": "4PR7cBTkOm-A",
        "outputId": "7227f101-a9a1-40f5-fec3-16fb4853e534"
      },
      "execution_count": 63,
      "outputs": [
        {
          "output_type": "stream",
          "name": "stdout",
          "text": [
            "문자열 입력: 복잡한 세상 편하게 살자\n",
            "복세편살"
          ]
        }
      ]
    },
    {
      "cell_type": "code",
      "source": [
        "#p33_ex24\n",
        "s = 'python programming'\n",
        "print('a' in s)\n",
        "print('z' in s)\n",
        "print('pro' in s)\n",
        "print('x' in s)\n"
      ],
      "metadata": {
        "colab": {
          "base_uri": "https://localhost:8080/"
        },
        "id": "PGeK5co7O9d7",
        "outputId": "03a83ea2-9358-4882-9fd1-e7f24e51dee9"
      },
      "execution_count": 67,
      "outputs": [
        {
          "output_type": "stream",
          "name": "stdout",
          "text": [
            "True\n",
            "False\n",
            "True\n",
            "False\n"
          ]
        }
      ]
    },
    {
      "cell_type": "code",
      "source": [
        "#p33_ex25\n",
        "s = input('영어 문장을 입력하세요: ')\n",
        "i = 0\n",
        "count = 0\n",
        "\n",
        "print('모음: ', end='')\n",
        "while i < len(s):\n",
        "    if s[i] in 'aeiouAEIOU':\n",
        "        count += 1\n",
        "        print(s[i], end=' ')\n",
        "    i += 1\n",
        "\n",
        "print('\\n모음의 개수:', count)"
      ],
      "metadata": {
        "colab": {
          "base_uri": "https://localhost:8080/"
        },
        "id": "mAvyrvBlQ14Z",
        "outputId": "eb31ccff-9639-4b0e-fbd4-a304aafe79c2"
      },
      "execution_count": 76,
      "outputs": [
        {
          "output_type": "stream",
          "name": "stdout",
          "text": [
            "영어 문장을 입력하세요: My faviote fruits is watermelon\n",
            "모음: a i o e u i i a e e o \n",
            "모음의 개수: 11\n"
          ]
        }
      ]
    },
    {
      "cell_type": "code",
      "source": [
        "#p33_ex26\n",
        "height = input('키를 입력하세요: ')\n",
        "if height.isdigit():\n",
        "    print('숫자입니다.')\n",
        "else:\n",
        "    print('숫자로 입력하세요.')\n"
      ],
      "metadata": {
        "colab": {
          "base_uri": "https://localhost:8080/"
        },
        "id": "hKVSCOATSgBf",
        "outputId": "80c2d3b1-f219-441c-a383-c14e6ff03057"
      },
      "execution_count": 77,
      "outputs": [
        {
          "output_type": "stream",
          "name": "stdout",
          "text": [
            "키를 입력하세요: 백칩실\n",
            "숫자로 입력하세요.\n"
          ]
        }
      ]
    },
    {
      "cell_type": "code",
      "source": [
        "#p34_ex27\n",
        "data = input('문자열 입력: ')\n",
        "for i in data:\n",
        "  if i.isupper() == True:\n",
        "    print(\"O\", end='')\n",
        "  else:\n",
        "    print('X', end='')"
      ],
      "metadata": {
        "colab": {
          "base_uri": "https://localhost:8080/"
        },
        "id": "6SUPwK7DS19V",
        "outputId": "c028f0da-343c-4a5f-ae95-ec4d7d637554"
      },
      "execution_count": 78,
      "outputs": [
        {
          "output_type": "stream",
          "name": "stdout",
          "text": [
            "문자열 입력: MynameIsPython\n",
            "OXXXXXOXOXXXXX"
          ]
        }
      ]
    },
    {
      "cell_type": "code",
      "source": [
        "#p34_ex28\n",
        "s = \"good morning. MyLove Kim.\"\n",
        "\n",
        "print(\"문자열:\", s)\n",
        "print(\"대분자로 변경: \", s.upper())\n",
        "print(\"소문자로 변경: \", s.lower())"
      ],
      "metadata": {
        "colab": {
          "base_uri": "https://localhost:8080/"
        },
        "id": "I_SfAxSrTPsj",
        "outputId": "89116767-fea9-447d-c9fe-4de57b1eaf31"
      },
      "execution_count": 80,
      "outputs": [
        {
          "output_type": "stream",
          "name": "stdout",
          "text": [
            "문자열: good morning. MyLove Kim.\n",
            "대분자로 변경:  GOOD MORNING. MYLOVE KIM.\n",
            "소문자로 변경:  good morning. mylove kim.\n"
          ]
        }
      ]
    },
    {
      "cell_type": "code",
      "source": [
        "#p34_ex30\n",
        "char = input('영문 대문자 또는 소문자 하나를 입력하세요: ')\n",
        "\n",
        "if char.isalpha():\n",
        "    char = char.upper()\n",
        "    if char in 'AEIOU':\n",
        "        print('입력한 문자', char, '는 모음입니다.')\n",
        "    else:\n",
        "        print('입력한 문자', char, '는 자음입니다.')\n",
        "else:\n",
        "    print('영문 대문자 또는 소문자 하나를 입력해주세요.')"
      ],
      "metadata": {
        "colab": {
          "base_uri": "https://localhost:8080/"
        },
        "id": "LLH6cf9kTlC2",
        "outputId": "dae2a1e3-1e07-4bc4-8592-a5681734412f"
      },
      "execution_count": 82,
      "outputs": [
        {
          "output_type": "stream",
          "name": "stdout",
          "text": [
            "영문 대문자 또는 소문자 하나를 입력하세요: a\n",
            "입력한 문자 A 는 모음입니다.\n"
          ]
        }
      ]
    },
    {
      "cell_type": "code",
      "source": [
        "#p34_ex32\n",
        "phone_list1 = ['010-3654-2637', '010-3984-5377', '010-3554-0973']\n",
        "\n",
        "print(phone_list1)\n",
        "\n",
        "phone_list2 = []\n",
        "for i in phone_list1:\n",
        "    phone_number_without_hyphen = i.replace('-', '')\n",
        "    phone_list2.append(phone_number_without_hyphen)\n",
        "\n",
        "print(phone_list2)\n"
      ],
      "metadata": {
        "colab": {
          "base_uri": "https://localhost:8080/"
        },
        "id": "xGqUbW5rUHCS",
        "outputId": "ad537d85-6dce-4437-9a5a-26f8501673d9"
      },
      "execution_count": 84,
      "outputs": [
        {
          "output_type": "stream",
          "name": "stdout",
          "text": [
            "['010-3654-2637', '010-3984-5377', '010-3554-0973']\n",
            "['01036542637', '01039845377', '01035540973']\n"
          ]
        }
      ]
    },
    {
      "cell_type": "code",
      "source": [
        "#p35_ex37\n",
        "s = \"a:b:c:d\"\n",
        "s = s.replace(':', '#')\n",
        "print(s)"
      ],
      "metadata": {
        "colab": {
          "base_uri": "https://localhost:8080/"
        },
        "id": "MeiZlIE8Upo7",
        "outputId": "39a9d169-b167-4a77-84bc-9523d6017d88"
      },
      "execution_count": 86,
      "outputs": [
        {
          "output_type": "stream",
          "name": "stdout",
          "text": [
            "a#b#c#d\n"
          ]
        }
      ]
    },
    {
      "cell_type": "code",
      "source": [
        "#p35_ex36\n",
        "\n",
        "phone = input('하이픈(-)을 뺀 11자리의 휴대폰 번호를 입력하세요: ')\n",
        "\n",
        "number = ''\n",
        "for i in range(len(phone)):\n",
        "  if i == 2:\n",
        "    number = number + phone[i]+'-'\n",
        "  elif i==6:\n",
        "    number = number + phone[i]+'-'\n",
        "\n",
        "  else:\n",
        "    number = number + phone[i]\n",
        "print(number)"
      ],
      "metadata": {
        "colab": {
          "base_uri": "https://localhost:8080/"
        },
        "id": "Ooog2ADVUzxJ",
        "outputId": "344e7736-af36-4877-cb80-931f27cc430c"
      },
      "execution_count": 88,
      "outputs": [
        {
          "output_type": "stream",
          "name": "stdout",
          "text": [
            "하이픈(-)을 뺀 11자리의 휴대폰 번호를 입력하세요: 01021220739\n",
            "010-2122-0739\n"
          ]
        }
      ]
    },
    {
      "cell_type": "code",
      "source": [
        "#p35_ex40\n",
        "a = 'Tom Dick Harry'\n",
        "a = a.split(\" \")\n",
        "\n",
        "for i in range(len(a)):\n",
        "  a[i] = sorted(a[i])\n",
        "  a[i] = ''.join(a[i])\n",
        "print(', '.join(a))"
      ],
      "metadata": {
        "colab": {
          "base_uri": "https://localhost:8080/"
        },
        "id": "2CftzE38WOd5",
        "outputId": "961d7ac6-d75e-4bdd-dfc4-48b59a7cea01"
      },
      "execution_count": 90,
      "outputs": [
        {
          "output_type": "stream",
          "name": "stdout",
          "text": [
            "Tmo, Dcik, Harry\n"
          ]
        }
      ]
    },
    {
      "cell_type": "code",
      "source": [
        "#p36_ex42\n",
        "word = input(\"단어를 입력하세요: \")\n",
        "count = 0\n",
        "\n",
        "for char in word:\n",
        "  if char=='a' or char=='i' or char=='o' or char=='u' or char=='e':\n",
        "    count+=1\n",
        "if count>=2:\n",
        "  print(word+\"way\")\n",
        "else:\n",
        "  print(word+\"ay\")"
      ],
      "metadata": {
        "colab": {
          "base_uri": "https://localhost:8080/"
        },
        "id": "YeVBNqRwXFOU",
        "outputId": "0411c7eb-af9b-4384-df64-31c042adea94"
      },
      "execution_count": 91,
      "outputs": [
        {
          "output_type": "stream",
          "name": "stdout",
          "text": [
            "단어를 입력하세요: sun\n",
            "sunay\n"
          ]
        }
      ]
    },
    {
      "cell_type": "code",
      "source": [
        "#p36_ex43\n",
        "sentence = input(\"문자열 입력: \")\n",
        "new = ''\n",
        "now = sentence[0]\n",
        "count = 0\n",
        "\n",
        "for i in sentence:\n",
        "    if i == now:\n",
        "        count += 1\n",
        "    else:\n",
        "        new += now + str(count)\n",
        "        now = i\n",
        "        count = 1\n",
        "new += now + str(count)\n",
        "\n",
        "print(new)"
      ],
      "metadata": {
        "colab": {
          "base_uri": "https://localhost:8080/"
        },
        "id": "m-jyHtrsXMDZ",
        "outputId": "0b147a46-edfe-405f-d49a-2f49262c5d6f"
      },
      "execution_count": 92,
      "outputs": [
        {
          "output_type": "stream",
          "name": "stdout",
          "text": [
            "문자열 입력: aaabbbbcdddd\n",
            "a3b4c1d4\n"
          ]
        }
      ]
    },
    {
      "cell_type": "code",
      "source": [
        "#p31_ex14\n",
        "yoil = \"월화수목금토일\"\n",
        "print(yoil[0:8:2])\n",
        "print(yoil[::-1])"
      ],
      "metadata": {
        "colab": {
          "base_uri": "https://localhost:8080/"
        },
        "id": "qo_6qOAuXWnn",
        "outputId": "8091a989-9348-47cd-eec5-627dae9cc506"
      },
      "execution_count": 97,
      "outputs": [
        {
          "output_type": "stream",
          "name": "stdout",
          "text": [
            "월수금일\n",
            "일토금목수화월\n"
          ]
        }
      ]
    },
    {
      "cell_type": "code",
      "source": [
        "#p30_ex7\n",
        "sentence = input(\"문자열 입력: \")\n",
        "\n",
        "for i in range(len(sentence)):\n",
        "  if sentence[i]=='t':\n",
        "    print(i+1, end=\" \")"
      ],
      "metadata": {
        "colab": {
          "base_uri": "https://localhost:8080/"
        },
        "id": "asAT81HJXYkn",
        "outputId": "1478e2eb-f1d5-47e7-beae-e3e308d3d0c9"
      },
      "execution_count": 96,
      "outputs": [
        {
          "output_type": "stream",
          "name": "stdout",
          "text": [
            "문자열 입력: test\n",
            "1 4 "
          ]
        }
      ]
    },
    {
      "cell_type": "code",
      "source": [
        "#p30_ex5\n",
        "\n",
        "number=input(\"하이픈(-)을 포함한 휴대폰번호를 입력하세요: \")\n",
        "\n",
        "for i in range(len(number)):\n",
        "  if number[i]==\"-\":\n",
        "    continue\n",
        "  print(number[i], end=\"\")"
      ],
      "metadata": {
        "colab": {
          "base_uri": "https://localhost:8080/"
        },
        "id": "MKUxUMDiYEYK",
        "outputId": "311d7063-72f4-4c31-98c0-f3b7df65a1b2"
      },
      "execution_count": 95,
      "outputs": [
        {
          "output_type": "stream",
          "name": "stdout",
          "text": [
            "하이픈(-)을 포함한 휴대폰번호를 입력하세요: 010-2122-0739\n",
            "01021220739"
          ]
        }
      ]
    }
  ]
}