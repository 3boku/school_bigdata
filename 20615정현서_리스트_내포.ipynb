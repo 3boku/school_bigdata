{
  "nbformat": 4,
  "nbformat_minor": 0,
  "metadata": {
    "colab": {
      "provenance": [],
      "authorship_tag": "ABX9TyP82ni/OCBs/x28OpU2JhCv",
      "include_colab_link": true
    },
    "kernelspec": {
      "name": "python3",
      "display_name": "Python 3"
    },
    "language_info": {
      "name": "python"
    }
  },
  "cells": [
    {
      "cell_type": "markdown",
      "metadata": {
        "id": "view-in-github",
        "colab_type": "text"
      },
      "source": [
        "<a href=\"https://colab.research.google.com/github/NANONANDFLASH/school_bigdata/blob/main/20615%EC%A0%95%ED%98%84%EC%84%9C_%EB%A6%AC%EC%8A%A4%ED%8A%B8_%EB%82%B4%ED%8F%AC.ipynb\" target=\"_parent\"><img src=\"https://colab.research.google.com/assets/colab-badge.svg\" alt=\"Open In Colab\"/></a>"
      ]
    },
    {
      "cell_type": "markdown",
      "source": [
        "#p29"
      ],
      "metadata": {
        "id": "w82lYuks3yAM"
      }
    },
    {
      "cell_type": "code",
      "execution_count": 7,
      "metadata": {
        "colab": {
          "base_uri": "https://localhost:8080/"
        },
        "id": "vOD4-NLZ3rW9",
        "outputId": "21a98ec0-e3ad-4c25-cb86-e5899a48e988"
      },
      "outputs": [
        {
          "output_type": "execute_result",
          "data": {
            "text/plain": [
              "[2, 4, 6, 8, 10, 12, 14, 16, 18, 20]"
            ]
          },
          "metadata": {},
          "execution_count": 7
        }
      ],
      "source": [
        "#46\n",
        "[2 * n for n in range(1,11)]"
      ]
    },
    {
      "cell_type": "code",
      "source": [
        "#47\n",
        "even1 = [2 * n for n in range(1, 51)]\n",
        "even2 = [2 + n for n in range(0,100,2)]\n",
        "print(even1)\n",
        "print(even2)"
      ],
      "metadata": {
        "colab": {
          "base_uri": "https://localhost:8080/"
        },
        "id": "_9mKOUBD4Kag",
        "outputId": "5b07adaf-fd2c-46ac-8ac3-11070704a467"
      },
      "execution_count": 6,
      "outputs": [
        {
          "output_type": "stream",
          "name": "stdout",
          "text": [
            "[2, 4, 6, 8, 10, 12, 14, 16, 18, 20, 22, 24, 26, 28, 30, 32, 34, 36, 38, 40, 42, 44, 46, 48, 50, 52, 54, 56, 58, 60, 62, 64, 66, 68, 70, 72, 74, 76, 78, 80, 82, 84, 86, 88, 90, 92, 94, 96, 98, 100]\n",
            "[2, 4, 6, 8, 10, 12, 14, 16, 18, 20, 22, 24, 26, 28, 30, 32, 34, 36, 38, 40, 42, 44, 46, 48, 50, 52, 54, 56, 58, 60, 62, 64, 66, 68, 70, 72, 74, 76, 78, 80, 82, 84, 86, 88, 90, 92, 94, 96, 98, 100]\n"
          ]
        }
      ]
    },
    {
      "cell_type": "code",
      "source": [
        "#48\n",
        "li = []\n",
        "for n in range(1, 10):\n",
        "  if n%3==0:\n",
        "    li.append(n*n)\n",
        "print(li)"
      ],
      "metadata": {
        "colab": {
          "base_uri": "https://localhost:8080/"
        },
        "id": "52i5Oxk34hBh",
        "outputId": "b1a9cdad-8e59-4c93-c826-dd195f26b1c6"
      },
      "execution_count": 3,
      "outputs": [
        {
          "output_type": "stream",
          "name": "stdout",
          "text": [
            "[9, 36, 81]\n"
          ]
        }
      ]
    },
    {
      "cell_type": "code",
      "source": [
        "#49\n",
        "numbers = [1, 2, 3, 4, 5]\n",
        "result = []\n",
        "for n in numbers:\n",
        "  if n % 2 == 1:\n",
        "    result.append(n*2)\n",
        "print(result)"
      ],
      "metadata": {
        "colab": {
          "base_uri": "https://localhost:8080/"
        },
        "id": "n1zOii935o5L",
        "outputId": "cf44ff5f-2498-4c77-904c-8ffa672ad400"
      },
      "execution_count": 9,
      "outputs": [
        {
          "output_type": "stream",
          "name": "stdout",
          "text": [
            "[2, 6, 10]\n"
          ]
        }
      ]
    },
    {
      "cell_type": "code",
      "source": [
        "#ex1\n",
        "v = [17, 92, 18, 33, 58, 7, 33, 42]\n",
        "\n",
        "max = v[0]\n",
        "\n",
        "for i in range(len(v)):\n",
        "  if max < v[i]:\n",
        "    max=v[i]\n",
        "print(\"최대값 =\", max)"
      ],
      "metadata": {
        "colab": {
          "base_uri": "https://localhost:8080/"
        },
        "id": "LhZVizQ96Dls",
        "outputId": "e677ce83-b218-4337-bc6b-2b823dae88be"
      },
      "execution_count": 14,
      "outputs": [
        {
          "output_type": "stream",
          "name": "stdout",
          "text": [
            "최대값 = 92\n"
          ]
        }
      ]
    },
    {
      "cell_type": "code",
      "source": [
        "#ex2\n",
        "for i in [1, 2, 3]:\n",
        "  for j in ['a', 'b', 'c']:\n",
        "    print(j*i, end=' ')"
      ],
      "metadata": {
        "colab": {
          "base_uri": "https://localhost:8080/"
        },
        "id": "pRebc8Eq6uB6",
        "outputId": "76e8e95d-c5b2-4e1d-db4c-e84d9faa6908"
      },
      "execution_count": 21,
      "outputs": [
        {
          "output_type": "stream",
          "name": "stdout",
          "text": [
            "a b c aa bb cc aaa bbb ccc "
          ]
        }
      ]
    },
    {
      "cell_type": "code",
      "source": [
        "#ex3\n",
        "\n",
        "list_a = [\"I\", \"study\", \"python\", \"language\", \"!\"]\n",
        "\n",
        "for i in range(len(list_a)):\n",
        "  if len(list_a[i]) >= 5:\n",
        "    print(list_a[i])"
      ],
      "metadata": {
        "colab": {
          "base_uri": "https://localhost:8080/"
        },
        "id": "4gdLowYr7AkO",
        "outputId": "47a0cec9-1607-4f68-b3bc-9e832d8785c6"
      },
      "execution_count": 19,
      "outputs": [
        {
          "output_type": "stream",
          "name": "stdout",
          "text": [
            "study\n",
            "python\n",
            "language\n"
          ]
        }
      ]
    }
  ]
}