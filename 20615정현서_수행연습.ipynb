{
  "nbformat": 4,
  "nbformat_minor": 0,
  "metadata": {
    "colab": {
      "provenance": [],
      "authorship_tag": "ABX9TyNRaFT2ZYGohHuS1kHGG8aG",
      "include_colab_link": true
    },
    "kernelspec": {
      "name": "python3",
      "display_name": "Python 3"
    },
    "language_info": {
      "name": "python"
    }
  },
  "cells": [
    {
      "cell_type": "markdown",
      "metadata": {
        "id": "view-in-github",
        "colab_type": "text"
      },
      "source": [
        "<a href=\"https://colab.research.google.com/github/NANONANDFLASH/school_bigdata/blob/main/20615%EC%A0%95%ED%98%84%EC%84%9C_%EC%88%98%ED%96%89%EC%97%B0%EC%8A%B5.ipynb\" target=\"_parent\"><img src=\"https://colab.research.google.com/assets/colab-badge.svg\" alt=\"Open In Colab\"/></a>"
      ]
    },
    {
      "cell_type": "code",
      "execution_count": 1,
      "metadata": {
        "colab": {
          "base_uri": "https://localhost:8080/"
        },
        "id": "3SaY3_bekfXi",
        "outputId": "8e9f30b1-3b2f-461e-dc9c-d865b62b052f"
      },
      "outputs": [
        {
          "output_type": "stream",
          "name": "stdout",
          "text": [
            "I said \"Hello\" to you.\n",
            "Let's go.\n"
          ]
        }
      ],
      "source": [
        "#1\n",
        "print('I said \"Hello\" to you.')\n",
        "print(\"Let's go.\")"
      ]
    },
    {
      "cell_type": "code",
      "source": [
        "#2\n",
        "row = int(input(\"삼각형의 밑변 길이: \"))\n",
        "height = int(input(\"삼각형의 높이: \"))\n",
        "print(\"삼각형의 면적:\", row*height/2)"
      ],
      "metadata": {
        "colab": {
          "base_uri": "https://localhost:8080/"
        },
        "id": "6jjgbH7OmBMU",
        "outputId": "1ae17ce4-39bb-4a9b-97aa-9c0e3306f6a3"
      },
      "execution_count": 2,
      "outputs": [
        {
          "output_type": "stream",
          "name": "stdout",
          "text": [
            "삼각형의 밑변 길이: 10\n",
            "삼각형의 높이: 3\n",
            "삼각형의 면적: 15.0\n"
          ]
        }
      ]
    },
    {
      "cell_type": "code",
      "source": [
        "#3\n",
        "h = int(input(\"현재 시: \"))\n",
        "m = int(input(\"현재 분: \"))\n",
        "\n",
        "if m < 40:\n",
        "  print(\"20분 뒤에는 %d시 %d분입니다.\" %(h, m+20))\n",
        "elif m >=40:\n",
        "  print(\"20분 뒤에는 %d시 %d분입니다.\" %(h+1, m+20-60))"
      ],
      "metadata": {
        "colab": {
          "base_uri": "https://localhost:8080/"
        },
        "id": "j7mu3d2TmqaF",
        "outputId": "e544794e-3e94-4b4b-b713-69484efaee7e"
      },
      "execution_count": 9,
      "outputs": [
        {
          "output_type": "stream",
          "name": "stdout",
          "text": [
            "현재 시: 13\n",
            "현재 분: 55\n",
            "20분 뒤에는 14시 15분입니다.\n"
          ]
        }
      ]
    },
    {
      "cell_type": "code",
      "source": [
        "#4\n",
        "id = input(\"아이디를 입력하세요: \")\n",
        "lv = int(input(\"회원 레벨을 입력하세요: \"))\n",
        "\n",
        "if id==\"admin\" or lv == 1:\n",
        "  print(\"관리자입니다.\")\n",
        "else:\n",
        "  print(\"관리자가 아닙니다.\")"
      ],
      "metadata": {
        "colab": {
          "base_uri": "https://localhost:8080/"
        },
        "id": "M2upxKZNoRpD",
        "outputId": "5cb64905-68e5-4673-bedb-16ccc8da2564"
      },
      "execution_count": 14,
      "outputs": [
        {
          "output_type": "stream",
          "name": "stdout",
          "text": [
            "아이디를 입력하세요: happy\n",
            "회원 레벨을 입력하세요: 3\n",
            "관리자가 아닙니다.\n"
          ]
        }
      ]
    },
    {
      "cell_type": "code",
      "source": [
        "#5\n",
        "f = int(input(\"첫 번째 수: \"))\n",
        "s = int(input(\"두 번째 수: \"))\n",
        "t = int(input(\"세 번째 수: \"))\n",
        "\n",
        "if f>s and f>t:\n",
        "  print(\"가장 큰 수는 %d입니다\" %(f))\n",
        "elif s>f and s>t:\n",
        "  print(\"가장 큰 수는 %d입니다\" %(s))\n",
        "else:\n",
        "  print(\"가장 큰 수는 %d입니다\" %(t))"
      ],
      "metadata": {
        "colab": {
          "base_uri": "https://localhost:8080/"
        },
        "id": "QBgeRDCPosAt",
        "outputId": "79e99dec-72f4-4b45-e49f-2fa11e2feda0"
      },
      "execution_count": 16,
      "outputs": [
        {
          "output_type": "stream",
          "name": "stdout",
          "text": [
            "첫 번째 수: 50\n",
            "두 번째 수: 2\n",
            "세 번째 수: 1\n",
            "가장 큰 수는 50입니다\n"
          ]
        }
      ]
    },
    {
      "cell_type": "code",
      "source": [
        "#5\n",
        "year = int(input(\"나이 입력: \"))\n",
        "\n",
        "if year >= 0 and year <= 7:\n",
        "  print(\"어린이\")\n",
        "elif year >= 8 and year <= 13:\n",
        "  print(\"초등학생\")\n",
        "elif year >= 14 and year <= 16:\n",
        "  print(\"중학생\")\n",
        "elif year >= 17 and year <= 19:\n",
        "  print(\"고등학생\")\n",
        "else:\n",
        "  print(\"성인\")"
      ],
      "metadata": {
        "colab": {
          "base_uri": "https://localhost:8080/"
        },
        "id": "AE6tAy-fpMcx",
        "outputId": "cc0d91cc-e80b-4e61-cab6-c690c48b2860"
      },
      "execution_count": 17,
      "outputs": [
        {
          "output_type": "stream",
          "name": "stdout",
          "text": [
            "나이 입력: 17\n",
            "고등학생\n"
          ]
        }
      ]
    },
    {
      "cell_type": "code",
      "source": [
        "#6\n",
        "jum = int(input(\"점수 입력: \"))\n",
        "\n",
        "if jum >= 90:\n",
        "  print(\"A 등급입니다.\")\n",
        "elif jum <90 and jum >= 80:\n",
        "  print(\"B 등급입니다.\")\n",
        "elif jum <80 and jum >= 70:\n",
        "  print(\"C 등급입니다.\")\n",
        "else:\n",
        "  print(\"F 등급입니다.\")"
      ],
      "metadata": {
        "colab": {
          "base_uri": "https://localhost:8080/"
        },
        "id": "1Odqh2gKprVR",
        "outputId": "074cfaa1-26ff-48e0-d140-85f25a227d1c"
      },
      "execution_count": 18,
      "outputs": [
        {
          "output_type": "stream",
          "name": "stdout",
          "text": [
            "점수 입력: 90\n",
            "A 등급입니다.\n"
          ]
        }
      ]
    },
    {
      "cell_type": "code",
      "source": [
        "#7\n",
        "num = int(input(\"숫자 입력: \"))\n",
        "\n",
        "if num % 3 ==0:\n",
        "  if(num % 5 ==0):\n",
        "    print(\"3과 5의 공배수\")\n",
        "  else:\n",
        "    print(\"3의 배수\")\n",
        "else:\n",
        "  print(\"3의 배수 아님\")"
      ],
      "metadata": {
        "colab": {
          "base_uri": "https://localhost:8080/"
        },
        "id": "D8XwLa5DqLlZ",
        "outputId": "70d54ed0-8c2d-41e4-e048-6b81a1353493"
      },
      "execution_count": 28,
      "outputs": [
        {
          "output_type": "stream",
          "name": "stdout",
          "text": [
            "숫자 입력: 15\n",
            "3과 5의 공배수\n"
          ]
        }
      ]
    },
    {
      "cell_type": "code",
      "source": [
        "#8\n",
        "i = 1\n",
        "\n",
        "for i in range(20):\n",
        "  if i % 2 !=0:\n",
        "    print(i, end=\" \")"
      ],
      "metadata": {
        "colab": {
          "base_uri": "https://localhost:8080/"
        },
        "id": "SZAaIx_wrBQH",
        "outputId": "d5e17ca2-c095-427f-f325-1fc2fb8c4074"
      },
      "execution_count": 27,
      "outputs": [
        {
          "output_type": "stream",
          "name": "stdout",
          "text": [
            "1 3 5 7 9 11 13 15 17 19 "
          ]
        }
      ]
    },
    {
      "cell_type": "code",
      "source": [
        "#9\n",
        "num = 1\n",
        "sum = 0\n",
        "\n",
        "for num in range(11):\n",
        "  sum += num\n",
        "  print(\"num의 값 : %d => 합계 : %d\" %(num, sum))\n",
        "\n"
      ],
      "metadata": {
        "colab": {
          "base_uri": "https://localhost:8080/"
        },
        "id": "KNI0uELBrZbS",
        "outputId": "ddaaa618-ae8b-4a3e-9021-9af841e1f2dc"
      },
      "execution_count": 30,
      "outputs": [
        {
          "output_type": "stream",
          "name": "stdout",
          "text": [
            "num의 값 : 0 => 합계 : 0\n",
            "num의 값 : 1 => 합계 : 1\n",
            "num의 값 : 2 => 합계 : 3\n",
            "num의 값 : 3 => 합계 : 6\n",
            "num의 값 : 4 => 합계 : 10\n",
            "num의 값 : 5 => 합계 : 15\n",
            "num의 값 : 6 => 합계 : 21\n",
            "num의 값 : 7 => 합계 : 28\n",
            "num의 값 : 8 => 합계 : 36\n",
            "num의 값 : 9 => 합계 : 45\n",
            "num의 값 : 10 => 합계 : 55\n"
          ]
        }
      ]
    },
    {
      "cell_type": "code",
      "source": [
        "#10\n",
        "a = int(input(\"숫자 입력 : \"))\n",
        "result = 1\n",
        "for i in range(1, a+1, 1):\n",
        "    result *= i\n",
        "print(\"%d! = %d\" %(a, result))"
      ],
      "metadata": {
        "colab": {
          "base_uri": "https://localhost:8080/"
        },
        "id": "hYNtIr2IsFLQ",
        "outputId": "e2b4cd95-5cfe-4b13-9776-f4a711919b15"
      },
      "execution_count": 36,
      "outputs": [
        {
          "output_type": "stream",
          "name": "stdout",
          "text": [
            "숫자 입력 : 10\n",
            "10! = 3628800\n"
          ]
        }
      ]
    },
    {
      "cell_type": "code",
      "source": [
        "#11\n",
        "import random\n",
        "cnt = 1\n",
        "answer = random.randrange(1,101)\n",
        "\n",
        "print(\"정답 %d\" %(answer))\n",
        "\n",
        "while(1):\n",
        "  guess = int(input(\"숫자를 맞혀 보세요: \"))\n",
        "  if guess != answer:\n",
        "    if(answer>guess):\n",
        "      print(\"낮음\")\n",
        "    else:\n",
        "      print(\"높음\")\n",
        "  else:\n",
        "    break\n",
        "  cnt+=1\n",
        "print(\"축하합니다. 시도횟수 = %d\" %(cnt))\n",
        "\n"
      ],
      "metadata": {
        "colab": {
          "base_uri": "https://localhost:8080/"
        },
        "id": "sgQM5XrVtNqP",
        "outputId": "b84feda4-0072-425e-bec5-82633d7a9eed"
      },
      "execution_count": 40,
      "outputs": [
        {
          "output_type": "stream",
          "name": "stdout",
          "text": [
            "정답 76\n",
            "숫자를 맞혀 보세요: 5\n",
            "낮음\n",
            "숫자를 맞혀 보세요: 76\n",
            "축하합니다. 시도횟수 = 2\n"
          ]
        }
      ]
    },
    {
      "cell_type": "code",
      "source": [
        "#12\n",
        "for i in range(10, 51, 1):\n",
        "  if i % 3 != 0:\n",
        "    print(i, end=\" \")"
      ],
      "metadata": {
        "colab": {
          "base_uri": "https://localhost:8080/"
        },
        "id": "pk7nwVyUuwls",
        "outputId": "968baadc-11a4-43f4-d80b-266cd41b098d"
      },
      "execution_count": 41,
      "outputs": [
        {
          "output_type": "stream",
          "name": "stdout",
          "text": [
            "10 11 13 14 16 17 19 20 22 23 25 26 28 29 31 32 34 35 37 38 40 41 43 44 46 47 49 50 "
          ]
        }
      ]
    },
    {
      "cell_type": "code",
      "source": [
        "#13\n",
        "import random\n",
        "\n",
        "print(\"주사위 게임을 시작합니다.\")\n",
        "\n",
        "while(1):\n",
        "  print(\"주사위를 던졌습니다.\")\n",
        "  answer = random.randrange(1, 7)\n",
        "  print(\"나: %d\" %(answer))\n",
        "  guess = int(input(\"당신: \"))\n",
        "  if guess == answer:\n",
        "    print(\"무승부!\")\n",
        "    re = input(\"계속하려면 y를 입력하세요!: \")\n",
        "    if re == \"y\":\n",
        "      continue\n",
        "    else:\n",
        "      break\n",
        "  elif guess > answer:\n",
        "    print(\"나의 승리\")\n",
        "    re = input(\"계속하려면 y를 입력하세요!: \")\n",
        "    if re == \"y\":\n",
        "      continue\n",
        "    else:\n",
        "      break\n",
        "  else:\n",
        "    print(\"나의 패배\")\n",
        "    re = input(\"계속하려면 y를 입력하세요!: \")\n",
        "    if re == \"y\":\n",
        "      continue\n",
        "    else:\n",
        "      break\n"
      ],
      "metadata": {
        "colab": {
          "base_uri": "https://localhost:8080/"
        },
        "id": "u1x06_yxvBWh",
        "outputId": "82c7d10b-627e-4da3-8ea2-08bc2e7a2c99"
      },
      "execution_count": 43,
      "outputs": [
        {
          "name": "stdout",
          "output_type": "stream",
          "text": [
            "주사위 게임을 시작합니다.\n",
            "주사위를 던졌습니다.\n",
            "나: 6\n",
            "당신: 6\n",
            "무승부!\n",
            "계속하려면 y를 입력하세요!: y\n",
            "주사위를 던졌습니다.\n",
            "나: 2\n",
            "당신: 3\n",
            "나의 승리\n",
            "계속하려면 y를 입력하세요!: n\n"
          ]
        }
      ]
    },
    {
      "cell_type": "code",
      "source": [
        "#14\n",
        "\n",
        "a = int(input(\"숫자 입력: \"))\n",
        "\n",
        "while a != 0:\n",
        "  print(a%10, end=\"\")\n",
        "  a= a//10\n"
      ],
      "metadata": {
        "colab": {
          "base_uri": "https://localhost:8080/"
        },
        "id": "rWAQfiMYw0MV",
        "outputId": "8282ed49-37d0-434a-db36-1f18a2b84e6f"
      },
      "execution_count": 78,
      "outputs": [
        {
          "output_type": "stream",
          "name": "stdout",
          "text": [
            "숫자 입력: 3452\n",
            "2543"
          ]
        }
      ]
    },
    {
      "cell_type": "code",
      "source": [
        "#15\n",
        "for i in range(1, 10, 1):\n",
        "  print(\"2 * %d = %d\" %(i, i*2))"
      ],
      "metadata": {
        "colab": {
          "base_uri": "https://localhost:8080/"
        },
        "id": "IzKNzfFlxMqg",
        "outputId": "e43c7307-f2f0-4d7e-b0f2-2619b90e4b92"
      },
      "execution_count": 45,
      "outputs": [
        {
          "output_type": "stream",
          "name": "stdout",
          "text": [
            "2 * 1 = 2\n",
            "2 * 2 = 4\n",
            "2 * 3 = 6\n",
            "2 * 4 = 8\n",
            "2 * 5 = 10\n",
            "2 * 6 = 12\n",
            "2 * 7 = 14\n",
            "2 * 8 = 16\n",
            "2 * 9 = 18\n"
          ]
        }
      ]
    },
    {
      "cell_type": "code",
      "source": [
        "#16\n",
        "for i in range(9, 0, -1):\n",
        "  print(\"2 * %d = %d\" %(i, i*2))"
      ],
      "metadata": {
        "colab": {
          "base_uri": "https://localhost:8080/"
        },
        "id": "ZQldOMEsxfoz",
        "outputId": "7e7d45af-85f4-4247-a646-63c21cb895c0"
      },
      "execution_count": 48,
      "outputs": [
        {
          "output_type": "stream",
          "name": "stdout",
          "text": [
            "2 * 9 = 18\n",
            "2 * 8 = 16\n",
            "2 * 7 = 14\n",
            "2 * 6 = 12\n",
            "2 * 5 = 10\n",
            "2 * 4 = 8\n",
            "2 * 3 = 6\n",
            "2 * 2 = 4\n",
            "2 * 1 = 2\n"
          ]
        }
      ]
    },
    {
      "cell_type": "code",
      "source": [
        "#17\n",
        "max_i = 0\n",
        "max = 0\n",
        "\n",
        "for i in range(1, 100):\n",
        "    save = i * (100-i)\n",
        "    if save > max:\n",
        "      max = save\n",
        "      max_i = i\n",
        "\n",
        "max_j = 100-i\n",
        "print(\"최대가 되는 경우 : %d * %d = %d\" %(max_i, max_j, max))"
      ],
      "metadata": {
        "colab": {
          "base_uri": "https://localhost:8080/"
        },
        "id": "rOhEwfcZxnXD",
        "outputId": "b5bf2e15-6c59-4cee-f651-6b6e35a54cc1"
      },
      "execution_count": 76,
      "outputs": [
        {
          "output_type": "stream",
          "name": "stdout",
          "text": [
            "최대가 되는 경우 : 50 * 1 = 2500\n"
          ]
        }
      ]
    },
    {
      "cell_type": "code",
      "source": [
        "#18\n",
        "n = int(input(\"정수를 입력하시오: \"))\n",
        "\n",
        "for i in range(1, n+1, 1):\n",
        "  if n % i ==0:\n",
        "    print(i, end=\" \")"
      ],
      "metadata": {
        "colab": {
          "base_uri": "https://localhost:8080/"
        },
        "id": "B23kU5ZbxuO6",
        "outputId": "7df41ada-1e12-4eaa-e1af-3da8cc01d5b2"
      },
      "execution_count": 50,
      "outputs": [
        {
          "output_type": "stream",
          "name": "stdout",
          "text": [
            "정수를 입력하시오: 6\n",
            "1 2 3 6 "
          ]
        }
      ]
    },
    {
      "cell_type": "code",
      "source": [
        "#19\n",
        "n = int(input(\"입력할 숫자 개수: \"))\n",
        "max_i=0\n",
        "max = 0\n",
        "for i in range(0, n, 1):\n",
        "  a = int(input(\"숫자 입력: \"))\n",
        "  if a>max:\n",
        "    max = a\n",
        "    max_i = i+1\n",
        "print(\"가장 큰 수는 %d번째 입니다.\" %(max_i))"
      ],
      "metadata": {
        "colab": {
          "base_uri": "https://localhost:8080/"
        },
        "id": "c9gCB3USyHGp",
        "outputId": "1a7dba10-3a99-48bc-e3e2-74eb3d3ebe43"
      },
      "execution_count": 85,
      "outputs": [
        {
          "output_type": "stream",
          "name": "stdout",
          "text": [
            "입력할 숫자 개수: 2\n",
            "숫자 입력: 5\n",
            "숫자 입력: 46\n",
            "가장 큰 수는 2번째 입니다.\n"
          ]
        }
      ]
    },
    {
      "cell_type": "code",
      "source": [
        "#20\n",
        "cnt = 0\n",
        "\n",
        "for i in range(1, 101, 1):\n",
        "  if i % 4 == 0:\n",
        "    print(i, end=\" \")\n",
        "    cnt += 1\n",
        "  if cnt == 7:\n",
        "    print(\"\")\n",
        "    cnt = 0"
      ],
      "metadata": {
        "colab": {
          "base_uri": "https://localhost:8080/"
        },
        "id": "NDNaa6-ny5ot",
        "outputId": "3860a3e5-96ed-45c1-bc94-bdc42b9a46b8"
      },
      "execution_count": 60,
      "outputs": [
        {
          "output_type": "stream",
          "name": "stdout",
          "text": [
            "4 8 12 16 20 24 28 \n",
            "32 36 40 44 48 52 56 \n",
            "60 64 68 72 76 80 84 \n",
            "88 92 96 100 "
          ]
        }
      ]
    },
    {
      "cell_type": "code",
      "source": [
        "#21\n",
        "n = int(input(\"숫자 입력: \"))\n",
        "cnt = 0\n",
        "for i in range(1, n+1, 1):\n",
        "  if i%10 == 1:\n",
        "    cnt +=1\n",
        "print(\"일의 자리 숫자가 1인 수는 %d개\" %(cnt))"
      ],
      "metadata": {
        "colab": {
          "base_uri": "https://localhost:8080/"
        },
        "id": "ASrd5fVK0mZs",
        "outputId": "deedab96-8053-4b32-bacb-32549519ff81"
      },
      "execution_count": 89,
      "outputs": [
        {
          "output_type": "stream",
          "name": "stdout",
          "text": [
            "숫자 입력: 51\n",
            "일의 자리 숫자가 1인 수는 6개\n"
          ]
        }
      ]
    },
    {
      "cell_type": "code",
      "source": [
        "#22\n",
        "print(\"3+4?\")\n",
        "while(1):\n",
        "  answer = int(input(\"정답을 입력하시오: \"))\n",
        "  if answer == 7:\n",
        "    break\n",
        "print(\"참 잘했어요!\")"
      ],
      "metadata": {
        "colab": {
          "base_uri": "https://localhost:8080/"
        },
        "id": "PSZ8weU10qQF",
        "outputId": "1b1b8cda-21b4-4e14-d54e-2d92e7380db6"
      },
      "execution_count": 62,
      "outputs": [
        {
          "output_type": "stream",
          "name": "stdout",
          "text": [
            "3+4?\n",
            "정답을 입력하시오: 5\n",
            "정답을 입력하시오: 6\n",
            "정답을 입력하시오: 3\n",
            "정답을 입력하시오: 7\n",
            "참 잘했어요!\n"
          ]
        }
      ]
    }
  ]
}