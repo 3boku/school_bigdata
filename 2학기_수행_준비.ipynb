{
  "nbformat": 4,
  "nbformat_minor": 0,
  "metadata": {
    "colab": {
      "provenance": [],
      "toc_visible": true,
      "authorship_tag": "ABX9TyOckh/XATkxG9YOIpJLTRGl",
      "include_colab_link": true
    },
    "kernelspec": {
      "name": "python3",
      "display_name": "Python 3"
    },
    "language_info": {
      "name": "python"
    }
  },
  "cells": [
    {
      "cell_type": "markdown",
      "metadata": {
        "id": "view-in-github",
        "colab_type": "text"
      },
      "source": [
        "<a href=\"https://colab.research.google.com/github/3boku/school_bigdata/blob/main/2%ED%95%99%EA%B8%B0_%EC%88%98%ED%96%89_%EC%A4%80%EB%B9%84.ipynb\" target=\"_parent\"><img src=\"https://colab.research.google.com/assets/colab-badge.svg\" alt=\"Open In Colab\"/></a>"
      ]
    },
    {
      "cell_type": "code",
      "execution_count": 3,
      "metadata": {
        "colab": {
          "base_uri": "https://localhost:8080/"
        },
        "id": "edkejuw29m8C",
        "outputId": "97853061-69ef-490a-bf2a-b4c1ad8639ab"
      },
      "outputs": [
        {
          "output_type": "stream",
          "name": "stdout",
          "text": [
            "34 12\n"
          ]
        }
      ],
      "source": [
        "a = 12\n",
        "b = 34\n",
        "\n",
        "a, b = b,a\n",
        "\n",
        "print(a, b)"
      ]
    },
    {
      "cell_type": "code",
      "source": [
        "animation = {}\n",
        "\n",
        "print(\"요소 추가 이전:\", animation)\n",
        "\n",
        "animation = {\n",
        "    '작가': '황미나',\n",
        "    '연재작': '이오니아의 푸른 별',\n",
        "    '최근작': '보톡스'\n",
        "}\n",
        "\n",
        "print(\"요소 추가 이후:\", animation)\n",
        "\n",
        "del animation['연재작']\n",
        "\n",
        "print(\"요소 제거 이후:\", animation)"
      ],
      "metadata": {
        "colab": {
          "base_uri": "https://localhost:8080/"
        },
        "id": "5dtyKUG--L5m",
        "outputId": "ef5cee9b-90a5-4812-a3ff-9e1807a6b5bd"
      },
      "execution_count": 8,
      "outputs": [
        {
          "output_type": "stream",
          "name": "stdout",
          "text": [
            "요소 추가 이전: {}\n",
            "요소 추가 이후: {'작가': '황미나', '연재작': '이오니아의 푸른 별', '최근작': '보톡스'}\n",
            "요소 제거 이후: {'작가': '황미나', '최근작': '보톡스'}\n"
          ]
        }
      ]
    },
    {
      "cell_type": "code",
      "source": [
        "rainbow = {\n",
        "    '빨강': 'red',\n",
        "    '주황': 'orange',\n",
        "    '노': 'yellow',\n",
        "    '초': 'green',\n",
        "    '파': 'blue',\n",
        "    '남': 'navy',\n",
        "    '보': 'purple'\n",
        "}\n",
        "\n",
        "print(\"초록색 =\", rainbow['초'])\n",
        "\n",
        "rainbow['하얀색'] = 'white'\n",
        "\n",
        "rainbow['주황'] = 'juhwang'\n",
        "\n",
        "del(rainbow['파'])\n",
        "print(rainbow)"
      ],
      "metadata": {
        "colab": {
          "base_uri": "https://localhost:8080/"
        },
        "id": "w1qH5ZEC_IYz",
        "outputId": "3ee40333-3d05-4082-d76d-313ae85ad0fa"
      },
      "execution_count": 16,
      "outputs": [
        {
          "output_type": "stream",
          "name": "stdout",
          "text": [
            "초록색 = green\n",
            "{'빨강': 'red', '주황': 'juhwang', '노': 'yellow', '초': 'green', '남': 'navy', '보': 'purple', '하얀색': 'white'}\n"
          ]
        }
      ]
    },
    {
      "cell_type": "code",
      "source": [
        "dic = {'boy' : '소년', 'school' : '학교', 'book' : '책'}\n",
        "\n",
        "print(dic.keys())\n",
        "print(dic.values())\n",
        "print(dic.items())"
      ],
      "metadata": {
        "colab": {
          "base_uri": "https://localhost:8080/"
        },
        "id": "rY8cnFV2D4IZ",
        "outputId": "c56b3fed-3606-4f1a-b5f3-62a1115acc4c"
      },
      "execution_count": 17,
      "outputs": [
        {
          "output_type": "stream",
          "name": "stdout",
          "text": [
            "dict_keys(['boy', 'school', 'book'])\n",
            "dict_values(['소년', '학교', '책'])\n",
            "dict_items([('boy', '소년'), ('school', '학교'), ('book', '책')])\n"
          ]
        }
      ]
    },
    {
      "cell_type": "code",
      "source": [
        "dic = {'boy' : '소년', 'school' : '학교', 'book' : '책'}\n",
        "print(dic.get('boy'))\n",
        "print(dic.get('student'))\n",
        "print(dic.get('student', '사전에 없는 단어입니다.'))"
      ],
      "metadata": {
        "colab": {
          "base_uri": "https://localhost:8080/"
        },
        "id": "bIn9NjLcFiHd",
        "outputId": "3100368d-0a66-4004-cdb9-f178de994d51"
      },
      "execution_count": 18,
      "outputs": [
        {
          "output_type": "stream",
          "name": "stdout",
          "text": [
            "소년\n",
            "None\n",
            "사전에 없는 단어입니다.\n"
          ]
        }
      ]
    },
    {
      "cell_type": "code",
      "source": [
        "dic = {'boy' : '소년', 'school' : '학교', 'book' : '책'}"
      ],
      "metadata": {
        "id": "GKCkRc8BF3VR"
      },
      "execution_count": 19,
      "outputs": []
    },
    {
      "cell_type": "code",
      "source": [
        "for key in dic.keys():\n",
        "  print(key)"
      ],
      "metadata": {
        "colab": {
          "base_uri": "https://localhost:8080/"
        },
        "id": "qXcm4hjcGF63",
        "outputId": "5bf8e379-9aac-4799-e64d-706ea4f4aa68"
      },
      "execution_count": 20,
      "outputs": [
        {
          "output_type": "stream",
          "name": "stdout",
          "text": [
            "boy\n",
            "school\n",
            "book\n"
          ]
        }
      ]
    },
    {
      "cell_type": "code",
      "source": [
        "for value in dic.values():\n",
        "  print(value)"
      ],
      "metadata": {
        "colab": {
          "base_uri": "https://localhost:8080/"
        },
        "id": "5U7BWKRUGJlQ",
        "outputId": "fa5d71f1-94a4-4a4b-ad4f-a3943df1da74"
      },
      "execution_count": 21,
      "outputs": [
        {
          "output_type": "stream",
          "name": "stdout",
          "text": [
            "소년\n",
            "학교\n",
            "책\n"
          ]
        }
      ]
    },
    {
      "cell_type": "code",
      "source": [
        "for item in dic.items():\n",
        "  print(item)"
      ],
      "metadata": {
        "colab": {
          "base_uri": "https://localhost:8080/"
        },
        "id": "8oUIH32gGP2E",
        "outputId": "0ad23d66-2bac-4507-ea05-cc697fc30bc6"
      },
      "execution_count": 22,
      "outputs": [
        {
          "output_type": "stream",
          "name": "stdout",
          "text": [
            "('boy', '소년')\n",
            "('school', '학교')\n",
            "('book', '책')\n"
          ]
        }
      ]
    },
    {
      "cell_type": "code",
      "source": [
        "pets=[\n",
        "    {'name':'구름', 'age':5},\n",
        "    {'name':'초코', 'age':3},\n",
        "    {'name':'아지', 'age':1},\n",
        "    {'name':'호랑이', 'age':1}\n",
        "]\n",
        "print(\"#우리 동네 애완 동물들#\")\n",
        "\n",
        "for pet in pets:\n",
        "  print(pet['name'], pet['age'], '살')"
      ],
      "metadata": {
        "colab": {
          "base_uri": "https://localhost:8080/"
        },
        "id": "PWlvJr0PGTFr",
        "outputId": "cdc6c229-e706-43d0-f9da-6b9b942fa27a"
      },
      "execution_count": 25,
      "outputs": [
        {
          "output_type": "stream",
          "name": "stdout",
          "text": [
            "#우리 동네 애완 동물들#\n",
            "구름 5 살\n",
            "초코 3 살\n",
            "아지 1 살\n",
            "호랑이 1 살\n"
          ]
        }
      ]
    },
    {
      "cell_type": "code",
      "source": [
        "numbers = [1, 2, 3, 4, 5, 6, 7, 8, 9, 5, 1, 7, 3, 5, 1, 3, 5, 7, 9]\n",
        "count = {}\n",
        "\n",
        "for n in numbers:\n",
        "    if n in count:\n",
        "        count[n] += 1\n",
        "    else:\n",
        "        count[n] = 1\n",
        "\n",
        "print(count)"
      ],
      "metadata": {
        "colab": {
          "base_uri": "https://localhost:8080/"
        },
        "id": "lBMHSwxEG1Za",
        "outputId": "abd1c38e-13b0-46e2-d274-deec3af27665"
      },
      "execution_count": 26,
      "outputs": [
        {
          "output_type": "stream",
          "name": "stdout",
          "text": [
            "{1: 3, 2: 1, 3: 3, 4: 1, 5: 4, 6: 1, 7: 3, 8: 1, 9: 2}\n"
          ]
        }
      ]
    },
    {
      "cell_type": "code",
      "source": [
        "song = \"by the rivers of babylon\"\n",
        "alphabet = dict()\n",
        "\n",
        "for c in song:\n",
        "  if c.isalpha() == False:\n",
        "    continue\n",
        "  c = c.lower()\n",
        "  if c in alphabet:\n",
        "    alphabet[c] += 1\n",
        "  else:\n",
        "    alphabet[c] = 1\n",
        "\n",
        "print(alphabet)"
      ],
      "metadata": {
        "colab": {
          "base_uri": "https://localhost:8080/"
        },
        "id": "VFgZQtu9IVQ5",
        "outputId": "544c5fc5-1dbb-42a2-eaec-6df441e8aed5"
      },
      "execution_count": 27,
      "outputs": [
        {
          "output_type": "stream",
          "name": "stdout",
          "text": [
            "{'b': 3, 'y': 2, 't': 1, 'h': 1, 'e': 2, 'r': 2, 'i': 1, 'v': 1, 's': 1, 'o': 2, 'f': 1, 'a': 1, 'l': 1, 'n': 1}\n"
          ]
        }
      ]
    },
    {
      "cell_type": "code",
      "source": [
        "def Hi():\n",
        "  print('Hello World!')\n",
        "\n",
        "Hi()"
      ],
      "metadata": {
        "colab": {
          "base_uri": "https://localhost:8080/"
        },
        "id": "883j-xalI4P4",
        "outputId": "a31552ee-76af-4a07-f16f-11aa7ef5eec8"
      },
      "execution_count": 28,
      "outputs": [
        {
          "output_type": "stream",
          "name": "stdout",
          "text": [
            "Hello World!\n"
          ]
        }
      ]
    },
    {
      "cell_type": "code",
      "source": [
        "def avg(a, b, c):\n",
        "  sum = a+b+c\n",
        "  print(sum/3)\n",
        "\n",
        "avg(3, 5, 10)"
      ],
      "metadata": {
        "colab": {
          "base_uri": "https://localhost:8080/"
        },
        "id": "OGa5JHtZJa8q",
        "outputId": "78db109b-723f-46a4-d5cd-6d03dca45122"
      },
      "execution_count": 29,
      "outputs": [
        {
          "output_type": "stream",
          "name": "stdout",
          "text": [
            "6.0\n"
          ]
        }
      ]
    },
    {
      "cell_type": "code",
      "source": [
        "def print_n_times(n, *values):\n",
        "  for i in range(n):\n",
        "    for value in values:\n",
        "      print(value, end=' ')\n",
        "    print()\n",
        "\n",
        "print_n_times(2, \"안녕하세요\", \"즐거운\", \"파이썬\")\n",
        "print_n_times(1, \"즐거운\", \"파이썬\")"
      ],
      "metadata": {
        "colab": {
          "base_uri": "https://localhost:8080/"
        },
        "id": "c2F-uQg7Jkpd",
        "outputId": "2ffc0bd7-8278-4af6-e0cd-2f9b5868aa29"
      },
      "execution_count": 31,
      "outputs": [
        {
          "output_type": "stream",
          "name": "stdout",
          "text": [
            "안녕하세요 즐거운 파이썬 \n",
            "안녕하세요 즐거운 파이썬 \n",
            "즐거운 파이썬 \n"
          ]
        }
      ]
    },
    {
      "cell_type": "code",
      "source": [
        "def add_mul(choice, *args):\n",
        "  if choice == 'add':\n",
        "    result = 0\n",
        "    for i in args:\n",
        "      result = result+i\n",
        "  elif choice == 'mul':\n",
        "    result = 1\n",
        "    for i in args:\n",
        "      result = result*i\n",
        "  return result\n",
        "\n",
        "print(add_mul('add', 1,2,3,4,5))\n",
        "print(add_mul('mul', 1,2,3))"
      ],
      "metadata": {
        "colab": {
          "base_uri": "https://localhost:8080/"
        },
        "id": "Q5g9nmt1KTe7",
        "outputId": "e198f262-b384-4c70-f0ae-bbabbda065ef"
      },
      "execution_count": 35,
      "outputs": [
        {
          "output_type": "stream",
          "name": "stdout",
          "text": [
            "15\n",
            "6\n"
          ]
        }
      ]
    },
    {
      "cell_type": "code",
      "source": [
        "def calcstep(begin, end, step=1):\n",
        "    total_sum = 0\n",
        "    for num in range(begin, end, step):\n",
        "        total_sum += num\n",
        "    print(f\"{begin}부터 {end}까지 숫자 중 {step}간격씩 더한 값은 {total_sum}\")\n",
        "\n",
        "calcstep(1, 100, 2)\n",
        "calcstep(1, 100)\n"
      ],
      "metadata": {
        "colab": {
          "base_uri": "https://localhost:8080/"
        },
        "id": "lVfE3BUkK5hl",
        "outputId": "ae3a5fa7-fdf9-4b42-f5e3-3299c4c961e6"
      },
      "execution_count": 42,
      "outputs": [
        {
          "output_type": "stream",
          "name": "stdout",
          "text": [
            "1부터 100까지 숫자 중 2간격씩 더한 값은 2500\n",
            "1부터 100까지 숫자 중 1간격씩 더한 값은 4950\n"
          ]
        }
      ]
    },
    {
      "cell_type": "code",
      "source": [
        "def fn(a,b,c,d,e):\n",
        "  print(a,b,c,d,e)\n",
        "\n",
        "fn(1, 2, d=4, c=3, e=5)"
      ],
      "metadata": {
        "colab": {
          "base_uri": "https://localhost:8080/"
        },
        "id": "X93ta05CMQdn",
        "outputId": "b7a0e978-6477-4470-d161-60d599daa790"
      },
      "execution_count": 41,
      "outputs": [
        {
          "output_type": "stream",
          "name": "stdout",
          "text": [
            "1 2 3 4 5\n"
          ]
        }
      ]
    },
    {
      "cell_type": "code",
      "source": [
        "def test():\n",
        "  print(\"A위치입니다.\")\n",
        "  return\n",
        "  print(\"B위치 입니다.\")\n",
        "\n",
        "test()"
      ],
      "metadata": {
        "colab": {
          "base_uri": "https://localhost:8080/"
        },
        "id": "sNygEF1yM9ak",
        "outputId": "2b9911ef-9c19-4af4-d23c-fc974525d9ea"
      },
      "execution_count": 47,
      "outputs": [
        {
          "output_type": "stream",
          "name": "stdout",
          "text": [
            "A위치입니다.\n"
          ]
        }
      ]
    },
    {
      "cell_type": "code",
      "source": [
        "def min_max(*args):\n",
        "\n",
        "  min = args[0]\n",
        "  max = args[0]\n",
        "\n",
        "  for arg in args:\n",
        "    if min > arg:\n",
        "      min = arg\n",
        "    if max < arg:\n",
        "      max = arg\n",
        "  return min, max\n",
        "\n",
        "min, max = min_max(52, -3, 23, 89, -21)\n",
        "print(f\"최소: {min} 최대: {max}\")"
      ],
      "metadata": {
        "colab": {
          "base_uri": "https://localhost:8080/"
        },
        "id": "lCT0ncg5NV4L",
        "outputId": "698922ba-5164-4f1b-d0bf-4c9b57d7c304"
      },
      "execution_count": 2,
      "outputs": [
        {
          "output_type": "stream",
          "name": "stdout",
          "text": [
            "최소: -21 최대: 89\n"
          ]
        }
      ]
    },
    {
      "cell_type": "code",
      "source": [
        "def reward_penalty(kind, points):\n",
        "  global current_point\n",
        "  print('현재점수 :', current_point)\n",
        "\n",
        "  if kind == '상점':\n",
        "    current_point += points\n",
        "  elif kind == '벌점':\n",
        "    current_point -= points\n",
        "\n",
        "current_point = 5\n",
        "reward_penalty('상점', 5)\n",
        "reward_penalty('벌점', 1)\n",
        "print('최종점수 :', current_point)"
      ],
      "metadata": {
        "colab": {
          "base_uri": "https://localhost:8080/"
        },
        "id": "TL0CNNJVs4zc",
        "outputId": "b6fa6aa0-0a37-4a28-e236-4bd995c48662"
      },
      "execution_count": 3,
      "outputs": [
        {
          "output_type": "stream",
          "name": "stdout",
          "text": [
            "현재점수 : 5\n",
            "현재점수 : 10\n",
            "최종점수 : 9\n"
          ]
        }
      ]
    },
    {
      "cell_type": "code",
      "source": [
        "file = open(\"basic.txt\", \"w\")\n",
        "file.write(\"Hello Python Programming\")\n",
        "file.close()"
      ],
      "metadata": {
        "id": "tYIn3983us72"
      },
      "execution_count": null,
      "outputs": []
    },
    {
      "cell_type": "code",
      "source": [
        "with open(\"basic.txt\", \"w\") as file:\n",
        "    file.write(\"Hello Python Programming\")"
      ],
      "metadata": {
        "id": "IRvHhvfPuA7I"
      },
      "execution_count": 5,
      "outputs": []
    },
    {
      "cell_type": "code",
      "source": [
        "with open('basic.txt', 'r') as file:\n",
        "  contents = file.read()\n",
        "\n",
        "print(contents)"
      ],
      "metadata": {
        "colab": {
          "base_uri": "https://localhost:8080/"
        },
        "id": "hHCCxSJkvNE8",
        "outputId": "132c9e01-8230-4d87-dc26-b22c3e2a7916"
      },
      "execution_count": 8,
      "outputs": [
        {
          "output_type": "stream",
          "name": "stdout",
          "text": [
            "Hello Python Programming\n"
          ]
        }
      ]
    },
    {
      "cell_type": "code",
      "source": [
        "import random\n",
        "\n",
        "hanguls = list('가나다라마바사아자차카타파하')\n",
        "\n",
        "with open('info.txt', 'w') as file:\n",
        "    for i in range(50):\n",
        "        name = random.choice(hanguls) + random.choice(hanguls)\n",
        "        weight = random.randrange(40, 100)\n",
        "        height = random.randrange(140, 200)\n",
        "        file.write(f'{name}, {weight}, {height}\\n')"
      ],
      "metadata": {
        "id": "oJR3lKMhvNPz"
      },
      "execution_count": 10,
      "outputs": []
    },
    {
      "cell_type": "code",
      "source": [
        "with open('info.txt', 'r') as file:\n",
        "    for line in file:\n",
        "        name, weight, height = line.strip().split(', ')\n",
        "        weight = float(weight)\n",
        "        height = int(height)\n",
        "        bmi = weight / ((height / 100) ** 2)\n",
        "        print('\\n'.join([\n",
        "            \"이름: {}\",\n",
        "            '몸무게: {}',\n",
        "            '키: {}',\n",
        "            'bmi: {}'\n",
        "        ]).format(name, weight, height, bmi))\n",
        "        print()"
      ],
      "metadata": {
        "colab": {
          "base_uri": "https://localhost:8080/"
        },
        "id": "J_lYvxf8waW5",
        "outputId": "9583fabc-0ad9-4693-83d5-4f070a6bc191"
      },
      "execution_count": 13,
      "outputs": [
        {
          "output_type": "stream",
          "name": "stdout",
          "text": [
            "이름: 카타\n",
            "몸무게: 52.0\n",
            "키: 193\n",
            "bmi: 13.960106311578835\n",
            "\n",
            "이름: 가차\n",
            "몸무게: 44.0\n",
            "키: 186\n",
            "bmi: 12.7182333217713\n",
            "\n",
            "이름: 파다\n",
            "몸무게: 63.0\n",
            "키: 161\n",
            "bmi: 24.3046178773967\n",
            "\n",
            "이름: 마차\n",
            "몸무게: 70.0\n",
            "키: 191\n",
            "bmi: 19.188070502453332\n",
            "\n",
            "이름: 라라\n",
            "몸무게: 40.0\n",
            "키: 156\n",
            "bmi: 16.43655489809336\n",
            "\n",
            "이름: 아파\n",
            "몸무게: 41.0\n",
            "키: 183\n",
            "bmi: 12.242826002568005\n",
            "\n",
            "이름: 가사\n",
            "몸무게: 59.0\n",
            "키: 186\n",
            "bmi: 17.05399468146606\n",
            "\n",
            "이름: 파카\n",
            "몸무게: 46.0\n",
            "키: 155\n",
            "bmi: 19.14672216441207\n",
            "\n",
            "이름: 가다\n",
            "몸무게: 71.0\n",
            "키: 170\n",
            "bmi: 24.56747404844291\n",
            "\n",
            "이름: 나카\n",
            "몸무게: 53.0\n",
            "키: 163\n",
            "bmi: 19.94805976890361\n",
            "\n",
            "이름: 파나\n",
            "몸무게: 40.0\n",
            "키: 146\n",
            "bmi: 18.765246762994934\n",
            "\n",
            "이름: 자타\n",
            "몸무게: 63.0\n",
            "키: 167\n",
            "bmi: 22.589551436050055\n",
            "\n",
            "이름: 나가\n",
            "몸무게: 82.0\n",
            "키: 180\n",
            "bmi: 25.30864197530864\n",
            "\n",
            "이름: 마아\n",
            "몸무게: 71.0\n",
            "키: 184\n",
            "bmi: 20.97117202268431\n",
            "\n",
            "이름: 나가\n",
            "몸무게: 92.0\n",
            "키: 163\n",
            "bmi: 34.62682073092702\n",
            "\n",
            "이름: 차사\n",
            "몸무게: 86.0\n",
            "키: 180\n",
            "bmi: 26.54320987654321\n",
            "\n",
            "이름: 나바\n",
            "몸무게: 94.0\n",
            "키: 171\n",
            "bmi: 32.14664341164803\n",
            "\n",
            "이름: 다자\n",
            "몸무게: 82.0\n",
            "키: 160\n",
            "bmi: 32.03124999999999\n",
            "\n",
            "이름: 파가\n",
            "몸무게: 47.0\n",
            "키: 186\n",
            "bmi: 13.585385593710253\n",
            "\n",
            "이름: 마가\n",
            "몸무게: 75.0\n",
            "키: 189\n",
            "bmi: 20.99605274208449\n",
            "\n",
            "이름: 사마\n",
            "몸무게: 45.0\n",
            "키: 193\n",
            "bmi: 12.080861231173992\n",
            "\n",
            "이름: 차아\n",
            "몸무게: 76.0\n",
            "키: 148\n",
            "bmi: 34.69685902118335\n",
            "\n",
            "이름: 카다\n",
            "몸무게: 51.0\n",
            "키: 183\n",
            "bmi: 15.228881125145568\n",
            "\n",
            "이름: 다마\n",
            "몸무게: 82.0\n",
            "키: 153\n",
            "bmi: 35.02926224956214\n",
            "\n",
            "이름: 차사\n",
            "몸무게: 69.0\n",
            "키: 192\n",
            "bmi: 18.717447916666668\n",
            "\n",
            "이름: 아바\n",
            "몸무게: 84.0\n",
            "키: 157\n",
            "bmi: 34.0784616008763\n",
            "\n",
            "이름: 가파\n",
            "몸무게: 93.0\n",
            "키: 197\n",
            "bmi: 23.963513617975213\n",
            "\n",
            "이름: 가바\n",
            "몸무게: 59.0\n",
            "키: 162\n",
            "bmi: 22.481329065691202\n",
            "\n",
            "이름: 하나\n",
            "몸무게: 48.0\n",
            "키: 171\n",
            "bmi: 16.415307274033037\n",
            "\n",
            "이름: 사카\n",
            "몸무게: 76.0\n",
            "키: 173\n",
            "bmi: 25.393431120318084\n",
            "\n",
            "이름: 타타\n",
            "몸무게: 66.0\n",
            "키: 176\n",
            "bmi: 21.306818181818183\n",
            "\n",
            "이름: 나하\n",
            "몸무게: 98.0\n",
            "키: 187\n",
            "bmi: 28.024821985186875\n",
            "\n",
            "이름: 사아\n",
            "몸무게: 51.0\n",
            "키: 140\n",
            "bmi: 26.02040816326531\n",
            "\n",
            "이름: 라바\n",
            "몸무게: 79.0\n",
            "키: 196\n",
            "bmi: 20.564348188254897\n",
            "\n",
            "이름: 바하\n",
            "몸무게: 89.0\n",
            "키: 151\n",
            "bmi: 39.03337572913469\n",
            "\n",
            "이름: 다라\n",
            "몸무게: 40.0\n",
            "키: 156\n",
            "bmi: 16.43655489809336\n",
            "\n",
            "이름: 가차\n",
            "몸무게: 91.0\n",
            "키: 183\n",
            "bmi: 27.173101615455817\n",
            "\n",
            "이름: 차파\n",
            "몸무게: 96.0\n",
            "키: 180\n",
            "bmi: 29.629629629629626\n",
            "\n",
            "이름: 사하\n",
            "몸무게: 60.0\n",
            "키: 198\n",
            "bmi: 15.304560759106215\n",
            "\n",
            "이름: 사타\n",
            "몸무게: 97.0\n",
            "키: 197\n",
            "bmi: 24.994202375737586\n",
            "\n",
            "이름: 나카\n",
            "몸무게: 72.0\n",
            "키: 188\n",
            "bmi: 20.37120869171571\n",
            "\n",
            "이름: 마차\n",
            "몸무게: 78.0\n",
            "키: 184\n",
            "bmi: 23.03875236294896\n",
            "\n",
            "이름: 카타\n",
            "몸무게: 73.0\n",
            "키: 178\n",
            "bmi: 23.04002019946976\n",
            "\n",
            "이름: 사파\n",
            "몸무게: 57.0\n",
            "키: 162\n",
            "bmi: 21.719250114311837\n",
            "\n",
            "이름: 타사\n",
            "몸무게: 85.0\n",
            "키: 196\n",
            "bmi: 22.12619741774261\n",
            "\n",
            "이름: 가나\n",
            "몸무게: 90.0\n",
            "키: 186\n",
            "bmi: 26.014568158168572\n",
            "\n",
            "이름: 자마\n",
            "몸무게: 43.0\n",
            "키: 154\n",
            "bmi: 18.13121942992073\n",
            "\n",
            "이름: 차아\n",
            "몸무게: 66.0\n",
            "키: 164\n",
            "bmi: 24.538964901844146\n",
            "\n",
            "이름: 파타\n",
            "몸무게: 68.0\n",
            "키: 166\n",
            "bmi: 24.677021338365513\n",
            "\n",
            "이름: 사자\n",
            "몸무게: 95.0\n",
            "키: 178\n",
            "bmi: 29.983587930816814\n",
            "\n"
          ]
        }
      ]
    },
    {
      "cell_type": "code",
      "source": [
        "class Character:\n",
        "    def __init__(self, name, hp, ad):\n",
        "        self.name = name\n",
        "        self.hp = hp\n",
        "        self.ad = ad\n",
        "        print('객체 생성:', self.name)\n",
        "\n",
        "    def information(self):\n",
        "        print(f'{self.name}: HP = {self.hp}, AD = {self.ad}')\n",
        "\n",
        "    def attack(self, target):\n",
        "        print(f'{self.name}이/가 {target.name}을 공격합니다.')\n",
        "        target.hp -= self.ad\n",
        "        print(f'공격 성공! {target.name} (남은 체력: {target.hp})')\n",
        "\n",
        "swordsman = Character('검술사', 100, 10)\n",
        "fairy = Character('요정', 60, 5)\n",
        "thief = Character('도적', 85, 8)\n",
        "\n",
        "swordsman.attack(fairy)\n",
        "thief.attack(fairy)"
      ],
      "metadata": {
        "colab": {
          "base_uri": "https://localhost:8080/"
        },
        "id": "Djegw4YixyL_",
        "outputId": "f28e320a-d7f1-435d-b4da-c1cf23669e5d"
      },
      "execution_count": 21,
      "outputs": [
        {
          "output_type": "stream",
          "name": "stdout",
          "text": [
            "객체 생성: 검술사\n",
            "객체 생성: 요정\n",
            "객체 생성: 도적\n",
            "검술사이/가 요정을 공격합니다.\n",
            "공격 성공! 요정 (남은 체력: 50)\n",
            "도적이/가 요정을 공격합니다.\n",
            "공격 성공! 요정 (남은 체력: 42)\n"
          ]
        }
      ]
    }
  ]
}