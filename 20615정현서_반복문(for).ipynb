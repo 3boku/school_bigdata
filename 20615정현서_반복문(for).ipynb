{
  "nbformat": 4,
  "nbformat_minor": 0,
  "metadata": {
    "colab": {
      "provenance": [],
      "authorship_tag": "ABX9TyPZalGK0/mUxtGUfO9Flx5S",
      "include_colab_link": true
    },
    "kernelspec": {
      "name": "python3",
      "display_name": "Python 3"
    },
    "language_info": {
      "name": "python"
    }
  },
  "cells": [
    {
      "cell_type": "markdown",
      "metadata": {
        "id": "view-in-github",
        "colab_type": "text"
      },
      "source": [
        "<a href=\"https://colab.research.google.com/github/NANONANDFLASH/school_bigdata/blob/main/20615%EC%A0%95%ED%98%84%EC%84%9C_%EB%B0%98%EB%B3%B5%EB%AC%B8(for).ipynb\" target=\"_parent\"><img src=\"https://colab.research.google.com/assets/colab-badge.svg\" alt=\"Open In Colab\"/></a>"
      ]
    },
    {
      "cell_type": "markdown",
      "source": [
        "#P.18"
      ],
      "metadata": {
        "id": "KhQx7KWWiopi"
      }
    },
    {
      "cell_type": "code",
      "execution_count": null,
      "metadata": {
        "colab": {
          "base_uri": "https://localhost:8080/"
        },
        "id": "Of6cIyrne02W",
        "outputId": "7b5e3d89-a215-4481-d156-185e2fd86d8f"
      },
      "outputs": [
        {
          "output_type": "stream",
          "name": "stdout",
          "text": [
            "Hello World!\n",
            "1\n",
            "Hello World!\n",
            "2\n",
            "Hello World!\n",
            "3\n"
          ]
        }
      ],
      "source": [
        "#P18 ex1\n",
        "for i in [1, 2, 3]:\n",
        "  print(\"Hello World!\")\n",
        "  print(i)"
      ]
    },
    {
      "cell_type": "code",
      "source": [
        "#p18 ex2\n",
        "\n",
        "for i in range(10):\n",
        "  print(i, end=' ')"
      ],
      "metadata": {
        "colab": {
          "base_uri": "https://localhost:8080/"
        },
        "id": "ngWQUMLFhF63",
        "outputId": "54be7a9b-b740-4e47-966b-8f72f23410b2"
      },
      "execution_count": null,
      "outputs": [
        {
          "output_type": "stream",
          "name": "stdout",
          "text": [
            "0 1 2 3 4 5 6 7 8 9 "
          ]
        }
      ]
    },
    {
      "cell_type": "code",
      "source": [
        "#p18 ex3\n",
        "\n",
        "for i in range(1, 10, 1):\n",
        "  print(i, end=' ')"
      ],
      "metadata": {
        "colab": {
          "base_uri": "https://localhost:8080/"
        },
        "id": "SbZY_b1XjHxC",
        "outputId": "99ca5b15-ab60-4bae-c148-1ba7b6d698f0"
      },
      "execution_count": null,
      "outputs": [
        {
          "output_type": "stream",
          "name": "stdout",
          "text": [
            "1 2 3 4 5 6 7 8 9 "
          ]
        }
      ]
    },
    {
      "cell_type": "code",
      "source": [
        "#p18 ex4\n",
        "\n",
        "for i in range(1, 10, 2):\n",
        "  print(i, end=' ')"
      ],
      "metadata": {
        "colab": {
          "base_uri": "https://localhost:8080/"
        },
        "id": "qEJ9wABsjRzx",
        "outputId": "b94fe5f1-6e26-4c1a-c776-248dc03a6acd"
      },
      "execution_count": null,
      "outputs": [
        {
          "output_type": "stream",
          "name": "stdout",
          "text": [
            "1 3 5 7 9 "
          ]
        }
      ]
    },
    {
      "cell_type": "code",
      "source": [
        "#p18 ex5\n",
        "\n",
        "for i in range(20, 1, -2):\n",
        "  print(i, end=' ')"
      ],
      "metadata": {
        "colab": {
          "base_uri": "https://localhost:8080/"
        },
        "id": "Lqas-h4Bjb8J",
        "outputId": "8abc5ec9-bfb9-42ae-91bf-b9b2c1616977"
      },
      "execution_count": null,
      "outputs": [
        {
          "output_type": "stream",
          "name": "stdout",
          "text": [
            "20 18 16 14 12 10 8 6 4 2 "
          ]
        }
      ]
    },
    {
      "cell_type": "code",
      "source": [
        "#p18 ex6\n",
        "\n",
        "for i in range(1, 4, 1):\n",
        "  print(\"안녕하세요\")"
      ],
      "metadata": {
        "colab": {
          "base_uri": "https://localhost:8080/"
        },
        "id": "Vdpzlpqjjh_7",
        "outputId": "b8bfb55f-af7d-4f4c-e1ca-e985803783cb"
      },
      "execution_count": null,
      "outputs": [
        {
          "output_type": "stream",
          "name": "stdout",
          "text": [
            "안녕하세요\n",
            "안녕하세요\n"
          ]
        }
      ]
    },
    {
      "cell_type": "code",
      "source": [
        "#p18 ex7\n",
        "a = 10\n",
        "for num in range(1, 5, 2):\n",
        "  a += num\n",
        "print(a)"
      ],
      "metadata": {
        "colab": {
          "base_uri": "https://localhost:8080/"
        },
        "id": "ElOPZ5yVjuFo",
        "outputId": "24ae23ea-1d6b-45de-a336-3de035093980"
      },
      "execution_count": null,
      "outputs": [
        {
          "output_type": "stream",
          "name": "stdout",
          "text": [
            "14\n"
          ]
        }
      ]
    },
    {
      "cell_type": "code",
      "source": [
        "#p18 ex8\n",
        "\n",
        "for i in [1, 2, 3]:\n",
        "  print(i, \"번째 학생의 성적 처리\")"
      ],
      "metadata": {
        "colab": {
          "base_uri": "https://localhost:8080/"
        },
        "id": "WA3CGBkPj2Wz",
        "outputId": "080eb82f-63ed-4b03-8d6e-40f15a02f7f4"
      },
      "execution_count": null,
      "outputs": [
        {
          "output_type": "stream",
          "name": "stdout",
          "text": [
            "1 번째 학생의 성적 처리\n",
            "2 번째 학생의 성적 처리\n",
            "3 번째 학생의 성적 처리\n"
          ]
        }
      ]
    },
    {
      "cell_type": "code",
      "source": [
        "#p18 ex9\n",
        "\n",
        "for i in range(1, 20, 2):\n",
        "  print(i, end=' ')"
      ],
      "metadata": {
        "colab": {
          "base_uri": "https://localhost:8080/"
        },
        "id": "5LBumG5rkUSm",
        "outputId": "db84b0c8-db69-4ad8-d8c2-e09e4edf83f5"
      },
      "execution_count": null,
      "outputs": [
        {
          "output_type": "stream",
          "name": "stdout",
          "text": [
            "1 3 5 7 9 11 13 15 17 19 "
          ]
        }
      ]
    },
    {
      "cell_type": "code",
      "source": [
        "#p18 ex10\n",
        "\n",
        "a = 2\n",
        "for b in range(1, 10, 1):\n",
        "  c = a*b\n",
        "  print(f\"{a} * {b} = {c}\")"
      ],
      "metadata": {
        "colab": {
          "base_uri": "https://localhost:8080/"
        },
        "id": "UDQZNxUMkgf7",
        "outputId": "6d4a4a8d-cc66-4469-c7c6-d0de7039fc42"
      },
      "execution_count": null,
      "outputs": [
        {
          "output_type": "stream",
          "name": "stdout",
          "text": [
            "2 * 1 = 2\n",
            "2 * 2 = 4\n",
            "2 * 3 = 6\n",
            "2 * 4 = 8\n",
            "2 * 5 = 10\n",
            "2 * 6 = 12\n",
            "2 * 7 = 14\n",
            "2 * 8 = 16\n",
            "2 * 9 = 18\n"
          ]
        }
      ]
    },
    {
      "cell_type": "code",
      "source": [
        "#p18 ex11\n",
        "sum=0\n",
        "for i in range(1, 11, 1):\n",
        "  sum += i\n",
        "  print(f\"i의 값 : {i}  =>  합계 : {sum}\")"
      ],
      "metadata": {
        "colab": {
          "base_uri": "https://localhost:8080/"
        },
        "id": "uynyDpGHlAC3",
        "outputId": "1f0e314b-23da-463a-fa74-83f9bf4a5581"
      },
      "execution_count": null,
      "outputs": [
        {
          "output_type": "stream",
          "name": "stdout",
          "text": [
            "i의 값 : 1  =>  합계 : 1\n",
            "i의 값 : 2  =>  합계 : 3\n",
            "i의 값 : 3  =>  합계 : 6\n",
            "i의 값 : 4  =>  합계 : 10\n",
            "i의 값 : 5  =>  합계 : 15\n",
            "i의 값 : 6  =>  합계 : 21\n",
            "i의 값 : 7  =>  합계 : 28\n",
            "i의 값 : 8  =>  합계 : 36\n",
            "i의 값 : 9  =>  합계 : 45\n",
            "i의 값 : 10  =>  합계 : 55\n"
          ]
        }
      ]
    },
    {
      "cell_type": "code",
      "source": [
        "#p19 ex12\n",
        "\n",
        "sum=0\n",
        "\n",
        "for i in range(2, 101, 1):\n",
        "  if(i%2==0):\n",
        "    sum+=i\n",
        "print(f\"1~100까지의 even_sum = {sum}\")"
      ],
      "metadata": {
        "colab": {
          "base_uri": "https://localhost:8080/"
        },
        "id": "pWz_5xylnDtP",
        "outputId": "50f9fe45-b941-45df-f14b-f2e6a44f4240"
      },
      "execution_count": null,
      "outputs": [
        {
          "output_type": "stream",
          "name": "stdout",
          "text": [
            "1~100까지의 even_sum = 2550\n"
          ]
        }
      ]
    },
    {
      "cell_type": "code",
      "source": [
        "#p19 ex13\n",
        "fact = 1\n",
        "for i in range(1, 11, 1):\n",
        "  fact = i * fact\n",
        "print(\"10! =\", fact)"
      ],
      "metadata": {
        "colab": {
          "base_uri": "https://localhost:8080/"
        },
        "id": "JMTxvAklniPe",
        "outputId": "28a5e8ea-b366-4c1d-b5f9-7281b510c2b9"
      },
      "execution_count": null,
      "outputs": [
        {
          "output_type": "stream",
          "name": "stdout",
          "text": [
            "10! = 3628800\n"
          ]
        }
      ]
    },
    {
      "cell_type": "code",
      "source": [
        "#p19 ex14\n",
        "cnt = 0\n",
        "for i in range(1, 101, 1):\n",
        "  if(i%5==0):\n",
        "    print(i, end=' ')\n",
        "    cnt+=1\n",
        "    if(cnt % 7 ==0):\n",
        "      print(\"\")\n",
        "    "
      ],
      "metadata": {
        "colab": {
          "base_uri": "https://localhost:8080/"
        },
        "id": "DFQZdPRqnwLb",
        "outputId": "0e27886c-f264-47d9-8973-988e67a8ae5a"
      },
      "execution_count": 38,
      "outputs": [
        {
          "output_type": "stream",
          "name": "stdout",
          "text": [
            "5 10 15 20 25 30 35 \n",
            "40 45 50 55 60 65 70 \n",
            "75 80 85 90 95 100 "
          ]
        }
      ]
    },
    {
      "cell_type": "code",
      "source": [
        "#p19 ex15\n",
        "n = int(input(\"정수를 입력하시오: \"))\n",
        "\n",
        "for i in range(1, i+1, 1):\n",
        "  if(n%i==0):\n",
        "   print(i, end=\" \")"
      ],
      "metadata": {
        "id": "cmuzhj5Got7V",
        "colab": {
          "base_uri": "https://localhost:8080/"
        },
        "outputId": "0ef1fa37-124a-43b8-d489-7bf70b3f5022"
      },
      "execution_count": 40,
      "outputs": [
        {
          "output_type": "stream",
          "name": "stdout",
          "text": [
            "정수를 입력하시오: 6\n",
            "1 2 3 6 "
          ]
        }
      ]
    },
    {
      "cell_type": "code",
      "source": [
        "#p19 ex16\n",
        "a = 0\n",
        "b = 1\n",
        "for i in range(1, 21, 1):\n",
        "  print(a, end = ' ')\n",
        "  n = a+b\n",
        "  b=a\n",
        "  a=n"
      ],
      "metadata": {
        "colab": {
          "base_uri": "https://localhost:8080/"
        },
        "id": "E1kdYeOMrIQv",
        "outputId": "b54debe0-f8ac-465d-8aed-d1beb628ec93"
      },
      "execution_count": 47,
      "outputs": [
        {
          "output_type": "stream",
          "name": "stdout",
          "text": [
            "0 1 1 2 3 5 8 13 21 34 55 89 144 233 377 610 987 1597 2584 4181 "
          ]
        }
      ]
    },
    {
      "cell_type": "code",
      "source": [
        "#p19 ex17\n",
        "for x in range(1, 41, 1):\n",
        "  if(x % 10 ==0):\n",
        "    print(\"+\", end=\"\")\n",
        "  else:\n",
        "    print(\"-\", end='')"
      ],
      "metadata": {
        "colab": {
          "base_uri": "https://localhost:8080/"
        },
        "id": "zYNfzsDbtbK7",
        "outputId": "2a0e9dd1-3921-4dbf-bb38-09496d7f603d"
      },
      "execution_count": 50,
      "outputs": [
        {
          "output_type": "stream",
          "name": "stdout",
          "text": [
            "---------+---------+---------+---------+"
          ]
        }
      ]
    },
    {
      "cell_type": "code",
      "source": [
        "#p19 ex18\n",
        "x=1\n",
        "while(x<=740):\n",
        "  if(x % 10 ==0):\n",
        "    print(\"+\", end=\"\")\n",
        "  else:\n",
        "    print(\"-\", end='')\n",
        "  x+=1"
      ],
      "metadata": {
        "colab": {
          "base_uri": "https://localhost:8080/"
        },
        "id": "awd5EF9_tvHr",
        "outputId": "f91897dd-533c-4f2f-9b39-e742cd828e9a"
      },
      "execution_count": 56,
      "outputs": [
        {
          "output_type": "stream",
          "name": "stdout",
          "text": [
            "---------+---------+---------+---------+"
          ]
        }
      ]
    },
    {
      "cell_type": "code",
      "source": [
        "print('-'*40)\n",
        "print(\" 센치(cm) 인치(inch) 피트(ft) 야드(yd)\")\n",
        "print('-'*40)\n",
        "for cm in range(10, 101, 10):\n",
        "  inch = cm * 0.393701\n",
        "  ft = cm * 0.032808\n",
        "  yd = cm * 0.010936\n",
        "  \n",
        "  print(\"%7d %8.1f %8.1f %8.1f\" %(cm,inch,ft,yd))\n",
        "print('-'*40)"
      ],
      "metadata": {
        "colab": {
          "base_uri": "https://localhost:8080/"
        },
        "id": "ehtTpMLFxugC",
        "outputId": "c375886d-a95b-45ef-8c31-44476720ba73"
      },
      "execution_count": 73,
      "outputs": [
        {
          "output_type": "stream",
          "name": "stdout",
          "text": [
            "----------------------------------------\n",
            " 센치(cm) 인치(inch) 피트(ft) 야드(yd)\n",
            "----------------------------------------\n",
            "     10      3.9      0.3      0.1\n",
            "     20      7.9      0.7      0.2\n",
            "     30     11.8      1.0      0.3\n",
            "     40     15.7      1.3      0.4\n",
            "     50     19.7      1.6      0.5\n",
            "     60     23.6      2.0      0.7\n",
            "     70     27.6      2.3      0.8\n",
            "     80     31.5      2.6      0.9\n",
            "     90     35.4      3.0      1.0\n",
            "    100     39.4      3.3      1.1\n",
            "----------------------------------------\n"
          ]
        }
      ]
    }
  ]
}