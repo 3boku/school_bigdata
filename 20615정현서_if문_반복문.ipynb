{
  "nbformat": 4,
  "nbformat_minor": 0,
  "metadata": {
    "colab": {
      "provenance": [],
      "authorship_tag": "ABX9TyM74Texet0SpcMdXpAyOD7x",
      "include_colab_link": true
    },
    "kernelspec": {
      "name": "python3",
      "display_name": "Python 3"
    },
    "language_info": {
      "name": "python"
    }
  },
  "cells": [
    {
      "cell_type": "markdown",
      "metadata": {
        "id": "view-in-github",
        "colab_type": "text"
      },
      "source": [
        "<a href=\"https://colab.research.google.com/github/NANONANDFLASH/school_bigdata/blob/main/20615%EC%A0%95%ED%98%84%EC%84%9C_if%EB%AC%B8_%EB%B0%98%EB%B3%B5%EB%AC%B8.ipynb\" target=\"_parent\"><img src=\"https://colab.research.google.com/assets/colab-badge.svg\" alt=\"Open In Colab\"/></a>"
      ]
    },
    {
      "cell_type": "markdown",
      "source": [
        "#13p"
      ],
      "metadata": {
        "id": "9goTGiFOcHtc"
      }
    },
    {
      "cell_type": "code",
      "execution_count": 5,
      "metadata": {
        "colab": {
          "base_uri": "https://localhost:8080/"
        },
        "id": "SZW1-A6Ab_YG",
        "outputId": "3f344154-3a60-4d45-99c0-4580e1361064"
      },
      "outputs": [
        {
          "output_type": "stream",
          "name": "stdout",
          "text": [
            "아이디를 입력하세요 : dasid\n",
            "회원 레벨을 입력해 주세요 : 2\n",
            "일부 컨텐츠 이용 가능\n"
          ]
        }
      ],
      "source": [
        "userid = input(\"아이디를 입력하세요 : \")\n",
        "level = int(input(\"회원 레벨을 입력해 주세요 : \"))\n",
        "if userid == \"admin\":\n",
        "  print(\"모든 컨텐츠 이용가능\")\n",
        "else:\n",
        "  if level >= 2  and level<=7:\n",
        "    print(\"일부 컨텐츠 이용 가능\")\n",
        "  else:\n",
        "    print(\"몰?루\")"
      ]
    },
    {
      "cell_type": "code",
      "source": [
        "import datetime\n",
        "\n",
        "now = datetime.datetime.now()\n",
        "print(now)\n",
        "print(now.year)\n",
        "print(now.day)\n",
        "print(now.hour)\n",
        "print(now.minute)\n",
        "print(now.second)"
      ],
      "metadata": {
        "colab": {
          "base_uri": "https://localhost:8080/"
        },
        "id": "ZJ6A_CG-dHLJ",
        "outputId": "0e6bab49-7af5-41dd-8196-327f6fa9c61e"
      },
      "execution_count": 7,
      "outputs": [
        {
          "output_type": "stream",
          "name": "stdout",
          "text": [
            "2023-03-21 00:02:52.707979\n",
            "2023\n",
            "21\n",
            "0\n",
            "2\n",
            "52\n"
          ]
        }
      ]
    },
    {
      "cell_type": "code",
      "source": [
        "import datetime\n",
        "\n",
        "hour = int(now.hour)\n",
        "\n",
        "if hour < 12:\n",
        "  print(\"현재시간은\", now.hour, \"시\", now.minute, \"분으로 오전입니다.\")\n",
        "else:\n",
        "  print(\"현재시간은\", now.hour, \"시\"+now.minute, \"분으로 오후입니다.\")"
      ],
      "metadata": {
        "colab": {
          "base_uri": "https://localhost:8080/"
        },
        "id": "pkD-pUyUd4Ok",
        "outputId": "040fa3c6-32a0-42ce-c06b-e30df827e038"
      },
      "execution_count": 15,
      "outputs": [
        {
          "output_type": "stream",
          "name": "stdout",
          "text": [
            "현재시간은 0 시 2 분으로 오전입니다.\n"
          ]
        }
      ]
    },
    {
      "cell_type": "code",
      "source": [
        "import datetime\n",
        "\n",
        "month = int(now.month)\n",
        "\n",
        "if month >= 3 and month <=5:\n",
        "  print(\"이번 달은\", month, \"월로 봄입니다!\")\n",
        "elif month >= 6 and month <=8:\n",
        "  print(\"이번 달은\", month, \"월로 여름입니다!\")\n",
        "elif month >= 9 and month <=11:\n",
        "  print(\"이번 달은\", month, \"월로 가을입니다!\")\n",
        "else:\n",
        "  print(\"이번 달은\", month, \"월로 겨울입니다!\")"
      ],
      "metadata": {
        "colab": {
          "base_uri": "https://localhost:8080/"
        },
        "id": "DE0_uAdIfKDc",
        "outputId": "3430da02-8eb7-4dd7-c1e3-562a0aef9518"
      },
      "execution_count": 16,
      "outputs": [
        {
          "output_type": "stream",
          "name": "stdout",
          "text": [
            "이번 달은 3 월로 봄입니다!\n"
          ]
        }
      ]
    },
    {
      "cell_type": "code",
      "source": [
        "import random\n",
        "\n",
        "print(random.random())\n",
        "\n",
        "print(random.randrange(1, 7))\n",
        "\n",
        "print(random.randint(1, 6))\n",
        "\n",
        "print(random.choice([10, 20, 30]))"
      ],
      "metadata": {
        "colab": {
          "base_uri": "https://localhost:8080/"
        },
        "id": "x7nAg-Omfzpg",
        "outputId": "d3d2d8ce-1a3e-46a8-8b09-6e38cec9ef1f"
      },
      "execution_count": 18,
      "outputs": [
        {
          "output_type": "stream",
          "name": "stdout",
          "text": [
            "0.5555068307369686\n",
            "6\n",
            "4\n",
            "30\n"
          ]
        }
      ]
    },
    {
      "cell_type": "code",
      "source": [
        "import random\n",
        "\n",
        "hour = int(random.randint(0, 24))\n",
        "sunny = int(random.choice([0, 1]))\n",
        "\n",
        "if hour <= 11 and hour >= 6:\n",
        "  print(\"좋은 아침입니다. 지금 시각은\", hour,\"시 입니다.\")\n",
        "  if sunny == 1:\n",
        "    print(\"현재 날씨가 화창합니다.\")\n",
        "    if hour >=6 and hour <=8:\n",
        "      print(\"종달새가 운다.\")\n",
        "    else:\n",
        "      print(\"종달새가 울지 않는다.\")\n",
        "  else:\n",
        "    print(\"현재 날씨가 화창하지 않습니다.\")\n",
        "    print(\"종달새가 울지 않는다.\")\n",
        "else:\n",
        "  print(\"아침이 아닙니다.\")\n",
        "  if sunny == 1:\n",
        "    print(\"현재 날씨가 화창합니다.\")\n",
        "  else:\n",
        "    print(\"현재 날씨가 화창하지 않습니다.\")\n",
        "\n"
      ],
      "metadata": {
        "colab": {
          "base_uri": "https://localhost:8080/"
        },
        "id": "IOs7T9ysgJpc",
        "outputId": "5dc4dd6b-0a9f-4152-eff2-7187c02dd36e"
      },
      "execution_count": 26,
      "outputs": [
        {
          "output_type": "stream",
          "name": "stdout",
          "text": [
            "좋은 아침입니다. 지금 시각은 9 시 입니다.\n",
            "현재 날씨가 화창하지 않습니다.\n",
            "종달새가 울지 않는다.\n"
          ]
        }
      ]
    },
    {
      "cell_type": "markdown",
      "source": [
        "#16p 반복문"
      ],
      "metadata": {
        "id": "UFy-3524iJQw"
      }
    },
    {
      "cell_type": "code",
      "source": [
        "i = 1\n",
        "\n",
        "while i <=3:\n",
        "  print(\"안녕하세요\")\n",
        "  i+=1\n"
      ],
      "metadata": {
        "colab": {
          "base_uri": "https://localhost:8080/"
        },
        "id": "oiYRQB_piNlL",
        "outputId": "cf7ca775-0297-4207-cb78-4da1a0bf09f0"
      },
      "execution_count": 30,
      "outputs": [
        {
          "output_type": "stream",
          "name": "stdout",
          "text": [
            "안녕하세요\n",
            "안녕하세요\n",
            "안녕하세요\n"
          ]
        }
      ]
    },
    {
      "cell_type": "code",
      "source": [
        "i = 1\n",
        "\n",
        "while i <=3:\n",
        "  print(i, \"번 학생의 성적을 처리한다.\")\n",
        "  i+=1"
      ],
      "metadata": {
        "colab": {
          "base_uri": "https://localhost:8080/"
        },
        "id": "4xqHkvTakard",
        "outputId": "d158eebc-62a0-4ce2-8976-8f4af950265a"
      },
      "execution_count": 31,
      "outputs": [
        {
          "output_type": "stream",
          "name": "stdout",
          "text": [
            "1 번 학생의 성적을 처리한다.\n",
            "2 번 학생의 성적을 처리한다.\n",
            "3 번 학생의 성적을 처리한다.\n"
          ]
        }
      ]
    },
    {
      "cell_type": "code",
      "source": [],
      "metadata": {
        "id": "di0e2Km2khoV"
      },
      "execution_count": null,
      "outputs": []
    }
  ]
}