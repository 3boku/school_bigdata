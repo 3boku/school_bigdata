{
  "nbformat": 4,
  "nbformat_minor": 0,
  "metadata": {
    "colab": {
      "provenance": [],
      "authorship_tag": "ABX9TyOURUop7v+rzGFQhYXtyY1R",
      "include_colab_link": true
    },
    "kernelspec": {
      "name": "python3",
      "display_name": "Python 3"
    },
    "language_info": {
      "name": "python"
    }
  },
  "cells": [
    {
      "cell_type": "markdown",
      "metadata": {
        "id": "view-in-github",
        "colab_type": "text"
      },
      "source": [
        "<a href=\"https://colab.research.google.com/github/NANONANDFLASH/school_bigdata/blob/main/20615%EC%A0%95%ED%98%84%EC%84%9C_2_if%EC%A1%B0%EA%B1%B4%EB%AC%B8(~13).ipynb\" target=\"_parent\"><img src=\"https://colab.research.google.com/assets/colab-badge.svg\" alt=\"Open In Colab\"/></a>"
      ]
    },
    {
      "cell_type": "markdown",
      "source": [
        "#P8\n",
        "\n"
      ],
      "metadata": {
        "id": "Qu5trSm-Ze3a"
      }
    },
    {
      "cell_type": "code",
      "execution_count": null,
      "metadata": {
        "id": "Jz9p1p9ZYMGw"
      },
      "outputs": [],
      "source": [
        "if 3>5 :\n",
        "  print(\"Hello World\")"
      ]
    },
    {
      "cell_type": "markdown",
      "source": [
        "age = int(input(\"몇살입니까?\"))\n",
        "if age<20:\n",
        "  print(\"학생입니다.\")"
      ],
      "metadata": {
        "id": "ggI4SCbdZ4J9"
      }
    },
    {
      "cell_type": "code",
      "source": [
        "age = 15\n",
        "if age<20:\n",
        "  print(\"학생입니다.\")\n",
        "  print(\"안녕히가세요.\")"
      ],
      "metadata": {
        "colab": {
          "base_uri": "https://localhost:8080/"
        },
        "id": "wpubq6vJbnZa",
        "outputId": "6a569bf0-efdc-418e-8853-7464c65014ae"
      },
      "execution_count": 5,
      "outputs": [
        {
          "output_type": "stream",
          "name": "stdout",
          "text": [
            "학생입니다.\n",
            "안녕히가세요.\n"
          ]
        }
      ]
    },
    {
      "cell_type": "code",
      "source": [
        "age = 20\n",
        "if age<20:\n",
        "  print(\"학생입니다.\")\n",
        "print(\"안녕히가세요.\")"
      ],
      "metadata": {
        "colab": {
          "base_uri": "https://localhost:8080/"
        },
        "id": "nKxmGhd_bv-P",
        "outputId": "f6cab9ec-9dd2-4aea-ba66-a5698e1eec60"
      },
      "execution_count": 6,
      "outputs": [
        {
          "output_type": "stream",
          "name": "stdout",
          "text": [
            "안녕히가세요.\n"
          ]
        }
      ]
    },
    {
      "cell_type": "code",
      "source": [
        "print(3 == 5)\n",
        "print( 3!= 5)\n",
        "print( 3<5)"
      ],
      "metadata": {
        "colab": {
          "base_uri": "https://localhost:8080/"
        },
        "id": "Prj2ET2ob40F",
        "outputId": "19d1a03e-14b4-4e15-e15a-e8b6440026f6"
      },
      "execution_count": 7,
      "outputs": [
        {
          "output_type": "stream",
          "name": "stdout",
          "text": [
            "False\n",
            "True\n",
            "True\n"
          ]
        }
      ]
    },
    {
      "cell_type": "code",
      "source": [
        "x = 4\n",
        "print(1<x<5)"
      ],
      "metadata": {
        "colab": {
          "base_uri": "https://localhost:8080/"
        },
        "id": "hQmLjxjncEWD",
        "outputId": "d2233752-87f9-47dd-990b-a457ef45fa29"
      },
      "execution_count": 8,
      "outputs": [
        {
          "output_type": "stream",
          "name": "stdout",
          "text": [
            "True\n"
          ]
        }
      ]
    },
    {
      "cell_type": "code",
      "source": [
        "print(3=>5)"
      ],
      "metadata": {
        "colab": {
          "base_uri": "https://localhost:8080/",
          "height": 137
        },
        "id": "mxt1jI27cHDP",
        "outputId": "01044034-50b4-4742-f670-652c753c6739"
      },
      "execution_count": 9,
      "outputs": [
        {
          "output_type": "error",
          "ename": "SyntaxError",
          "evalue": "ignored",
          "traceback": [
            "\u001b[0;36m  File \u001b[0;32m\"<ipython-input-9-3138f8a6f292>\"\u001b[0;36m, line \u001b[0;32m1\u001b[0m\n\u001b[0;31m    print(3=>5)\u001b[0m\n\u001b[0m          ^\u001b[0m\n\u001b[0;31mSyntaxError\u001b[0m\u001b[0;31m:\u001b[0m expression cannot contain assignment, perhaps you meant \"==\"?\n"
          ]
        }
      ]
    },
    {
      "cell_type": "markdown",
      "source": [
        "#P10"
      ],
      "metadata": {
        "id": "yV5v5v5UcOjk"
      }
    },
    {
      "cell_type": "code",
      "source": [
        "country = \"Korea\"\n",
        "if country == \"Korea\":\n",
        "  print(\"한국\")"
      ],
      "metadata": {
        "colab": {
          "base_uri": "https://localhost:8080/"
        },
        "id": "mzKZJP3RcQnO",
        "outputId": "b4bd495a-3ee5-4d24-96f5-01ae4b8020a5"
      },
      "execution_count": 10,
      "outputs": [
        {
          "output_type": "stream",
          "name": "stdout",
          "text": [
            "한국\n"
          ]
        }
      ]
    },
    {
      "cell_type": "code",
      "source": [
        "age = int(input(\"몇살입니까?\"))\n",
        "if age < 20:\n",
        "  print(\"학생입니다\")\n",
        "else:\n",
        "  print(\"성인입니다.\")"
      ],
      "metadata": {
        "colab": {
          "base_uri": "https://localhost:8080/"
        },
        "id": "zPXytJencaCv",
        "outputId": "f665405f-e002-4c93-82dd-d10833e40e10"
      },
      "execution_count": 11,
      "outputs": [
        {
          "output_type": "stream",
          "name": "stdout",
          "text": [
            "몇살입니까?20\n",
            "성인입니다.\n"
          ]
        }
      ]
    },
    {
      "cell_type": "code",
      "source": [
        "num = int(input(\"정수입력: \"))\n",
        "if(num % 2 ==0):\n",
        "  print(\"짝수\")\n",
        "else:\n",
        "  print(\"홀수\")"
      ],
      "metadata": {
        "id": "uT7VJIPzdIR8"
      },
      "execution_count": null,
      "outputs": []
    },
    {
      "cell_type": "code",
      "source": [
        "num = int(input(\"정수입력: \"))\n",
        "if(num % 5 ==0):\n",
        "  print(\"5의 배수입니다.\")\n",
        "else:\n",
        "  print(\"5의 배수가 아닙니다.\")"
      ],
      "metadata": {
        "colab": {
          "base_uri": "https://localhost:8080/"
        },
        "id": "R0cQtOB0cwIn",
        "outputId": "13a55982-10e4-4851-b3bb-ab48339a4726"
      },
      "execution_count": 12,
      "outputs": [
        {
          "output_type": "stream",
          "name": "stdout",
          "text": [
            "정수입력: 5\n",
            "5의 배수입니다.\n"
          ]
        }
      ]
    },
    {
      "cell_type": "code",
      "source": [
        "password = input(\"암호입력 \")\n",
        "if password == \"암호\":\n",
        "  print(\"암호이다.\")\n",
        "else:\n",
        "  print(\"암호가 아니다.\")"
      ],
      "metadata": {
        "colab": {
          "base_uri": "https://localhost:8080/"
        },
        "id": "0SgFXJBYdM-k",
        "outputId": "d766d366-cd87-4b7f-cb11-30de91de5026"
      },
      "execution_count": 13,
      "outputs": [
        {
          "output_type": "stream",
          "name": "stdout",
          "text": [
            "암호입력암호\n",
            "암호이다.\n"
          ]
        }
      ]
    },
    {
      "cell_type": "code",
      "source": [
        "num = int(input(\"숫자를 입력하세요: \"))\n",
        "if(num > 0):\n",
        "  print(\"양수입니다.\")\n",
        "else:\n",
        "  print(\"0 또는 음수입니다.\")"
      ],
      "metadata": {
        "colab": {
          "base_uri": "https://localhost:8080/"
        },
        "id": "OLQ-xEncdn2d",
        "outputId": "d5f8c786-c942-4d5c-82fa-907b703c7ee2"
      },
      "execution_count": 16,
      "outputs": [
        {
          "output_type": "stream",
          "name": "stdout",
          "text": [
            "숫자를 입력하세요: 0\n",
            "0 또는 음수입니다.\n"
          ]
        }
      ]
    },
    {
      "cell_type": "code",
      "source": [
        "num1 = int(input(\"첫번째 숫자를 입력하세요: \"))\n",
        "num2 = int(input(\"두번째 숫자를 입력하세요: \"))\n",
        "if(num1 > num2):\n",
        "  print(num1-num2)\n",
        "else:\n",
        "  print(num2-num1)"
      ],
      "metadata": {
        "colab": {
          "base_uri": "https://localhost:8080/"
        },
        "id": "kUFH42MkeCue",
        "outputId": "74162309-8c5c-4d2b-a20d-e37699d00f60"
      },
      "execution_count": 17,
      "outputs": [
        {
          "output_type": "stream",
          "name": "stdout",
          "text": [
            "첫번째 숫자를 입력하세요: 7\n",
            "두번째 숫자를 입력하세요: 9\n",
            "2\n"
          ]
        }
      ]
    },
    {
      "cell_type": "code",
      "source": [
        "time = int(input(\"1(주간근무) 또는 2(야간근무)을 입력해주세요: \"))\n",
        "money = int(input(\"근무 시간을 입력해주세요: \"))\n",
        "\n",
        "if(time == 1):\n",
        "  print(time,\"시간 동안 일한 주간 급여는\",money*9500,\"원 입니다.\")\n",
        "else:\n",
        "  print(time,\"시간 동안 일한 주간 급여는\",int(money*9500*1.5),\"원 입니다.\")"
      ],
      "metadata": {
        "colab": {
          "base_uri": "https://localhost:8080/"
        },
        "id": "ZuRnKz4JeZ6j",
        "outputId": "bb97f5e2-1432-4f56-c1e9-bdee9eb499a1"
      },
      "execution_count": 30,
      "outputs": [
        {
          "output_type": "stream",
          "name": "stdout",
          "text": [
            "1(주간근무) 또는 2(야간근무)을 입력해주세요: 2\n",
            "근무 시간을 입력해주세요: 55\n",
            "2 시간 동안 일한 주간 급여는 783750 원 입니다.\n"
          ]
        }
      ]
    },
    {
      "cell_type": "code",
      "source": [
        "name = input(\"이름을 입력하세요: \")\n",
        "time = int(input(\"일주일간 일한 시간을 입력하세요: \"))\n",
        "\n",
        "if(time>40):\n",
        "  print(\"초과 시간:\", time-40)\n",
        "  print(name, \"님의 주급은\", int(40*12000+(time-40)*12000*1.5), \"입니다.\")\n",
        "else:\n",
        "  print(name, \"님의 주급은\", time*12000, \"입니다.\")"
      ],
      "metadata": {
        "colab": {
          "base_uri": "https://localhost:8080/"
        },
        "id": "gQI04Uc3gDK8",
        "outputId": "ab9b1732-7f94-4e4d-f944-eabb1697d33d"
      },
      "execution_count": 33,
      "outputs": [
        {
          "output_type": "stream",
          "name": "stdout",
          "text": [
            "이름을 입력하세요: 상민\n",
            "일주일간 일한 시간을 입력하세요: 38\n",
            "상민 님의 주급은 456000 입니다.\n"
          ]
        }
      ]
    },
    {
      "cell_type": "code",
      "source": [
        "print((3==3) and (4!=3))\n",
        "print((3==3) or (4!=3))\n",
        "print(not (4 != 3))"
      ],
      "metadata": {
        "colab": {
          "base_uri": "https://localhost:8080/"
        },
        "id": "zBabocf8hQBp",
        "outputId": "2459ce3d-17c4-4701-8028-7110af63a9ef"
      },
      "execution_count": 34,
      "outputs": [
        {
          "output_type": "stream",
          "name": "stdout",
          "text": [
            "True\n",
            "True\n",
            "False\n"
          ]
        }
      ]
    },
    {
      "cell_type": "markdown",
      "source": [
        "#P.11"
      ],
      "metadata": {
        "id": "A7GY7MNFhmEF"
      }
    },
    {
      "cell_type": "code",
      "source": [
        "a = int(input(\"a입력:\"))\n",
        "b = int(input(\"b입력:\"))\n",
        "if a == 3 and b == 4:\n",
        "  print(\"OK\")\n",
        "if a == 3 or b == 4:\n",
        "  print(\"Okay\")"
      ],
      "metadata": {
        "colab": {
          "base_uri": "https://localhost:8080/"
        },
        "id": "sIzqRqyCftu6",
        "outputId": "e40b2a0c-cf9e-46d4-efa6-256f39642580"
      },
      "execution_count": 35,
      "outputs": [
        {
          "output_type": "stream",
          "name": "stdout",
          "text": [
            "a입력:3\n",
            "b입력:4\n",
            "OK\n",
            "Okay\n"
          ]
        }
      ]
    },
    {
      "cell_type": "code",
      "source": [
        "x = int(input(\"숫자입력: \"))\n",
        "if x > 10 and x % 2 == 0:\n",
        "  print(\"10 초과 짝수\")"
      ],
      "metadata": {
        "colab": {
          "base_uri": "https://localhost:8080/"
        },
        "id": "1_OY4PfTh5sC",
        "outputId": "b5ff23f4-8719-49ea-8a06-f941028568b7"
      },
      "execution_count": 36,
      "outputs": [
        {
          "output_type": "stream",
          "name": "stdout",
          "text": [
            "숫자입력: 18\n",
            "10 초과 짝수\n"
          ]
        }
      ]
    },
    {
      "cell_type": "code",
      "source": [
        "num1 = int(input(\"필기 성적을 입력하세요: \"))\n",
        "num2 = int(input(\"실기 성적을 입력하세요: \"))\n",
        "\n",
        "if(num1 > 80 and num2 > 80):\n",
        "  print(\"합격!\")\n",
        "else:\n",
        "  print(\"불합격!\")"
      ],
      "metadata": {
        "colab": {
          "base_uri": "https://localhost:8080/"
        },
        "id": "MlgqT5pOiFGT",
        "outputId": "e7615406-feba-4915-ff91-e3c1fce3884b"
      },
      "execution_count": 37,
      "outputs": [
        {
          "output_type": "stream",
          "name": "stdout",
          "text": [
            "필기 성적을 입력하세요: 90\n",
            "실기 성적을 입력하세요: 85\n",
            "합격!\n"
          ]
        }
      ]
    },
    {
      "cell_type": "code",
      "source": [
        "age = int(input(\"몇 살이세요? \"))\n",
        "\n",
        "if((0 <= age and age < 7) or (age >= 65)):\n",
        "  print(\"입장료는 무료입니다.\")\n",
        "else:\n",
        "  print(\"입장료는 3000원입니다.\")"
      ],
      "metadata": {
        "colab": {
          "base_uri": "https://localhost:8080/"
        },
        "id": "87ihsyTEibmV",
        "outputId": "fe43b690-f853-4772-9114-86aa0811ec26"
      },
      "execution_count": 44,
      "outputs": [
        {
          "output_type": "stream",
          "name": "stdout",
          "text": [
            "몇 살이세요? 4\n",
            "입장료는 무료입니다.\n"
          ]
        }
      ]
    },
    {
      "cell_type": "code",
      "source": [
        "age = int(input(\"나이: \"))\n",
        "height = int(input(\"키: \"))\n",
        "\n",
        "if(age >= 10 and height >= 150):\n",
        "  print(\"놀이기구를 탈 수 있다.\")\n",
        "else:\n",
        "  print(\"놀이기구를 탈 수 없다.\")"
      ],
      "metadata": {
        "colab": {
          "base_uri": "https://localhost:8080/"
        },
        "id": "vjTNKmsWjGDK",
        "outputId": "80fc73d6-7141-4952-a5aa-0a213a1bfc6b"
      },
      "execution_count": 45,
      "outputs": [
        {
          "output_type": "stream",
          "name": "stdout",
          "text": [
            "나이: 15\n",
            "키: 160\n",
            "놀이기구를 탈 수 있다.\n"
          ]
        }
      ]
    },
    {
      "cell_type": "code",
      "source": [
        "id = input(\"아이디를 입력하세요: \")\n",
        "level = input(\"회원 레벨을 입력하세요: \")\n",
        "\n",
        "if(id == \"admin\" or level == 1):\n",
        "  print(\"관리자입니다.\")\n",
        "else:\n",
        "  print(\"관리자가 아닙니다.\")"
      ],
      "metadata": {
        "colab": {
          "base_uri": "https://localhost:8080/"
        },
        "id": "6Wc-1axOjkwJ",
        "outputId": "2050eebe-c750-47fa-fb46-1c29ff73282e"
      },
      "execution_count": 46,
      "outputs": [
        {
          "output_type": "stream",
          "name": "stdout",
          "text": [
            "아이디를 입력하세요: admin\n",
            "회원 레벨을 입력하세요: 1\n",
            "관리자입니다.\n"
          ]
        }
      ]
    },
    {
      "cell_type": "code",
      "source": [
        "num = int(input(\"정수를 입력하세요: \"))\n",
        "if(num >= 1 and num <= 100):\n",
        "  print(num,(\"은(는) 1~100사이에 있다.\"))\n",
        "else:\n",
        "  print(num,(\"은(는) 1~100사이에 없다.\"))"
      ],
      "metadata": {
        "colab": {
          "base_uri": "https://localhost:8080/"
        },
        "id": "0volWO_jj4fl",
        "outputId": "e5b9a702-a1e2-47d1-c1d1-bf09e982e281"
      },
      "execution_count": 47,
      "outputs": [
        {
          "output_type": "stream",
          "name": "stdout",
          "text": [
            "정수를 입력하세요: 77\n",
            "77 은(는) 1~100사이에 있다.\n"
          ]
        }
      ]
    },
    {
      "cell_type": "code",
      "source": [
        "month = 3\n",
        "\n",
        "if 3 <= month <=5:\n",
        "  print(\"현재는 봄입니다.\")\n",
        "elif 6 <= month <=8:\n",
        "  print(\"현재는 여름입니다.\")\n",
        "elif 9 <= month <=11:\n",
        "  print(\"현재는 가을입니다.\")\n",
        "else:\n",
        "  print(\"현재는 겨울입니다.\")"
      ],
      "metadata": {
        "colab": {
          "base_uri": "https://localhost:8080/"
        },
        "id": "LBhHpJeUkhJW",
        "outputId": "ee936368-1ad1-4aaf-b884-30de6ff63aa9"
      },
      "execution_count": 48,
      "outputs": [
        {
          "output_type": "stream",
          "name": "stdout",
          "text": [
            "현재는 봄입니다.\n"
          ]
        }
      ]
    },
    {
      "cell_type": "markdown",
      "source": [
        "#P.12"
      ],
      "metadata": {
        "id": "ufFdm3F3lCXd"
      }
    },
    {
      "cell_type": "code",
      "source": [
        "money = int(input(\"구매금액: \"))\n",
        "\n",
        "if(money >= 20000 and money >=50000):\n",
        "  print(\"무료배송입니다.\")\n",
        "elif(money >= 20000 and money <50000):\n",
        "  print(\"배송비 2500원이 추가됩니다.\")\n",
        "else:\n",
        "  print(\"새벽배송이 불가능합니다.\")"
      ],
      "metadata": {
        "colab": {
          "base_uri": "https://localhost:8080/"
        },
        "id": "eXPXvIDjlGS8",
        "outputId": "a141e56a-efff-4c59-c4ea-e3a19eabb07e"
      },
      "execution_count": 49,
      "outputs": [
        {
          "output_type": "stream",
          "name": "stdout",
          "text": [
            "구매금액: 15000\n",
            "새벽배송이 불가능합니다.\n"
          ]
        }
      ]
    },
    {
      "cell_type": "code",
      "source": [
        "num = int(input(\"점수를 입력하세요: \"))\n",
        "\n",
        "if num >= 90:\n",
        "  print(\"A등급 입니다.\")\n",
        "elif num >= 80:\n",
        "  print(\"B등급 입니다.\")\n",
        "elif num >= 70:\n",
        "  print(\"C등급 입니다.\")\n",
        "else:\n",
        "  print(\"F등급 입니다.\")"
      ],
      "metadata": {
        "colab": {
          "base_uri": "https://localhost:8080/"
        },
        "id": "gERWSoUZl0-4",
        "outputId": "a70bd1cb-f97d-4828-b5ae-e6031064dff6"
      },
      "execution_count": 50,
      "outputs": [
        {
          "output_type": "stream",
          "name": "stdout",
          "text": [
            "점수를 입력하세요: 100\n",
            "A등급 입니다.\n"
          ]
        }
      ]
    },
    {
      "cell_type": "code",
      "source": [
        "num1 = int(input(\"첫 번째 수: \"))\n",
        "num2 = int(input(\"두 번째 수: \"))\n",
        "num3 = int(input(\"세 번째 수: \"))\n",
        "\n",
        "if(num1 > num2 and num1 > num3):\n",
        "  print(\"가장 큰 수는\", num1, \"입니다.\")\n",
        "elif(num2 > num1 and num2 > num3):\n",
        "  print(\"가장 큰 수는\", num2, \"입니다.\")\n",
        "else:\n",
        "  print(\"가장 큰 수는\", num3, \"입니다.\")"
      ],
      "metadata": {
        "colab": {
          "base_uri": "https://localhost:8080/"
        },
        "id": "14InxLqxmPZR",
        "outputId": "1e859148-97ab-484e-a21a-1fc758553b91"
      },
      "execution_count": 52,
      "outputs": [
        {
          "output_type": "stream",
          "name": "stdout",
          "text": [
            "첫 번째 수: 4\n",
            "두 번째 수: 6\n",
            "세 번째 수: 1\n",
            "가장 큰 수는 6 입니다.\n"
          ]
        }
      ]
    },
    {
      "cell_type": "code",
      "source": [
        "temp = int(input(\"온도를 입력하세요: \"))\n",
        "\n",
        "if temp < 0:\n",
        "  print(\"고체\")\n",
        "elif 0 <= temp < 100:\n",
        "  print(\"액체\")\n",
        "else:\n",
        "  print(\"기체\")\n"
      ],
      "metadata": {
        "colab": {
          "base_uri": "https://localhost:8080/"
        },
        "id": "fXLfhFyhm9jA",
        "outputId": "d104656b-2785-40a3-ed09-c2d211ea1422"
      },
      "execution_count": 54,
      "outputs": [
        {
          "output_type": "stream",
          "name": "stdout",
          "text": [
            "온도를 입력하세요: 34\n",
            "액체\n"
          ]
        }
      ]
    },
    {
      "cell_type": "code",
      "source": [
        "eng = int(input(\"영어시험 점수를 입력하세요 : \"))\n",
        "math = int(input(\"수학시험 점수를 입력하세요 : \"))\n",
        "\n",
        "if(eng > 80 and math >80):\n",
        "  print(\"합격\")\n",
        "elif(eng > 80 or math > 80):\n",
        "  print(\"재시험 기회 제공\")\n",
        "else:\n",
        "  print(\"불합격\")"
      ],
      "metadata": {
        "colab": {
          "base_uri": "https://localhost:8080/"
        },
        "id": "MDPbIsOpnymQ",
        "outputId": "1d224ed2-efa8-4621-c724-8241a2eb5c27"
      },
      "execution_count": 56,
      "outputs": [
        {
          "output_type": "stream",
          "name": "stdout",
          "text": [
            "영어시험 점수를 입력하세요 : 85\n",
            "수학시험 점수를 입력하세요 : 70\n",
            "재시험 기회 제공\n"
          ]
        }
      ]
    },
    {
      "cell_type": "code",
      "source": [
        "ser = int(input(\"서비스가 어떠셨나요(예: 1 또는 2 또는 3: \"))\n",
        "money = int(input(\"음식값을 입력해주세요(예:8000) : \"))\n",
        "\n",
        "if(ser == 1):\n",
        "  print(\"팁:\", int(money * 0.2),\"원입니다.\")\n",
        "elif(ser == 2):\n",
        "  print(\"팁:\", int(money * 0.1),\"원입니다.\")\n",
        "else:\n",
        "  print(\"팁:\", int(money * 0.05),\"원입니다.\")"
      ],
      "metadata": {
        "colab": {
          "base_uri": "https://localhost:8080/"
        },
        "id": "byJLHZFqo_ft",
        "outputId": "37a134eb-cc76-4a0d-d562-95654e486e41"
      },
      "execution_count": 57,
      "outputs": [
        {
          "output_type": "stream",
          "name": "stdout",
          "text": [
            "서비스가 어떠셨나요(예: 1 또는 2 또는 3: 2\n",
            "음식값을 입력해주세요(예:8000) : 9000\n",
            "팁: 900.0 원입니다.\n"
          ]
        }
      ]
    },
    {
      "cell_type": "code",
      "source": [
        "money = int(input(\"물건 구매가를 입력하세요 : \"))\n",
        "\n",
        "if money > 300000:\n",
        "  print(\"구매가:\", money)\n",
        "  print(\"할인율 : 10%\")\n",
        "  print(\"할인금액 :\", int(money*0.1),\"원\")\n",
        "  print(\"지불금액 :\", money-int(money*0.1), \"원\")\n",
        "elif money >= 50000 and money < 300000:\n",
        "  print(\"구매가:\", money)\n",
        "  print(\"할인율 : 7.5%\")\n",
        "  print(\"할인금액 :\", int(money*0.075),\"원\")\n",
        "  print(\"지불금액 :\", money-int(money*0.075), \"원\")\n",
        "else:\n",
        "  print(\"구매가:\", money)\n",
        "  print(\"할인율 : 15%\")\n",
        "  print(\"할인금액 :\", int(money*0.05),\"원\")\n",
        "  print(\"지불금액 :\", money-int(money*0.05), \"원\")"
      ],
      "metadata": {
        "colab": {
          "base_uri": "https://localhost:8080/"
        },
        "id": "z16GLLzoqfZ-",
        "outputId": "434501e0-a6a3-4390-94d2-4cbf1a416f82"
      },
      "execution_count": 58,
      "outputs": [
        {
          "output_type": "stream",
          "name": "stdout",
          "text": [
            "물건 구매가를 입력하세요 : 60000\n",
            "구매가: 60000\n",
            "할인율 : 7.5%\n",
            "할인금액 : 4500 원\n",
            "지불금액 : 55500 원\n"
          ]
        }
      ]
    },
    {
      "cell_type": "code",
      "source": [
        "menu = int(input(\"1. 떡볶이 3000원 \\n2. 김밥 2500원 \\n3. 튀김 3500원 \\n번호 선택 : \"))\n",
        "\n",
        "if(menu == 1):\n",
        "  print(\"당신은 떡볶이를 선택하셨군요!\")\n",
        "  inbun = int(input(\"떡볶이를 몇 인분 주문하시겠습니까? \"))\n",
        "  price = 3000*inbun\n",
        "  print(\"총 가격은\", price, \"원 입니다.\")\n",
        "elif(menu == 2):\n",
        "  print(\"당신은 김밥을 선택하셨군요!\")\n",
        "  inbun2 = int(input(\"김밥을 몇 인분 주문하시겠습니까? \"))\n",
        "  price = 2500*inbun2\n",
        "  print(\"총 가격은\", price, \"원 입니다.\")\n",
        "elif(menu == 3):\n",
        "  print(\"당신은 튀김을 선택하셨군요!\")\n",
        "  inbun3 = int(input(\"튀김을 몇 인분 주문하시겠습니까? \"))\n",
        "  print(\"총 가격은\", 3500*inbun3, \"원 입니다.\")\n",
        "else:\n",
        "  print(\"1, 2, 3 중 하나를 선택해주세요\")"
      ],
      "metadata": {
        "colab": {
          "base_uri": "https://localhost:8080/"
        },
        "id": "ujwo5VmdsXTz",
        "outputId": "037c3608-999f-421f-b89e-79e2078d0152"
      },
      "execution_count": 63,
      "outputs": [
        {
          "output_type": "stream",
          "name": "stdout",
          "text": [
            "1. 떡볶이 3000원 \n",
            "2. 김밥 2500원 \n",
            "3. 튀김 3500원 \n",
            "번호 선택 : 1\n",
            "당신은 떡볶이를 선택하셨군요!\n",
            "떡볶이를 몇 인분 주문하시겠습니까?2\n",
            "총 가격은 6000 원 입니다.\n"
          ]
        }
      ]
    },
    {
      "cell_type": "code",
      "source": [
        "kg = int(input(\"체중을 입력하세요: \"))\n",
        "height = float(input(\"키를 입력하세요(m): \"))\n",
        "BMI = kg / (height**2)\n",
        "\n",
        "if(BMI > 25):\n",
        "  print(\"당신의 BMI지수는\", BMI, \"이며 비만입니다.\")\n",
        "elif(BMI <= 25 and BMI >15):\n",
        "  print(\"당신의 BMI지수는\", BMI, \"이며 과체중입니다.\")\n",
        "else:\n",
        "  print(\"당신의 BMI지수는\", BMI, \"이며 정상입니다.\")"
      ],
      "metadata": {
        "colab": {
          "base_uri": "https://localhost:8080/"
        },
        "id": "wRfC3p0XvFRU",
        "outputId": "d8c7f4e2-52c0-45b8-f0b2-c4a067cdd50e"
      },
      "execution_count": 64,
      "outputs": [
        {
          "output_type": "stream",
          "name": "stdout",
          "text": [
            "체중을 입력하세요: 88\n",
            "키를 입력하세요(m): 1.8\n",
            "당신의 BMI지수는 27.160493827160494 이며 비만입니다.\n"
          ]
        }
      ]
    },
    {
      "cell_type": "markdown",
      "source": [
        "#P.13"
      ],
      "metadata": {
        "id": "6wnAUVAqwHio"
      }
    },
    {
      "cell_type": "code",
      "source": [
        "kg = int(input(\"체중을 입력하세요: \"))\n",
        "height = int(input(\"키를 입력하세요(cm): \"))\n",
        "age = int(input(\"나이를 입력하세요: \"))\n",
        "male = input(\"성별을 입력하세요: 남자/여자 \")\n",
        "\n",
        "if(male == \"남자\"):\n",
        "  das = 66.47 + (13.75 * kg) + (5*height)-(6.68*age)\n",
        "  print(\"당신의 기초대사량은\", das, \"입니다.\")\n",
        "else:\n",
        "  das = 655.1 + (9.56 * kg) + (18.5*height)-(4.68*age)\n",
        "  print(\"당신의 기초대사량은\", das, \"입니다.\")"
      ],
      "metadata": {
        "colab": {
          "base_uri": "https://localhost:8080/"
        },
        "id": "w1HxgWaPv-VC",
        "outputId": "2c4ce1f2-0539-4a52-89b1-2a6293ebdea8"
      },
      "execution_count": 65,
      "outputs": [
        {
          "output_type": "stream",
          "name": "stdout",
          "text": [
            "체중을 입력하세요: 90\n",
            "키를 입력하세요(cm): 183\n",
            "나이를 입력하세요: 39\n",
            "성별을 입력하세요: 남자/여자 남자\n",
            "당신의 기초대사량은 1958.4500000000003 입니다.\n"
          ]
        }
      ]
    },
    {
      "cell_type": "code",
      "source": [
        "x = 17\n",
        "if x > 10 :\n",
        "  if x %2==0:\n",
        "    print(\"10초과 짝수\")\n",
        "  else:\n",
        "    print(\"10초과 홀수\")\n"
      ],
      "metadata": {
        "id": "OedD4Z0-xVhR"
      },
      "execution_count": null,
      "outputs": []
    }
  ]
}