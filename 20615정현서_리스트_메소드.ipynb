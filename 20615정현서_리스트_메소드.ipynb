{
  "nbformat": 4,
  "nbformat_minor": 0,
  "metadata": {
    "colab": {
      "provenance": [],
      "authorship_tag": "ABX9TyPt4UhPEyclWSi/4S7MO0h4",
      "include_colab_link": true
    },
    "kernelspec": {
      "name": "python3",
      "display_name": "Python 3"
    },
    "language_info": {
      "name": "python"
    }
  },
  "cells": [
    {
      "cell_type": "markdown",
      "metadata": {
        "id": "view-in-github",
        "colab_type": "text"
      },
      "source": [
        "<a href=\"https://colab.research.google.com/github/NANONANDFLASH/school_bigdata/blob/main/20615%EC%A0%95%ED%98%84%EC%84%9C_%EB%A6%AC%EC%8A%A4%ED%8A%B8_%EB%A9%94%EC%86%8C%EB%93%9C.ipynb\" target=\"_parent\"><img src=\"https://colab.research.google.com/assets/colab-badge.svg\" alt=\"Open In Colab\"/></a>"
      ]
    },
    {
      "cell_type": "markdown",
      "source": [
        "#p24"
      ],
      "metadata": {
        "id": "KBcB7MJ-vXUE"
      }
    },
    {
      "cell_type": "code",
      "execution_count": null,
      "metadata": {
        "colab": {
          "base_uri": "https://localhost:8080/"
        },
        "id": "BVrsdsa0vN6Z",
        "outputId": "9a62f0ae-da4e-4df9-ddcc-1c0b298a9fc2"
      },
      "outputs": [
        {
          "output_type": "stream",
          "name": "stdout",
          "text": [
            "[1, 2, 3, 4, 5]\n",
            "[1, 2, 99, 3, 4, 5]\n"
          ]
        }
      ],
      "source": [
        "#19\n",
        "nums = [1,2,3,4]\n",
        "nums.append(5)\n",
        "print(nums)\n",
        "\n",
        "nums.insert(2,99)\n",
        "print(nums\n",
        "      )"
      ]
    },
    {
      "cell_type": "code",
      "source": [
        "#20\n",
        "list1=[1,2,3,4,5]\n",
        "list2=[10,11]\n",
        "list1.extend(list2)\n",
        "print(list1)"
      ],
      "metadata": {
        "colab": {
          "base_uri": "https://localhost:8080/"
        },
        "id": "N4i6t6URw-6I",
        "outputId": "a96c549c-d914-4924-83b9-f1153e626850"
      },
      "execution_count": null,
      "outputs": [
        {
          "output_type": "stream",
          "name": "stdout",
          "text": [
            "[1, 2, 3, 4, 5, 10, 11]\n"
          ]
        }
      ]
    },
    {
      "cell_type": "code",
      "source": [
        "#21\n",
        "score = [88, 95, 70, 100, 99]\n",
        "print(\"100의 위치: \", score.index(100)+1)\n",
        "\n",
        "print(score.pop())\n",
        "print(score.pop())\n",
        "print(score.pop(1))\n",
        "print(score)"
      ],
      "metadata": {
        "colab": {
          "base_uri": "https://localhost:8080/"
        },
        "id": "N32wZJnkxNUN",
        "outputId": "783aaae5-9da6-4d5f-c951-c2aa0e3f7ebf"
      },
      "execution_count": null,
      "outputs": [
        {
          "output_type": "stream",
          "name": "stdout",
          "text": [
            "100의 위치:  4\n",
            "99\n",
            "100\n",
            "95\n",
            "[88, 70]\n"
          ]
        }
      ]
    },
    {
      "cell_type": "code",
      "source": [
        "#22\n",
        "score = [88,95,70,100,99]\n",
        "\n",
        "score.remove(99)\n",
        "print(\"99삭제 후 : \", score)\n",
        "score.sort()\n",
        "print(\"리스트 정렬 후:\", score)\n",
        "score.sort(reverse=True)\n",
        "print(\"거꾸로 정렬:\", score)\n",
        "score.clear()\n",
        "print(\"리스트 삭제\", score)"
      ],
      "metadata": {
        "colab": {
          "base_uri": "https://localhost:8080/"
        },
        "id": "CvULhzGRxzoc",
        "outputId": "c728fa65-1627-4b3a-9941-1ad79dfa03a0"
      },
      "execution_count": null,
      "outputs": [
        {
          "output_type": "stream",
          "name": "stdout",
          "text": [
            "99삭제 후 :  [88, 95, 70, 100]\n",
            "리스트 정렬 후: [70, 88, 95, 100]\n",
            "거꾸로 정렬: [100, 95, 88, 70]\n",
            "리스트 삭제 []\n"
          ]
        }
      ]
    },
    {
      "cell_type": "code",
      "source": [
        "#23\n",
        "list1 = ['a', 'bb', 'c', 'd', 'aaa', 'c', 'ddd', 'aaa', 'b', 'cc', 'd', 'aaa']\n",
        "length = list1.count('aaa')\n",
        "\n",
        "print(length)"
      ],
      "metadata": {
        "colab": {
          "base_uri": "https://localhost:8080/"
        },
        "id": "mNDwsnFkyk6v",
        "outputId": "6b923061-b35f-47c9-bb49-b6eb4309d6a2"
      },
      "execution_count": null,
      "outputs": [
        {
          "output_type": "stream",
          "name": "stdout",
          "text": [
            "3\n"
          ]
        }
      ]
    },
    {
      "cell_type": "code",
      "source": [
        "#24\n",
        "mylist = ['사과', '바나나', '파인애플']\n",
        "mylist.append('키위')\n",
        "mylist.append('배')\n",
        "for a in mylist:\n",
        "  print(a)"
      ],
      "metadata": {
        "colab": {
          "base_uri": "https://localhost:8080/"
        },
        "id": "zeNKOOFly6JG",
        "outputId": "24f07ea0-6115-4983-d301-553f00358756"
      },
      "execution_count": null,
      "outputs": [
        {
          "output_type": "stream",
          "name": "stdout",
          "text": [
            "사과\n",
            "바나나\n",
            "파인애플\n",
            "키위\n",
            "배\n"
          ]
        }
      ]
    },
    {
      "cell_type": "code",
      "source": [
        "#25\n",
        "scores = []\n",
        "\n",
        "while True :\n",
        "  score = int(input(\"성적을 입력하세요(종료 : -1): \"))\n",
        "  if score == -1:\n",
        "    break\n",
        "  else:\n",
        "    scores.append(score)\n",
        "\n",
        "print(scores)"
      ],
      "metadata": {
        "colab": {
          "base_uri": "https://localhost:8080/"
        },
        "id": "C9msaTh0zJDZ",
        "outputId": "44d94362-7871-44da-f828-fae651b8037d"
      },
      "execution_count": null,
      "outputs": [
        {
          "output_type": "stream",
          "name": "stdout",
          "text": [
            "성적을 입력하세요(종료 : -1): 88\n",
            "성적을 입력하세요(종료 : -1): 75\n",
            "성적을 입력하세요(종료 : -1): 36\n",
            "성적을 입력하세요(종료 : -1): -1\n",
            "[88, 75, 36]\n"
          ]
        }
      ]
    },
    {
      "cell_type": "markdown",
      "source": [
        "#p25"
      ],
      "metadata": {
        "id": "dsGmy-w6z3fq"
      }
    },
    {
      "cell_type": "code",
      "source": [
        "#26\n",
        "num = []\n",
        "for i in range(5):\n",
        "  num.append(int(input(\"숫자를 입력하시오: \")))\n",
        "print(\"소트전:\", num)\n",
        "num.sort()\n",
        "print(\"소트후:\", num)"
      ],
      "metadata": {
        "colab": {
          "base_uri": "https://localhost:8080/"
        },
        "id": "H263X0Brz5Ww",
        "outputId": "544bea5c-5182-4b1d-af1b-69481a71de8b"
      },
      "execution_count": 5,
      "outputs": [
        {
          "output_type": "stream",
          "name": "stdout",
          "text": [
            "숫자를 입력하시오: 5\n",
            "숫자를 입력하시오: 20\n",
            "숫자를 입력하시오: -34\n",
            "숫자를 입력하시오: 2\n",
            "숫자를 입력하시오: 5\n",
            "소트전: [5, 20, -34, 2, 5]\n",
            "소트후: [-34, 2, 5, 5, 20]\n",
            "[-34, 2, 5, 5, 20]\n"
          ]
        }
      ]
    },
    {
      "cell_type": "code",
      "source": [
        "#27\n",
        "emails = [[\"kim\", \"naver.co,\"], [\"hawng\", \"hanmail.net\"], [\"lee\", \"korea.com\"], [\"choi\", \"gmail.com\"]]\n",
        "\n",
        "email_new = []\n",
        "for email in emails:\n",
        "  email_new.append(email[0] + \"@\" + email[1])\n",
        "\n",
        "print(email_new)"
      ],
      "metadata": {
        "colab": {
          "base_uri": "https://localhost:8080/"
        },
        "id": "95JFtQuT0S5r",
        "outputId": "da1e4259-b066-46b3-e7f7-c01e26f0f40e"
      },
      "execution_count": null,
      "outputs": [
        {
          "output_type": "stream",
          "name": "stdout",
          "text": [
            "['kim@naver.co,', 'hawng@hanmail.net', 'lee@korea.com', 'choi@gmail.com']\n"
          ]
        }
      ]
    },
    {
      "cell_type": "code",
      "source": [
        "fruits = ['apple', 'orange', 'banana']\n",
        "\n",
        "for fruits in fruits :\n",
        "  print(fruits)"
      ],
      "metadata": {
        "colab": {
          "base_uri": "https://localhost:8080/"
        },
        "id": "lHHdB4Ps0i5n",
        "outputId": "a37f0419-253d-4e76-c98f-49dcae559969"
      },
      "execution_count": null,
      "outputs": [
        {
          "output_type": "stream",
          "name": "stdout",
          "text": [
            "apple\n",
            "orange\n",
            "banana\n"
          ]
        }
      ]
    },
    {
      "cell_type": "code",
      "source": [
        "#28\n",
        "s = \"hello\"\n",
        "for i in s:\n",
        "  print(i, end='')"
      ],
      "metadata": {
        "colab": {
          "base_uri": "https://localhost:8080/"
        },
        "id": "Ylukmc7Q2SLi",
        "outputId": "8108d201-34b0-447d-8542-77c905f12eb2"
      },
      "execution_count": null,
      "outputs": [
        {
          "output_type": "stream",
          "name": "stdout",
          "text": [
            "hello"
          ]
        }
      ]
    },
    {
      "cell_type": "code",
      "source": [
        "#29\n",
        "colors = [\"빨간색\", \"파란색\", \"노란색\", \"초록색\"]\n",
        "for color in colors:\n",
        "  print(\"나는 %s을 좋아한다.\"%(color))"
      ],
      "metadata": {
        "colab": {
          "base_uri": "https://localhost:8080/"
        },
        "id": "jOj_E4Qz2Y6O",
        "outputId": "3af95139-873f-4256-bda4-ea6bfd2a09bb"
      },
      "execution_count": null,
      "outputs": [
        {
          "output_type": "stream",
          "name": "stdout",
          "text": [
            "나는 빨간색을 좋아한다.\n",
            "나는 파란색을 좋아한다.\n",
            "나는 노란색을 좋아한다.\n",
            "나는 초록색을 좋아한다.\n"
          ]
        }
      ]
    },
    {
      "cell_type": "code",
      "source": [
        "#30\n",
        "numbers = [7,9,15,18,30,-3,7,12,-16,-12]\n",
        "sum = 0\n",
        "for number in numbers:\n",
        "  sum = sum+number\n",
        "print(\"합계 :\", sum)"
      ],
      "metadata": {
        "colab": {
          "base_uri": "https://localhost:8080/"
        },
        "id": "GaxEpUjf2c5C",
        "outputId": "e184aa45-2885-4696-90d4-06a28e4b4887"
      },
      "execution_count": null,
      "outputs": [
        {
          "output_type": "stream",
          "name": "stdout",
          "text": [
            "합계 : 67\n"
          ]
        }
      ]
    },
    {
      "cell_type": "code",
      "source": [
        "#31\n",
        "score = [1,3,5,7,9,11,13]\n",
        "cnt =0\n",
        "for num in score :\n",
        "  if num < 10:\n",
        "    cnt+=1\n",
        "    print(num, end=' ')\n",
        "print('\\n10보다 작은 수의 개수:', cnt)"
      ],
      "metadata": {
        "colab": {
          "base_uri": "https://localhost:8080/"
        },
        "id": "_iAu7zWg3JdX",
        "outputId": "468b5c41-76bd-4924-93c5-17fb276932e9"
      },
      "execution_count": null,
      "outputs": [
        {
          "output_type": "stream",
          "name": "stdout",
          "text": [
            "1 3 5 7 9 \n",
            "10보다 작은 수의 개수: 5\n"
          ]
        }
      ]
    },
    {
      "cell_type": "code",
      "source": [
        "#32\n",
        "questions = ['tr_in', 'b_s', '_axi', 'air_lane']\n",
        "answers = ['a', 'u', 't', 'p']\n",
        "count = 0\n",
        "for i in range(4):\n",
        "  q = '%s에서 밑줄(_) 안에 들어갈 알파벳은?'%(questions[i])\n",
        "  ans = input(q)\n",
        "  if ans == answers[i]:\n",
        "    print('정답입니다!')\n",
        "    count += 1\n",
        "  else:\n",
        "    print('틀렸습니다!')\n",
        "print(\"당신의 점수는 %d/4입니다.\"%count)"
      ],
      "metadata": {
        "colab": {
          "base_uri": "https://localhost:8080/"
        },
        "id": "7eiydS6-3hMu",
        "outputId": "ecb39604-9ece-43ff-fef6-c5bd08618f6a"
      },
      "execution_count": 2,
      "outputs": [
        {
          "output_type": "stream",
          "name": "stdout",
          "text": [
            "tr_in에서 밑줄(_) 안에 들어갈 알파벳은?a\n",
            "정답입니다!\n",
            "b_s에서 밑줄(_) 안에 들어갈 알파벳은?i\n",
            "틀렸습니다!\n",
            "_axi에서 밑줄(_) 안에 들어갈 알파벳은?t\n",
            "정답입니다!\n",
            "air_lane에서 밑줄(_) 안에 들어갈 알파벳은?p\n",
            "정답입니다!\n",
            "당신의 점수는 3/4입니다.\n"
          ]
        }
      ]
    },
    {
      "cell_type": "code",
      "source": [
        "#33\n",
        "score = []\n",
        "for i in range(5):\n",
        "  num = int(input(\"성적입력: \"))\n",
        "  score.append(num)\n",
        "print(score)\n",
        "\n",
        "sum = 0\n",
        "for s in range(5):\n",
        "  sum+=score[s]\n",
        "print(\"총점은 %d이고 평균은 %.2f입니다.\" %(sum, sum/5.0))"
      ],
      "metadata": {
        "colab": {
          "base_uri": "https://localhost:8080/"
        },
        "id": "rZOKv-Oa6iOF",
        "outputId": "aa613b89-a2ea-4092-a61d-b60346389d9a"
      },
      "execution_count": 4,
      "outputs": [
        {
          "output_type": "stream",
          "name": "stdout",
          "text": [
            "성적입력: 59\n",
            "성적입력: 66\n",
            "성적입력: 76\n",
            "성적입력: 82\n",
            "성적입력: 79\n",
            "[59, 66, 76, 82, 79]\n",
            "총점은 362이고 평균은 72.40입니다.\n"
          ]
        }
      ]
    },
    {
      "cell_type": "code",
      "source": [
        "#34\n",
        "numbers = [7, 9, 15, 18, 30, -3, 7, 12, -16, -12]\n",
        "\n",
        "sum = 0\n",
        "i = 0\n",
        "print(\"짝수 번째 요소: \", end='')\n",
        "\n",
        "while i < len(numbers):\n",
        "  if i%2==0:\n",
        "    sum = sum + numbers[i+1]\n",
        "    print(numbers[i+1], end = ' ')\n",
        "  i+=1\n",
        "\n",
        "print()\n",
        "print(\"합계:\", sum)"
      ],
      "metadata": {
        "colab": {
          "base_uri": "https://localhost:8080/"
        },
        "id": "71stF3297s_N",
        "outputId": "de061ab9-6fc3-424b-b389-eb39d66bb57a"
      },
      "execution_count": 21,
      "outputs": [
        {
          "output_type": "stream",
          "name": "stdout",
          "text": [
            "짝수 번째 요소: 9 18 -3 12 -12 \n",
            "합계: 24\n"
          ]
        }
      ]
    },
    {
      "cell_type": "code",
      "source": [
        "#35\n",
        "s = [64, 89, 100, 85, 77, 58, 79, 67, 96, 87, 87, 36, 82, 98, 84, 76, 63, 69, 53, 22]\n",
        "\n",
        "soo = 0\n",
        "woo = 0\n",
        "mi = 0\n",
        "yang = 0\n",
        "ga = 0\n",
        "\n",
        "i=0\n",
        "while i < len(s):\n",
        "  if s[i] >= 90 and s[i] <=100:\n",
        "    soo = soo +1\n",
        "\n",
        "  elif s[i] >=80 and s[i] <= 89:\n",
        "    woo = woo +1\n",
        "\n",
        "  elif s[i] >=70 and s[i] <= 79:\n",
        "    mi = mi +1\n",
        "  \n",
        "  elif s[i] >=60 and s[i] <= 69:\n",
        "    yang = yang +1\n",
        "  \n",
        "  else:\n",
        "    ga=ga+1\n",
        "\n",
        "  i+=1\n",
        "\n",
        "print(\"수 : %d명\" % soo)\n",
        "print(\"우 : %d명\" % woo)\n",
        "print(\"미 : %d명\" % mi)\n",
        "print(\"양 : %d명\" % yang)\n",
        "print(\"가 : %d명\" % ga)"
      ],
      "metadata": {
        "colab": {
          "base_uri": "https://localhost:8080/"
        },
        "id": "YzuvK4e78wYQ",
        "outputId": "37f7d860-2113-47cc-8511-cfd3adb2bffd"
      },
      "execution_count": 19,
      "outputs": [
        {
          "output_type": "stream",
          "name": "stdout",
          "text": [
            "수 : 3명\n",
            "우 : 6명\n",
            "미 : 3명\n",
            "양 : 4명\n",
            "가 : 4명\n"
          ]
        }
      ]
    }
  ]
}