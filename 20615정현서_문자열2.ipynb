{
  "nbformat": 4,
  "nbformat_minor": 0,
  "metadata": {
    "colab": {
      "provenance": [],
      "authorship_tag": "ABX9TyOGufZQ691qriqN3b3kYWMt",
      "include_colab_link": true
    },
    "kernelspec": {
      "name": "python3",
      "display_name": "Python 3"
    },
    "language_info": {
      "name": "python"
    }
  },
  "cells": [
    {
      "cell_type": "markdown",
      "metadata": {
        "id": "view-in-github",
        "colab_type": "text"
      },
      "source": [
        "<a href=\"https://colab.research.google.com/github/NANONANDFLASH/school_bigdata/blob/main/20615%EC%A0%95%ED%98%84%EC%84%9C_%EB%AC%B8%EC%9E%90%EC%97%B42.ipynb\" target=\"_parent\"><img src=\"https://colab.research.google.com/assets/colab-badge.svg\" alt=\"Open In Colab\"/></a>"
      ]
    },
    {
      "cell_type": "markdown",
      "source": [
        "#32"
      ],
      "metadata": {
        "id": "1QM69ySb9y5l"
      }
    },
    {
      "cell_type": "code",
      "execution_count": 7,
      "metadata": {
        "colab": {
          "base_uri": "https://localhost:8080/"
        },
        "id": "BNWZhvHG8z4p",
        "outputId": "0e9dab5e-b8d2-4921-9f4f-ded2085d6013"
      },
      "outputs": [
        {
          "output_type": "stream",
          "name": "stdout",
          "text": [
            "['a', 'b', 'c', 'd']\n"
          ]
        }
      ],
      "source": [
        "#ex16\n",
        "a=\"a:b:c:d\".split(\":\")\n",
        "print(a)"
      ]
    },
    {
      "cell_type": "code",
      "source": [
        "#ex17\n",
        "BTS = \"정국, 진, 뷔, 슈가, 지민, RM, 제이홉\"\n",
        "BTS_member = BTS.split(\", \")\n",
        "print(\"방탄 맴버:\", BTS_member)\n",
        "\n",
        "for i in range(0, 6):\n",
        "  print(BTS_member[i], \"사랑해\")"
      ],
      "metadata": {
        "colab": {
          "base_uri": "https://localhost:8080/"
        },
        "id": "Kontpvv190s5",
        "outputId": "b3fd0648-81a9-4752-c765-4071e3d92f53"
      },
      "execution_count": 10,
      "outputs": [
        {
          "output_type": "stream",
          "name": "stdout",
          "text": [
            "방탄 맴버: ['정국', '진', '뷔', '슈가', '지민', 'RM', '제이홉']\n",
            "정국 사랑해\n",
            "진 사랑해\n",
            "뷔 사랑해\n",
            "슈가 사랑해\n",
            "지민 사랑해\n",
            "RM 사랑해\n"
          ]
        }
      ]
    },
    {
      "cell_type": "code",
      "source": [
        "#ex18\n",
        "file_names = [\"file1.py\", \"file2.txt\", \"file3.pptx\", 'file4.doc']\n",
        "for i in file_names:\n",
        "    arr = i.split('.')\n",
        "    print('파일명:', arr[0], '확장자:', arr[1])"
      ],
      "metadata": {
        "colab": {
          "base_uri": "https://localhost:8080/"
        },
        "id": "TFPs3LBj_wAq",
        "outputId": "d2c08e1a-a55f-4e18-966d-8827184cb8de"
      },
      "execution_count": 17,
      "outputs": [
        {
          "output_type": "stream",
          "name": "stdout",
          "text": [
            "파일명: file1 확장자: py\n",
            "파일명: file2 확장자: txt\n",
            "파일명: file3 확장자: pptx\n",
            "파일명: file4 확장자: doc\n"
          ]
        }
      ]
    },
    {
      "cell_type": "code",
      "source": [
        "#ex19\n",
        "sentence = input('문자열 입력: ')\n",
        "a = sentence.split()\n",
        "for i in a:\n",
        "  print(i[0:1], end='')"
      ],
      "metadata": {
        "colab": {
          "base_uri": "https://localhost:8080/"
        },
        "id": "W5PUVc3gAVfZ",
        "outputId": "dd0f4222-dfdf-4146-e6be-9e44ee7970da"
      },
      "execution_count": 22,
      "outputs": [
        {
          "output_type": "stream",
          "name": "stdout",
          "text": [
            "문자열 입력: 복잡한 세상 편하게 살자\n",
            "복세편살"
          ]
        }
      ]
    },
    {
      "cell_type": "code",
      "source": [
        "print( ','.join('abcd'))\n",
        "print( '::'.join([\"1\", \"2\", \"3\", \"4\", \"5\"]))"
      ],
      "metadata": {
        "colab": {
          "base_uri": "https://localhost:8080/"
        },
        "id": "_nTXjfrpAWen",
        "outputId": "d2fd7c7b-48c1-4d01-b591-7d77c40c3e6e"
      },
      "execution_count": 23,
      "outputs": [
        {
          "output_type": "stream",
          "name": "stdout",
          "text": [
            "a,b,c,d\n",
            "1::2::3::4::5\n"
          ]
        }
      ]
    },
    {
      "cell_type": "code",
      "source": [
        "#ex21\n",
        "s = \"python programming\"\n",
        "\n",
        "print(\"문자열 s의 길이 =\", len(s))\n",
        "print()\n",
        "print('문자열 s에서 o의 인덱스 =', s.index('o'))\n",
        "print('문자열 없는 인덱스를 검색 =', s.find('openAi'))\n",
        "print('o를 뒤에서부터 검색한 인덱스 =', s.rfind('o'))\n",
        "print()\n",
        "print('문자열 s에서 r의 인덱스 = ', s.find('r'))\n",
        "print('문자열 s에서 n의 개수 = ', s.count('n'))\n",
        "print()\n",
        "print('문자열 s에서 gram의 인덱스 = ', s.index(\"gram\"))\n",
        "print('문자열 s에서 gram의 위치 = ', s.find(\"gram\"))\n",
        "print('문자열 s에서 gram의 개수=', s.count(\"gram\"))\n"
      ],
      "metadata": {
        "colab": {
          "base_uri": "https://localhost:8080/"
        },
        "id": "AlEy868GAUXe",
        "outputId": "98c78384-2ee3-42fc-d2e8-ba7e5a4e5c32"
      },
      "execution_count": 37,
      "outputs": [
        {
          "output_type": "stream",
          "name": "stdout",
          "text": [
            "문자열 s의 길이 = 18\n",
            "\n",
            "문자열 s에서 o의 인덱스 = 4\n",
            "문자열 없는 인덱스를 검색 = -1\n",
            "o를 뒤에서부터 검색한 인덱스 = 9\n",
            "\n",
            "문자열 s에서 r의 인덱스 =  8\n",
            "문자열 s에서 n의 개수 =  2\n",
            "\n",
            "문자열 s에서 gram의 인덱스 =  10\n",
            "문자열 s에서 gram의 위치 =  10\n",
            "문자열 s에서 gram의 개수= 1\n"
          ]
        }
      ]
    },
    {
      "cell_type": "code",
      "source": [
        "#ex22\n",
        "name = '박보검'\n",
        "if name.startswith(\"박\"):\n",
        "  print('박씨입니다.')\n",
        "else:\n",
        "  print('김씨입니다.')\n",
        "\n",
        "file = \"HelloPython.jpg\"\n",
        "if file.endswith(\".jpg\"):\n",
        "  print(\"그림 파일 입니다.\")"
      ],
      "metadata": {
        "colab": {
          "base_uri": "https://localhost:8080/"
        },
        "id": "qMbFvftpDeba",
        "outputId": "5f0072ba-8288-4ecf-e3fe-38267228b1dc"
      },
      "execution_count": 44,
      "outputs": [
        {
          "output_type": "stream",
          "name": "stdout",
          "text": [
            "박씨입니다.\n",
            "그림 파일 입니다.\n"
          ]
        }
      ]
    },
    {
      "cell_type": "code",
      "source": [
        "#ex23\n",
        "domain = \"http://www.soen.kr\"\n",
        "if domain.endswith(\".kr\"):\n",
        "  print(\"한국 도메인입니다.\")"
      ],
      "metadata": {
        "colab": {
          "base_uri": "https://localhost:8080/"
        },
        "id": "jZK354_vC8uR",
        "outputId": "a8e39c3d-f603-4942-94ff-a17edd944d13"
      },
      "execution_count": 45,
      "outputs": [
        {
          "output_type": "stream",
          "name": "stdout",
          "text": [
            "한국 도메인입니다.\n"
          ]
        }
      ]
    },
    {
      "cell_type": "code",
      "source": [
        "#ex24\n",
        "s = \"python programming\"\n",
        "print('a' in s)\n",
        "print('z' in s)\n",
        "print('pro' in s)\n",
        "print('x' not in s)"
      ],
      "metadata": {
        "colab": {
          "base_uri": "https://localhost:8080/"
        },
        "id": "cs5h6LlmJh5E",
        "outputId": "1a93c67e-439e-4308-9d27-1058ef9304a7"
      },
      "execution_count": 46,
      "outputs": [
        {
          "output_type": "stream",
          "name": "stdout",
          "text": [
            "True\n",
            "False\n",
            "True\n",
            "True\n"
          ]
        }
      ]
    },
    {
      "cell_type": "code",
      "source": [
        "#ex25\n",
        "s = input('영어 문장을 입력하세요 :')\n",
        "i = 0\n",
        "count = 0\n",
        "\n",
        "print('모음 :', end = '')\n",
        "while(i<len(s)):\n",
        "  if(s[i]=='a' or s[i]=='e' or s[i]=='i' or s[i]=='u' or s[i]=='o'):\n",
        "    print(s[i], end=' ')\n",
        "    count+=1;\n",
        "  i+=1;\n",
        "print(\"\\n모음의 개수 : %d\" %count)"
      ],
      "metadata": {
        "colab": {
          "base_uri": "https://localhost:8080/"
        },
        "id": "fa5KiUMTJtjo",
        "outputId": "ced31039-4b8b-4473-9279-6f3702a213a5"
      },
      "execution_count": 55,
      "outputs": [
        {
          "output_type": "stream",
          "name": "stdout",
          "text": [
            "영어 문장을 입력하세요 :my favorite fruits is Watermelon\n",
            "모음 :a o i e u i i a e e o \n",
            "모음의 개수 : 11\n"
          ]
        }
      ]
    },
    {
      "cell_type": "code",
      "source": [
        "#ex26\n",
        "height = input(\"키를 입력하세요:\")\n",
        "if height.isdigit():\n",
        "  print(\"키 = \", height)\n",
        "else:\n",
        "  print(\"숫자만 입력하세요.\")"
      ],
      "metadata": {
        "colab": {
          "base_uri": "https://localhost:8080/"
        },
        "id": "cHphusS6LZvv",
        "outputId": "2bdc7c87-02a5-4b3e-f2a2-7bc973b595ed"
      },
      "execution_count": 58,
      "outputs": [
        {
          "output_type": "stream",
          "name": "stdout",
          "text": [
            "키를 입력하세요:백칠십\n",
            "숫자만 입력하세요.\n"
          ]
        }
      ]
    },
    {
      "cell_type": "code",
      "source": [
        "#ex27\n",
        "data = input('문자열 입력: ')\n",
        "for i in data:\n",
        "  if i.islower():\n",
        "    print('X', end = '')\n",
        "  else:\n",
        "    print('O', end = '')"
      ],
      "metadata": {
        "colab": {
          "base_uri": "https://localhost:8080/"
        },
        "id": "JA_8IpPTMKOJ",
        "outputId": "703d444e-96f5-47af-a095-18cfe2bf7fc8"
      },
      "execution_count": 60,
      "outputs": [
        {
          "output_type": "stream",
          "name": "stdout",
          "text": [
            "문자열 입력: MyNameIsPython\n",
            "OXOXXXOXOXXXXX"
          ]
        }
      ]
    },
    {
      "cell_type": "code",
      "source": [
        "#ex28\n",
        "s = \"good morning. MyLove Kim.\"\n",
        "\n",
        "print('문자열:', s)\n",
        "print(\"대문자로 변경: \", s.upper())\n",
        "print('소문자로 변경: ', s.lower())\n",
        "\n",
        "print('대소문자 반대로 변경: ', s.swapcase())\n",
        "print('첫 글자만 대문자로 변경: ', s.capitalize())\n",
        "print(\"모든 단어의 첫문자를 대문자로 변경: \", s.title())"
      ],
      "metadata": {
        "colab": {
          "base_uri": "https://localhost:8080/"
        },
        "id": "-C1mLmCOMp97",
        "outputId": "06e33b48-a7a7-4b7c-c25f-402ca8c240dd"
      },
      "execution_count": 61,
      "outputs": [
        {
          "output_type": "stream",
          "name": "stdout",
          "text": [
            "문자열: good morning. MyLove Kim.\n",
            "대문자로 변경:  GOOD MORNING. MYLOVE KIM.\n",
            "소문자로 변경:  good morning. mylove kim.\n",
            "대소문자 반대로 변경:  GOOD MORNING. mYlOVE kIM.\n",
            "첫 글자만 대문자로 변경:  Good morning. mylove kim.\n",
            "모든 단어의 첫문자를 대문자로 변경:  Good Morning. Mylove Kim.\n"
          ]
        }
      ]
    },
    {
      "cell_type": "code",
      "source": [
        "#ex29\n",
        "python = input(\"파이썬의 영문 철자를 입력하시오: \")\n",
        "if python.lower()=='python':\n",
        "  print(\"맞췄습니다\")"
      ],
      "metadata": {
        "colab": {
          "base_uri": "https://localhost:8080/"
        },
        "id": "66s01bmpNFZc",
        "outputId": "d1947bfd-c089-469f-ca72-174a1f32a6bd"
      },
      "execution_count": 63,
      "outputs": [
        {
          "output_type": "stream",
          "name": "stdout",
          "text": [
            "파이썬의 영문 철자를 입력하시오: python\n",
            "맞췄습니다\n"
          ]
        }
      ]
    },
    {
      "cell_type": "code",
      "source": [
        "#ex30\n",
        "char = input(\"영문 대문자 또는 소문자 하나를 입력하세요 : \")\n",
        "char2 = char.upper()\n",
        "\n",
        "if char2==\"A\" or char2==\"E\" or char2==\"I\" or char2==\"O\" or char2==\"U\":\n",
        "  print(\"%s -> 모음\" % char)\n",
        "else:\n",
        "  print(\"%s -> 자음\" % char)"
      ],
      "metadata": {
        "colab": {
          "base_uri": "https://localhost:8080/"
        },
        "id": "_rjNg4zoNUL2",
        "outputId": "da8e15c8-a7d0-4e1d-8d36-fc18d94ffbd1"
      },
      "execution_count": 68,
      "outputs": [
        {
          "output_type": "stream",
          "name": "stdout",
          "text": [
            "영문 대문자 또는 소문자 하나를 입력하세요 : b\n",
            "b -> 자음\n"
          ]
        }
      ]
    },
    {
      "cell_type": "code",
      "source": [
        "#ex31\n",
        "f = open(\"노래가사.txt\", 'r')\n",
        "data = f.read()\n",
        "\n",
        "data = data.lower()\n",
        "print('다음 가사에서 \"rollin\"이 등장하는 횟수는 %d번 입니다.' % data.count('rollin'))"
      ],
      "metadata": {
        "colab": {
          "base_uri": "https://localhost:8080/"
        },
        "id": "zwwGHcpvN7yO",
        "outputId": "d6c2655e-9e08-4ac8-f502-d1bcb48151c0"
      },
      "execution_count": 73,
      "outputs": [
        {
          "output_type": "stream",
          "name": "stdout",
          "text": [
            "다음 가사에서 \"rollin\"이 등장하는 횟수는 48번 입니다.\n"
          ]
        }
      ]
    },
    {
      "cell_type": "code",
      "source": [
        "#ex32\n",
        "phone_list1 = [\"010-3654-2637\", \"010-3984-5377\", \"010-3554-0973\"]\n",
        "print(phone_list1)\n",
        "\n",
        "phone_list2 = []\n",
        "\n",
        "for i in phone_list1:\n",
        "  x = i.replace('-', '')\n",
        "  phone_list2.append(x)\n",
        "\n",
        "print(phone_list2)"
      ],
      "metadata": {
        "colab": {
          "base_uri": "https://localhost:8080/"
        },
        "id": "_wEEivihPjox",
        "outputId": "08ad4d8d-b160-4110-d5a3-e32742d56eff"
      },
      "execution_count": 81,
      "outputs": [
        {
          "output_type": "stream",
          "name": "stdout",
          "text": [
            "['010-3654-2637', '010-3984-5377', '010-3554-0973']\n",
            "['01036542637', '01039845377', '01035540973']\n"
          ]
        }
      ]
    },
    {
      "cell_type": "code",
      "source": [
        "#ex33\n",
        "sentens = [\"Love me, love my dog.\", \"No news is good news.\", \"Blood is thicker than water\"]\n",
        "\n",
        "for i in sentens:\n",
        "  x = i.replace(' ', '_')\n",
        "  print(x)"
      ],
      "metadata": {
        "colab": {
          "base_uri": "https://localhost:8080/"
        },
        "id": "j2zzUciVRXP4",
        "outputId": "c5405026-d350-40d0-ccdd-37688d5f368e"
      },
      "execution_count": 83,
      "outputs": [
        {
          "output_type": "stream",
          "name": "stdout",
          "text": [
            "Love_me,_love_my_dog.\n",
            "No_news_is_good_news.\n",
            "Blood_is_thicker_than_water\n"
          ]
        }
      ]
    },
    {
      "cell_type": "code",
      "source": [
        "#ex35\n",
        "s = \"   angle   \"\n",
        "print(s+\"님\")\n",
        "print(s.lstrip()+\"님\")\n",
        "print(s.rstrip()+\"님\")\n",
        "print(s.strip()+\"님\")"
      ],
      "metadata": {
        "colab": {
          "base_uri": "https://localhost:8080/"
        },
        "id": "_P5126QaR-jf",
        "outputId": "1bb2c4f1-79fe-40dc-d2a6-c150773bc97a"
      },
      "execution_count": 85,
      "outputs": [
        {
          "output_type": "stream",
          "name": "stdout",
          "text": [
            "   angle   님\n",
            "angle   님\n",
            "   angle님\n",
            "angle님\n"
          ]
        }
      ]
    },
    {
      "cell_type": "code",
      "source": [
        "#ex36\n",
        "phone = input('하이픈(-)을 뺸 11자리의 휴대폰 번호를 입력하세요: ')\n",
        "\n",
        "number = '';\n",
        "for i in range(len(phone)):\n",
        "  if i == 2 :\n",
        "    number = number + (phone[2]+'-')\n",
        "  elif i == 6:\n",
        "    number = number + (phone[6]+'-')\n",
        "  else:\n",
        "    number = number + phone[i]\n",
        "\n",
        "print(number)"
      ],
      "metadata": {
        "colab": {
          "base_uri": "https://localhost:8080/"
        },
        "id": "yli6dxLRSUEH",
        "outputId": "dc6131aa-3fe9-453e-cc5d-d47460a64007"
      },
      "execution_count": 92,
      "outputs": [
        {
          "output_type": "stream",
          "name": "stdout",
          "text": [
            "하이픈(-)을 뺸 11자리의 휴대폰 번호를 입력하세요: 01012345678\n",
            "010-1234-5678\n"
          ]
        }
      ]
    },
    {
      "cell_type": "code",
      "source": [
        "#ex37\n",
        "s = \"a:b:c:d\"\n",
        "s = s.replace(':', '#')\n",
        "print(s)"
      ],
      "metadata": {
        "colab": {
          "base_uri": "https://localhost:8080/"
        },
        "id": "9tz0xcWeTZmF",
        "outputId": "b0009a08-68f0-4e7e-ff9a-8fdbec23f0e0"
      },
      "execution_count": 93,
      "outputs": [
        {
          "output_type": "stream",
          "name": "stdout",
          "text": [
            "a#b#c#d\n"
          ]
        }
      ]
    },
    {
      "cell_type": "code",
      "source": [
        "#ex38\n",
        "s = \"아침에 일어나서 콜라를 한 잔 마시고 밥 먹고 콜라 마시고 자기 전에도 콜라를 마신다.\"\n",
        "s = s.replace('콜라', '우유')\n",
        "print(s)"
      ],
      "metadata": {
        "colab": {
          "base_uri": "https://localhost:8080/"
        },
        "id": "kRMVXhNIRV9j",
        "outputId": "8ea7a6fc-4ca0-4661-e77d-42817dc49834"
      },
      "execution_count": 95,
      "outputs": [
        {
          "output_type": "stream",
          "name": "stdout",
          "text": [
            "아침에 일어나서 우유를 한 잔 마시고 밥 먹고 우유 마시고 자기 전에도 우유를 마신다.\n"
          ]
        }
      ]
    },
    {
      "cell_type": "code",
      "source": [
        "#ex39\n",
        "s = 'python'\n",
        "s[2]= 'k'"
      ],
      "metadata": {
        "colab": {
          "base_uri": "https://localhost:8080/",
          "height": 198
        },
        "id": "Dz-Mc39gRPfL",
        "outputId": "9a2282e9-4868-4dbf-badd-20ebde15e884"
      },
      "execution_count": 96,
      "outputs": [
        {
          "output_type": "error",
          "ename": "TypeError",
          "evalue": "ignored",
          "traceback": [
            "\u001b[0;31m---------------------------------------------------------------------------\u001b[0m",
            "\u001b[0;31mTypeError\u001b[0m                                 Traceback (most recent call last)",
            "\u001b[0;32m<ipython-input-96-df967af3c70f>\u001b[0m in \u001b[0;36m<cell line: 3>\u001b[0;34m()\u001b[0m\n\u001b[1;32m      1\u001b[0m \u001b[0;31m#ex39\u001b[0m\u001b[0;34m\u001b[0m\u001b[0;34m\u001b[0m\u001b[0m\n\u001b[1;32m      2\u001b[0m \u001b[0ms\u001b[0m \u001b[0;34m=\u001b[0m \u001b[0;34m'python'\u001b[0m\u001b[0;34m\u001b[0m\u001b[0;34m\u001b[0m\u001b[0m\n\u001b[0;32m----> 3\u001b[0;31m \u001b[0ms\u001b[0m\u001b[0;34m[\u001b[0m\u001b[0;36m2\u001b[0m\u001b[0;34m]\u001b[0m\u001b[0;34m=\u001b[0m \u001b[0;34m'k'\u001b[0m\u001b[0;34m\u001b[0m\u001b[0;34m\u001b[0m\u001b[0m\n\u001b[0m",
            "\u001b[0;31mTypeError\u001b[0m: 'str' object does not support item assignment"
          ]
        }
      ]
    },
    {
      "cell_type": "code",
      "source": [
        "#ex40\n",
        "a = 'Tom Dick Harry'\n",
        "a = a.split(\" \")\n",
        "\n",
        "for i in range(len(a)):\n",
        "  a[i] = sorted(a[i])\n",
        "  a[i] = ''.join(a[i])\n",
        "print(', '.join(a))"
      ],
      "metadata": {
        "colab": {
          "base_uri": "https://localhost:8080/"
        },
        "id": "KzwWzJipRMdZ",
        "outputId": "fed56ccc-0869-4c14-c3af-3510f8d78a2d"
      },
      "execution_count": 123,
      "outputs": [
        {
          "output_type": "stream",
          "name": "stdout",
          "text": [
            "Tmo. Dcik. Harry\n"
          ]
        }
      ]
    },
    {
      "cell_type": "code",
      "source": [
        "\n",
        "#ex41\n",
        "word = input(\"영어 단어를 입력하세요: \")\n",
        "ubbi = []\n",
        "for char in word:\n",
        "    if char=='a' or char=='i' or char=='o' or char=='u' or char=='e':\n",
        "        ubbi += 'ub' + char\n",
        "    else:\n",
        "        ubbi += char\n",
        "print(''.join(ubbi))"
      ],
      "metadata": {
        "colab": {
          "base_uri": "https://localhost:8080/"
        },
        "id": "VEYuw7VXVYdC",
        "outputId": "eacd98ec-74e8-434e-8c63-365763273cfc"
      },
      "execution_count": 109,
      "outputs": [
        {
          "output_type": "stream",
          "name": "stdout",
          "text": [
            "영어 단어를 입력하세요: milk\n",
            "mubilk\n"
          ]
        }
      ]
    },
    {
      "cell_type": "code",
      "source": [
        "word = input(\"단어를 입력하세요: \")\n",
        "count = 0\n",
        "\n",
        "for char in word: \n",
        "  if char=='a' or char=='i' or char=='o' or char=='u' or char=='e':\n",
        "    count+=1\n",
        "if count>=2:\n",
        "  print(word+\"way\")\n",
        "else:\n",
        "  print(word+\"ay\")"
      ],
      "metadata": {
        "colab": {
          "base_uri": "https://localhost:8080/"
        },
        "id": "pU9BdvVoXbFm",
        "outputId": "4c0db1a8-e60e-47f0-8b9e-9984be149094"
      },
      "execution_count": 112,
      "outputs": [
        {
          "output_type": "stream",
          "name": "stdout",
          "text": [
            "단어를 입력하세요: sun\n",
            "sunay\n"
          ]
        }
      ]
    },
    {
      "cell_type": "code",
      "source": [
        "#ex43\n",
        "sentence = input(\"문자열 입력: \")\n",
        "new = ''\n",
        "now = sentence[0]\n",
        "count = 0\n",
        "\n",
        "for i in sentence:\n",
        "    if i == now:\n",
        "        count += 1\n",
        "    else:\n",
        "        new += now + str(count)\n",
        "        now = i\n",
        "        count = 1\n",
        "new += now + str(count)\n",
        "\n",
        "print(new)"
      ],
      "metadata": {
        "colab": {
          "base_uri": "https://localhost:8080/"
        },
        "id": "FtOq7ofaZNB5",
        "outputId": "59bfb113-6d10-4607-f669-ded620e33426"
      },
      "execution_count": 116,
      "outputs": [
        {
          "output_type": "stream",
          "name": "stdout",
          "text": [
            "문자열 입력: aaabbbbcdddd\n",
            "a3b4c1d4\n"
          ]
        }
      ]
    }
  ]
}