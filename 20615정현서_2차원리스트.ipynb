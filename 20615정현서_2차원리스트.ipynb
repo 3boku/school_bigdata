{
  "nbformat": 4,
  "nbformat_minor": 0,
  "metadata": {
    "colab": {
      "provenance": [],
      "authorship_tag": "ABX9TyPPdO6u/tHiSPX/Zyv9IzNU",
      "include_colab_link": true
    },
    "kernelspec": {
      "name": "python3",
      "display_name": "Python 3"
    },
    "language_info": {
      "name": "python"
    }
  },
  "cells": [
    {
      "cell_type": "markdown",
      "metadata": {
        "id": "view-in-github",
        "colab_type": "text"
      },
      "source": [
        "<a href=\"https://colab.research.google.com/github/NANONANDFLASH/school_bigdata/blob/main/20615%EC%A0%95%ED%98%84%EC%84%9C_2%EC%B0%A8%EC%9B%90%EB%A6%AC%EC%8A%A4%ED%8A%B8.ipynb\" target=\"_parent\"><img src=\"https://colab.research.google.com/assets/colab-badge.svg\" alt=\"Open In Colab\"/></a>"
      ]
    },
    {
      "cell_type": "markdown",
      "source": [
        "#p27"
      ],
      "metadata": {
        "id": "EJZZ0UVrzoMt"
      }
    },
    {
      "cell_type": "code",
      "source": [],
      "metadata": {
        "id": "cAaIJ5qo7oe4"
      },
      "execution_count": null,
      "outputs": []
    },
    {
      "cell_type": "code",
      "execution_count": null,
      "metadata": {
        "colab": {
          "base_uri": "https://localhost:8080/"
        },
        "id": "-wg5vhTww7Fu",
        "outputId": "dd8eaf6c-8ce2-4a46-989c-f739688e98dc"
      },
      "outputs": [
        {
          "output_type": "stream",
          "name": "stdout",
          "text": [
            "[10, 20, 30]\n",
            "[40, 50, 60]\n",
            "10 20 30\n",
            "40 50 60\n"
          ]
        }
      ],
      "source": [
        "#ex36\n",
        "numbers=[[10, 20, 30], [40, 50, 60]]\n",
        "\n",
        "print(numbers[0])\n",
        "print(numbers[1])\n",
        "\n",
        "print(numbers[0][0],numbers[0][1], numbers[0][2])\n",
        "print(numbers[1][0],numbers[1][1], numbers[1][2])"
      ]
    },
    {
      "cell_type": "code",
      "source": [
        "#ex37\n",
        "\n",
        "numbers = [[10, 20, 30], [40, 50, 60, 70, 80]]\n",
        "\n",
        "print(numbers[0][0], numbers[0][1], numbers[0][2])\n",
        "print(numbers[1][0], numbers[1][1], numbers[1][2], numbers[1][3], numbers[1][4])"
      ],
      "metadata": {
        "colab": {
          "base_uri": "https://localhost:8080/"
        },
        "id": "44wMPpnEzZa3",
        "outputId": "a981ef5e-3c91-4a39-da66-7df555945d0e"
      },
      "execution_count": null,
      "outputs": [
        {
          "output_type": "stream",
          "name": "stdout",
          "text": [
            "10 20 30\n",
            "40 50 60 70 80\n"
          ]
        }
      ]
    },
    {
      "cell_type": "code",
      "source": [
        "#ex38\n",
        "numbers = [[10, 20, 30], [40, 50, 60, 70, 80]]\n",
        "\n",
        "for sub in numbers:\n",
        "  for s in numbers:\n",
        "    print(s, end=' ')\n",
        "  print()"
      ],
      "metadata": {
        "colab": {
          "base_uri": "https://localhost:8080/"
        },
        "id": "MyWkOb000CDQ",
        "outputId": "67d72ff2-37ca-468e-af82-18a4c31d1fc2"
      },
      "execution_count": null,
      "outputs": [
        {
          "output_type": "stream",
          "name": "stdout",
          "text": [
            "[10, 20, 30] [40, 50, 60, 70, 80] \n",
            "[10, 20, 30] [40, 50, 60, 70, 80] \n"
          ]
        }
      ]
    },
    {
      "cell_type": "code",
      "source": [
        "#ex39\n",
        "\n",
        "data = [[10, 20], [30, 40], [50, 60], [70, 80]]\n",
        "\n",
        "for i in range(4):\n",
        "  for j in range(2):\n",
        "    print(\"data[%d][%d] = %d\"%(i, j, data[i][j]))\n",
        "  "
      ],
      "metadata": {
        "colab": {
          "base_uri": "https://localhost:8080/"
        },
        "id": "-62XvF432G3U",
        "outputId": "e8ee4330-7708-4969-84c0-7358b81fa733"
      },
      "execution_count": null,
      "outputs": [
        {
          "output_type": "stream",
          "name": "stdout",
          "text": [
            "data[0][0] = 10\n",
            "data[0][1] = 20\n",
            "data[1][0] = 30\n",
            "data[1][1] = 40\n",
            "data[2][0] = 50\n",
            "data[2][1] = 60\n",
            "data[3][0] = 70\n",
            "data[3][1] = 80\n"
          ]
        }
      ]
    },
    {
      "cell_type": "code",
      "source": [
        "#ex40\n",
        "\n",
        "strings = [[\"원두커피\", \"라떼\", \"콜라\"], [\"우동\", \"국수\", \"피자\", \"파스타\"]]\n",
        "\n",
        "for i in range(len(strings)):\n",
        "  for j in range(len(strings[i])):\n",
        "    print(strings[i][j], end=' ')\n",
        "  print()"
      ],
      "metadata": {
        "colab": {
          "base_uri": "https://localhost:8080/"
        },
        "id": "8X27FteS3ZXh",
        "outputId": "e35dc0e0-5646-466c-b572-64b53b11f0a3"
      },
      "execution_count": null,
      "outputs": [
        {
          "output_type": "stream",
          "name": "stdout",
          "text": [
            "원두커피 라떼 콜라 \n",
            "우동 국수 피자 파스타 \n"
          ]
        }
      ]
    },
    {
      "cell_type": "code",
      "source": [
        "#ex41\n",
        "\n",
        "data = [[10, 20, 30], [40, 50], [60, 70, 80, 90]]\n",
        "print(data)\n",
        "\n",
        "for i in range(len(data)):\n",
        "  print(data[i][0])"
      ],
      "metadata": {
        "colab": {
          "base_uri": "https://localhost:8080/"
        },
        "id": "mr1UEhxg7p-Y",
        "outputId": "0e44fa14-d503-4b7c-dd76-8256e94cb0a9"
      },
      "execution_count": null,
      "outputs": [
        {
          "output_type": "stream",
          "name": "stdout",
          "text": [
            "[[10, 20, 30], [40, 50], [60, 70, 80, 90]]\n",
            "10\n",
            "40\n",
            "60\n"
          ]
        }
      ]
    },
    {
      "cell_type": "markdown",
      "source": [
        "#p28"
      ],
      "metadata": {
        "id": "WRmU6x4f8RMy"
      }
    },
    {
      "cell_type": "code",
      "source": [
        "#ex42\n",
        "score = [\n",
        "    [88, 76, 92, 98],\n",
        "    [65, 70, 58, 82],\n",
        "    [82, 80, 78, 88]\n",
        "]\n",
        "total = 0\n",
        "totalsub = 0\n",
        "\n",
        "for i in range(len(score)):\n",
        "  for j in range(len(score[i])):\n",
        "    total+=score[i][j]\n",
        "  print(\"총점 %d 평균 %.2f\"%(total, total/4))\n",
        "  totalsub+=total\n",
        "  total=0\n",
        "\n",
        "print(\"전체평균 %.2f\"%(totalsub/4/3))"
      ],
      "metadata": {
        "colab": {
          "base_uri": "https://localhost:8080/"
        },
        "id": "fhvlIqRd8SdD",
        "outputId": "f9fc3fb8-1cb3-4773-8328-7825ab4d221a"
      },
      "execution_count": null,
      "outputs": [
        {
          "output_type": "stream",
          "name": "stdout",
          "text": [
            "총점 354 평균 88.50\n",
            "총점 275 평균 68.75\n",
            "총점 328 평균 82.00\n",
            "전체평균 79.75\n"
          ]
        }
      ]
    },
    {
      "cell_type": "code",
      "source": [
        "#ex43\n",
        "seats=[[0, 0, 0, 0, 0, 0, 0, 0, 0, 0],\\\n",
        "       [0, 0, 0, 0, 0, 0, 0, 0, 0, 0],\\\n",
        "       [0, 0, 0, 0, 0, 0, 0, 0, 0, 0],\\\n",
        "       [1, 1, 1, 0, 0, 0, 0, 0, 1, 0],\\\n",
        "       [0, 0, 0, 0, 0, 1, 0, 0, 0, 0],\\\n",
        "       [0, 1, 0, 0, 0, 1, 0, 1, 0, 0],\\\n",
        "       [0, 0, 0, 0, 0, 0, 1, 0, 0, 0],\\\n",
        "       [1, 0, 1, 0, 0, 0, 0, 0, 0, 1]]\n",
        "      \n",
        "for i in range(len(seats)):\n",
        "  for j in range(len(seats[i])):\n",
        "    if seats[i][j] == 0:\n",
        "      print('%3s' % '□', end='')\n",
        "    else:\n",
        "      print('%3s' % '■', end='')\n",
        "  print()\n",
        "\n",
        "print('\\n* 예약가능 : ■, 예약불가 : □')"
      ],
      "metadata": {
        "colab": {
          "base_uri": "https://localhost:8080/"
        },
        "id": "zYNPrZzg9DuH",
        "outputId": "7a88e0c4-4573-42a0-8cf1-298c0e485273"
      },
      "execution_count": null,
      "outputs": [
        {
          "output_type": "stream",
          "name": "stdout",
          "text": [
            "  □  □  □  □  □  □  □  □  □  □\n",
            "  □  □  □  □  □  □  □  □  □  □\n",
            "  □  □  □  □  □  □  □  □  □  □\n",
            "  ■  ■  ■  □  □  □  □  □  ■  □\n",
            "  □  □  □  □  □  ■  □  □  □  □\n",
            "  □  ■  □  □  □  ■  □  ■  □  □\n",
            "  □  □  □  □  □  □  ■  □  □  □\n",
            "  ■  □  ■  □  □  □  □  □  □  ■\n",
            "\n",
            "* 예약가능 : ■, 예약불가 : □\n"
          ]
        }
      ]
    },
    {
      "cell_type": "code",
      "source": [
        "#ex44\n",
        "scores = [[96, 84, 80], [96, 86, 76], [76, 95, 83], [89, 96, 69], [83, 86, 79], [85, 90, 83]]                        \n",
        "\n",
        "total = 0\n",
        "i = 0\n",
        "\n",
        "while i < len(scores):\n",
        "    j = 0\n",
        "    while j < len(scores[i]):\n",
        "        total += scores[i][j]\n",
        "        j += 1\n",
        "    print(\"%d번째 학생의 합계 : %d, 평균 : %.2f\" %(i+1, total, total/3))\n",
        "    total = 0\n",
        "    i += 1"
      ],
      "metadata": {
        "colab": {
          "base_uri": "https://localhost:8080/"
        },
        "id": "oMPbsZTA_Ee1",
        "outputId": "025bfe80-64f8-4daa-adf8-b9f7500d200e"
      },
      "execution_count": 42,
      "outputs": [
        {
          "output_type": "stream",
          "name": "stdout",
          "text": [
            "1번째 학생의 합계 : 260, 평균 : 86.67\n",
            "2번째 학생의 합계 : 258, 평균 : 86.00\n",
            "3번째 학생의 합계 : 254, 평균 : 84.67\n",
            "4번째 학생의 합계 : 254, 평균 : 84.67\n",
            "5번째 학생의 합계 : 248, 평균 : 82.67\n",
            "6번째 학생의 합계 : 258, 평균 : 86.00\n"
          ]
        }
      ]
    },
    {
      "cell_type": "code",
      "source": [
        "#ex45\n",
        "scores = [[96, 84, 80], [96, 86, 76], [76, 95, 83], [89, 96, 69], [83, 86, 79], [85, 90, 83]]                        \n",
        "\n",
        "total = 0\n",
        "i = 0\n",
        "for i in range(len(scores)):\n",
        "  for j in range(len(scores[i])):\n",
        "    total+=scores[i][j]\n",
        "    j+=1\n",
        "  print(\"%d번째 학생의 합계 : %d, 평균 : %.2f\" %(i+1, total, total/3))\n",
        "  total=0\n",
        "  i+=1"
      ],
      "metadata": {
        "colab": {
          "base_uri": "https://localhost:8080/"
        },
        "id": "MDu9dNYkAZm3",
        "outputId": "0a51edb3-36b8-4386-d195-5a95d60f7321"
      },
      "execution_count": 40,
      "outputs": [
        {
          "output_type": "stream",
          "name": "stdout",
          "text": [
            "1번째 학생의 합계 : 260, 평균 : 86.67\n",
            "2번째 학생의 합계 : 258, 평균 : 86.00\n",
            "3번째 학생의 합계 : 254, 평균 : 84.67\n",
            "4번째 학생의 합계 : 254, 평균 : 84.67\n",
            "5번째 학생의 합계 : 248, 평균 : 82.67\n",
            "6번째 학생의 합계 : 258, 평균 : 86.00\n"
          ]
        }
      ]
    }
  ]
}