{
  "nbformat": 4,
  "nbformat_minor": 0,
  "metadata": {
    "colab": {
      "provenance": [],
      "authorship_tag": "ABX9TyPA5JPC7B3GvXAJ7KBb62NO",
      "include_colab_link": true
    },
    "kernelspec": {
      "name": "python3",
      "display_name": "Python 3"
    },
    "language_info": {
      "name": "python"
    }
  },
  "cells": [
    {
      "cell_type": "markdown",
      "metadata": {
        "id": "view-in-github",
        "colab_type": "text"
      },
      "source": [
        "<a href=\"https://colab.research.google.com/github/NANONANDFLASH/school_bigdata/blob/main/20615%EC%A0%95%ED%98%84%EC%84%9C_%EB%A3%A8%ED%94%84%EC%9D%98_%ED%99%9C%EC%9A%A9.ipynb\" target=\"_parent\"><img src=\"https://colab.research.google.com/assets/colab-badge.svg\" alt=\"Open In Colab\"/></a>"
      ]
    },
    {
      "cell_type": "markdown",
      "source": [
        "#P20"
      ],
      "metadata": {
        "id": "-3YTqTJ6imMS"
      }
    },
    {
      "cell_type": "code",
      "execution_count": null,
      "metadata": {
        "colab": {
          "base_uri": "https://localhost:8080/"
        },
        "id": "kkN-K7kZhSzQ",
        "outputId": "f8894156-22a4-473e-b885-fb3fe0301e7b"
      },
      "outputs": [
        {
          "output_type": "stream",
          "name": "stdout",
          "text": [
            "1 2 3 4 5 6 7 8 9 10 "
          ]
        }
      ],
      "source": [
        "#ex20\n",
        "for i in range(1, 1001):\n",
        "  print(i, end=' ')\n",
        "  if i == 10:\n",
        "    break  "
      ]
    },
    {
      "cell_type": "code",
      "source": [
        "#ex21\n",
        "score = [ 92, 86, 68, 120, 56, 72]\n",
        "\n",
        "for i in range(0, len(score)):\n",
        "  if(score[i]>100):\n",
        "    print('성적 처리 끝')\n",
        "    break\n",
        "  print(score[i])"
      ],
      "metadata": {
        "colab": {
          "base_uri": "https://localhost:8080/"
        },
        "id": "93XK4zb6ilX8",
        "outputId": "73e1c7e5-34b7-437d-a06a-e7ae91de7f24"
      },
      "execution_count": null,
      "outputs": [
        {
          "output_type": "stream",
          "name": "stdout",
          "text": [
            "92\n",
            "86\n",
            "68\n",
            "성적 처리 끝\n"
          ]
        }
      ]
    },
    {
      "cell_type": "code",
      "source": [
        "#ex21-1\n",
        "score = [ 92, 86, 68, 120, 56, 72]\n",
        "\n",
        "for i in range(0, len(score)):\n",
        "  if(score[i]>100 or score[i]<0):\n",
        "    continue\n",
        "  print(score[i])\n",
        "print('성적 처리 끝')"
      ],
      "metadata": {
        "colab": {
          "base_uri": "https://localhost:8080/"
        },
        "id": "x-Cselu3jh-0",
        "outputId": "20cf6a49-1d0d-4f5f-bae3-d6dd4e9fc7ac"
      },
      "execution_count": null,
      "outputs": [
        {
          "output_type": "stream",
          "name": "stdout",
          "text": [
            "92\n",
            "86\n",
            "68\n",
            "56\n",
            "72\n",
            "성적 처리 끝\n"
          ]
        }
      ]
    },
    {
      "cell_type": "code",
      "source": [
        "#ex22\n",
        "print ( \"3 + 4 = ?\" )\n",
        "\n",
        "while 1:\n",
        "  a = int(input('정답을 입력하시오: '))\n",
        "  if(a==7):\n",
        "    break\n",
        "print(\"참 잘했어요\")"
      ],
      "metadata": {
        "colab": {
          "base_uri": "https://localhost:8080/"
        },
        "id": "TzrzpgrHjtg2",
        "outputId": "51549d26-630d-499f-a720-f62c14920653"
      },
      "execution_count": null,
      "outputs": [
        {
          "output_type": "stream",
          "name": "stdout",
          "text": [
            "3 + 4 = ?\n",
            "정답을 입력하시오: 3\n",
            "정답을 입력하시오: 4\n",
            "정답을 입력하시오: 7\n",
            "참 잘했어요\n"
          ]
        }
      ]
    },
    {
      "cell_type": "code",
      "source": [
        "#ex23\n",
        "while True :\n",
        "  light = input(\"신호등 색상 입력:\")\n",
        "  if(light=='green'):\n",
        "    break\n",
        "print(\"길을 건너세요\")"
      ],
      "metadata": {
        "colab": {
          "base_uri": "https://localhost:8080/"
        },
        "id": "YcsC8pt6kZCG",
        "outputId": "992024a5-97d0-4c52-f93e-f0770c3089b7"
      },
      "execution_count": null,
      "outputs": [
        {
          "output_type": "stream",
          "name": "stdout",
          "text": [
            "신호등 색상 입력:red\n",
            "신호등 색상 입력:yellow\n",
            "신호등 색상 입력:green\n",
            "길을 건너세요\n"
          ]
        }
      ]
    },
    {
      "cell_type": "code",
      "source": [
        "#ex24\n",
        "i = 1\n",
        "total = 0\n",
        "\n",
        "while True:\n",
        "  total = total + i\n",
        "  if(total>50):\n",
        "    print(\"합이 50보다 커지는 수는 %d이고 합은 %d다\" %(i,total))\n",
        "    break\n",
        "  i+=1"
      ],
      "metadata": {
        "colab": {
          "base_uri": "https://localhost:8080/"
        },
        "id": "muhdSM0-k2XN",
        "outputId": "a96c2f2a-c84d-4ffe-8b0d-022e7c38039d"
      },
      "execution_count": null,
      "outputs": [
        {
          "output_type": "stream",
          "name": "stdout",
          "text": [
            "합이 50보다 커지는 수는 10이고 합은 55다\n"
          ]
        }
      ]
    },
    {
      "cell_type": "markdown",
      "source": [
        "#이중루프"
      ],
      "metadata": {
        "id": "3WzbIoVVlr-c"
      }
    },
    {
      "cell_type": "code",
      "source": [
        "#ex25\n",
        "for dan in range(2, 10):\n",
        "  print( dan, \"단\")\n",
        "  for hang in range(1, 10):\n",
        "    print(dan, \"*\", hang, \"=\", dan*hang)\n",
        "    print()"
      ],
      "metadata": {
        "colab": {
          "base_uri": "https://localhost:8080/"
        },
        "id": "cSDxw9wtkipB",
        "outputId": "b50cc014-2cd6-4722-d2b8-11d376e2c05f"
      },
      "execution_count": null,
      "outputs": [
        {
          "output_type": "stream",
          "name": "stdout",
          "text": [
            "2 단\n",
            "2 * 1 = 2\n",
            "\n",
            "2 * 2 = 4\n",
            "\n",
            "2 * 3 = 6\n",
            "\n",
            "2 * 4 = 8\n",
            "\n",
            "2 * 5 = 10\n",
            "\n",
            "2 * 6 = 12\n",
            "\n",
            "2 * 7 = 14\n",
            "\n",
            "2 * 8 = 16\n",
            "\n",
            "2 * 9 = 18\n",
            "\n",
            "3 단\n",
            "3 * 1 = 3\n",
            "\n",
            "3 * 2 = 6\n",
            "\n",
            "3 * 3 = 9\n",
            "\n",
            "3 * 4 = 12\n",
            "\n",
            "3 * 5 = 15\n",
            "\n",
            "3 * 6 = 18\n",
            "\n",
            "3 * 7 = 21\n",
            "\n",
            "3 * 8 = 24\n",
            "\n",
            "3 * 9 = 27\n",
            "\n",
            "4 단\n",
            "4 * 1 = 4\n",
            "\n",
            "4 * 2 = 8\n",
            "\n",
            "4 * 3 = 12\n",
            "\n",
            "4 * 4 = 16\n",
            "\n",
            "4 * 5 = 20\n",
            "\n",
            "4 * 6 = 24\n",
            "\n",
            "4 * 7 = 28\n",
            "\n",
            "4 * 8 = 32\n",
            "\n",
            "4 * 9 = 36\n",
            "\n",
            "5 단\n",
            "5 * 1 = 5\n",
            "\n",
            "5 * 2 = 10\n",
            "\n",
            "5 * 3 = 15\n",
            "\n",
            "5 * 4 = 20\n",
            "\n",
            "5 * 5 = 25\n",
            "\n",
            "5 * 6 = 30\n",
            "\n",
            "5 * 7 = 35\n",
            "\n",
            "5 * 8 = 40\n",
            "\n",
            "5 * 9 = 45\n",
            "\n",
            "6 단\n",
            "6 * 1 = 6\n",
            "\n",
            "6 * 2 = 12\n",
            "\n",
            "6 * 3 = 18\n",
            "\n",
            "6 * 4 = 24\n",
            "\n",
            "6 * 5 = 30\n",
            "\n",
            "6 * 6 = 36\n",
            "\n",
            "6 * 7 = 42\n",
            "\n",
            "6 * 8 = 48\n",
            "\n",
            "6 * 9 = 54\n",
            "\n",
            "7 단\n",
            "7 * 1 = 7\n",
            "\n",
            "7 * 2 = 14\n",
            "\n",
            "7 * 3 = 21\n",
            "\n",
            "7 * 4 = 28\n",
            "\n",
            "7 * 5 = 35\n",
            "\n",
            "7 * 6 = 42\n",
            "\n",
            "7 * 7 = 49\n",
            "\n",
            "7 * 8 = 56\n",
            "\n",
            "7 * 9 = 63\n",
            "\n",
            "8 단\n",
            "8 * 1 = 8\n",
            "\n",
            "8 * 2 = 16\n",
            "\n",
            "8 * 3 = 24\n",
            "\n",
            "8 * 4 = 32\n",
            "\n",
            "8 * 5 = 40\n",
            "\n",
            "8 * 6 = 48\n",
            "\n",
            "8 * 7 = 56\n",
            "\n",
            "8 * 8 = 64\n",
            "\n",
            "8 * 9 = 72\n",
            "\n",
            "9 단\n",
            "9 * 1 = 9\n",
            "\n",
            "9 * 2 = 18\n",
            "\n",
            "9 * 3 = 27\n",
            "\n",
            "9 * 4 = 36\n",
            "\n",
            "9 * 5 = 45\n",
            "\n",
            "9 * 6 = 54\n",
            "\n",
            "9 * 7 = 63\n",
            "\n",
            "9 * 8 = 72\n",
            "\n",
            "9 * 9 = 81\n",
            "\n"
          ]
        }
      ]
    },
    {
      "cell_type": "code",
      "source": [
        "#ex26\n",
        "dan = 2\n",
        "while(dan < 10):\n",
        "  hang = 1\n",
        "  print(dan, \"단\")\n",
        "  while(hang < 10):\n",
        "    print(dan, \"*\", hang, \"=\", dan*hang)\n",
        "    hang+=1\n",
        "  dan+=1\n",
        "  print()"
      ],
      "metadata": {
        "colab": {
          "base_uri": "https://localhost:8080/"
        },
        "id": "PexvCs9Zlvq6",
        "outputId": "cd5c67ad-1b68-4b29-af61-ce1bfdcae071"
      },
      "execution_count": null,
      "outputs": [
        {
          "output_type": "stream",
          "name": "stdout",
          "text": [
            "2 단\n",
            "2 * 1 = 2\n",
            "2 * 2 = 4\n",
            "2 * 3 = 6\n",
            "2 * 4 = 8\n",
            "2 * 5 = 10\n",
            "2 * 6 = 12\n",
            "2 * 7 = 14\n",
            "2 * 8 = 16\n",
            "2 * 9 = 18\n",
            "\n",
            "3 단\n",
            "3 * 1 = 3\n",
            "3 * 2 = 6\n",
            "3 * 3 = 9\n",
            "3 * 4 = 12\n",
            "3 * 5 = 15\n",
            "3 * 6 = 18\n",
            "3 * 7 = 21\n",
            "3 * 8 = 24\n",
            "3 * 9 = 27\n",
            "\n",
            "4 단\n",
            "4 * 1 = 4\n",
            "4 * 2 = 8\n",
            "4 * 3 = 12\n",
            "4 * 4 = 16\n",
            "4 * 5 = 20\n",
            "4 * 6 = 24\n",
            "4 * 7 = 28\n",
            "4 * 8 = 32\n",
            "4 * 9 = 36\n",
            "\n",
            "5 단\n",
            "5 * 1 = 5\n",
            "5 * 2 = 10\n",
            "5 * 3 = 15\n",
            "5 * 4 = 20\n",
            "5 * 5 = 25\n",
            "5 * 6 = 30\n",
            "5 * 7 = 35\n",
            "5 * 8 = 40\n",
            "5 * 9 = 45\n",
            "\n",
            "6 단\n",
            "6 * 1 = 6\n",
            "6 * 2 = 12\n",
            "6 * 3 = 18\n",
            "6 * 4 = 24\n",
            "6 * 5 = 30\n",
            "6 * 6 = 36\n",
            "6 * 7 = 42\n",
            "6 * 8 = 48\n",
            "6 * 9 = 54\n",
            "\n",
            "7 단\n",
            "7 * 1 = 7\n",
            "7 * 2 = 14\n",
            "7 * 3 = 21\n",
            "7 * 4 = 28\n",
            "7 * 5 = 35\n",
            "7 * 6 = 42\n",
            "7 * 7 = 49\n",
            "7 * 8 = 56\n",
            "7 * 9 = 63\n",
            "\n",
            "8 단\n",
            "8 * 1 = 8\n",
            "8 * 2 = 16\n",
            "8 * 3 = 24\n",
            "8 * 4 = 32\n",
            "8 * 5 = 40\n",
            "8 * 6 = 48\n",
            "8 * 7 = 56\n",
            "8 * 8 = 64\n",
            "8 * 9 = 72\n",
            "\n",
            "9 단\n",
            "9 * 1 = 9\n",
            "9 * 2 = 18\n",
            "9 * 3 = 27\n",
            "9 * 4 = 36\n",
            "9 * 5 = 45\n",
            "9 * 6 = 54\n",
            "9 * 7 = 63\n",
            "9 * 8 = 72\n",
            "9 * 9 = 81\n",
            "\n"
          ]
        }
      ]
    },
    {
      "cell_type": "code",
      "source": [
        "#ex26\n",
        "for y in range(1, 6):\n",
        "  for x in range(1, y+1):\n",
        "    print('*', end='')\n",
        "  print()"
      ],
      "metadata": {
        "colab": {
          "base_uri": "https://localhost:8080/"
        },
        "id": "7HBYWqQunUZm",
        "outputId": "9661c5e1-bfd9-4b35-f688-0ed36b6bf80c"
      },
      "execution_count": null,
      "outputs": [
        {
          "output_type": "stream",
          "name": "stdout",
          "text": [
            "*\n",
            "**\n",
            "***\n",
            "****\n",
            "*****\n"
          ]
        }
      ]
    },
    {
      "cell_type": "code",
      "source": [
        "#ex27\n",
        "for i in range(1, 8):\n",
        "  for j in range(1, 8):\n",
        "    if (i == j) or (i+j ==8):\n",
        "      print('*', end='')\n",
        "    else:\n",
        "      print(end=' ')\n",
        "  print()"
      ],
      "metadata": {
        "colab": {
          "base_uri": "https://localhost:8080/"
        },
        "id": "QnFz7pfVn07E",
        "outputId": "bd34a9fd-fd9b-455b-91c3-c1d6a79bca84"
      },
      "execution_count": null,
      "outputs": [
        {
          "output_type": "stream",
          "name": "stdout",
          "text": [
            "*     *\n",
            " *   * \n",
            "  * *  \n",
            "   *   \n",
            "  * *  \n",
            " *   * \n",
            "*     *\n"
          ]
        }
      ]
    },
    {
      "cell_type": "code",
      "source": [
        "#ex28\n",
        "cnt = 0\n",
        "n = int(input('수 입력 : '))\n",
        "\n",
        "for i in range(2, n):\n",
        "  pn = 1\n",
        "  for j in range(2, i):\n",
        "    if (i % j == 0):\n",
        "      pn = 0\n",
        "      break\n",
        "\n",
        "  if pn == 1:\n",
        "    print('{:>5}'.format(i), sep = '', end = ' ')\n",
        "    cnt += 1\n",
        "    if(cnt == 5):\n",
        "      print()\n",
        "      cnt = 0"
      ],
      "metadata": {
        "colab": {
          "base_uri": "https://localhost:8080/"
        },
        "id": "Z91PIqX1pNaK",
        "outputId": "dc8e1101-e854-4447-df50-6cec990e3d9b"
      },
      "execution_count": null,
      "outputs": [
        {
          "output_type": "stream",
          "name": "stdout",
          "text": [
            "수 입력 : 50\n",
            "    2     3     5     7    11 \n",
            "   13    17    19    23    29 \n",
            "   31    37    41    43    47 \n"
          ]
        }
      ]
    }
  ]
}