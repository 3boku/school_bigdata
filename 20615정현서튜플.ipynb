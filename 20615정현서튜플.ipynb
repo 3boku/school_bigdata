{
  "nbformat": 4,
  "nbformat_minor": 0,
  "metadata": {
    "colab": {
      "provenance": [],
      "authorship_tag": "ABX9TyOhyIG1cvo+qBgBfia3rPwR",
      "include_colab_link": true
    },
    "kernelspec": {
      "name": "python3",
      "display_name": "Python 3"
    },
    "language_info": {
      "name": "python"
    }
  },
  "cells": [
    {
      "cell_type": "markdown",
      "metadata": {
        "id": "view-in-github",
        "colab_type": "text"
      },
      "source": [
        "<a href=\"https://colab.research.google.com/github/NANONANDFLASH/school_bigdata/blob/main/20615%EC%A0%95%ED%98%84%EC%84%9C%ED%8A%9C%ED%94%8C.ipynb\" target=\"_parent\"><img src=\"https://colab.research.google.com/assets/colab-badge.svg\" alt=\"Open In Colab\"/></a>"
      ]
    },
    {
      "cell_type": "code",
      "execution_count": 1,
      "metadata": {
        "colab": {
          "base_uri": "https://localhost:8080/"
        },
        "id": "0DTuW2-ljiTT",
        "outputId": "fcc16137-ec48-477f-9f6f-95263d470db8"
      },
      "outputs": [
        {
          "output_type": "stream",
          "name": "stdout",
          "text": [
            "()\n",
            "1\n",
            "<class 'int'>\n",
            "(1,)\n",
            "<class 'tuple'>\n"
          ]
        }
      ],
      "source": [
        "#ex1\n",
        "t1 = ()\n",
        "print(t1)\n",
        "t2 = (1)\n",
        "print(t2)\n",
        "print(type(t2))\n",
        "t3=(1,)\n",
        "print(t3)\n",
        "print(type(t3))"
      ]
    },
    {
      "cell_type": "code",
      "source": [
        "#ex2\n",
        "tu =2,\n",
        "print(type(tu))\n",
        "print(tu)"
      ],
      "metadata": {
        "id": "_i08LqCMj9mx"
      },
      "execution_count": null,
      "outputs": []
    },
    {
      "cell_type": "code",
      "source": [
        "#ex3-1\n",
        "tu = 1,2,3,4,5\n",
        "\n",
        "print(tu[3])\n",
        "print(tu[1:4])\n",
        "print(tu + (6, 7))\n",
        "print(tu * 2)"
      ],
      "metadata": {
        "colab": {
          "base_uri": "https://localhost:8080/"
        },
        "id": "0yfV538gj8no",
        "outputId": "72a77ed1-e153-4c56-a168-699e26ced405"
      },
      "execution_count": 4,
      "outputs": [
        {
          "output_type": "stream",
          "name": "stdout",
          "text": [
            "4\n",
            "(2, 3, 4)\n",
            "(1, 2, 3, 4, 5, 6, 7)\n",
            "(1, 2, 3, 4, 5, 1, 2, 3, 4, 5)\n"
          ]
        }
      ]
    },
    {
      "cell_type": "code",
      "source": [
        "#ex3-2\n",
        "tu[1]=100\n",
        "del tu[1]"
      ],
      "metadata": {
        "colab": {
          "base_uri": "https://localhost:8080/",
          "height": 211
        },
        "id": "ZEZhVJGQklrs",
        "outputId": "07a32228-acd0-4afa-dfd3-863359f41f91"
      },
      "execution_count": 5,
      "outputs": [
        {
          "output_type": "error",
          "ename": "TypeError",
          "evalue": "ignored",
          "traceback": [
            "\u001b[0;31m---------------------------------------------------------------------------\u001b[0m",
            "\u001b[0;31mTypeError\u001b[0m                                 Traceback (most recent call last)",
            "\u001b[0;32m<ipython-input-5-313e1f89423b>\u001b[0m in \u001b[0;36m<cell line: 2>\u001b[0;34m()\u001b[0m\n\u001b[1;32m      1\u001b[0m \u001b[0;31m#ex3-2\u001b[0m\u001b[0;34m\u001b[0m\u001b[0;34m\u001b[0m\u001b[0m\n\u001b[0;32m----> 2\u001b[0;31m \u001b[0mtu\u001b[0m\u001b[0;34m[\u001b[0m\u001b[0;36m1\u001b[0m\u001b[0;34m]\u001b[0m\u001b[0;34m=\u001b[0m\u001b[0;36m100\u001b[0m\u001b[0;34m\u001b[0m\u001b[0;34m\u001b[0m\u001b[0m\n\u001b[0m\u001b[1;32m      3\u001b[0m \u001b[0;32mdel\u001b[0m \u001b[0mtu\u001b[0m\u001b[0;34m[\u001b[0m\u001b[0;36m1\u001b[0m\u001b[0;34m]\u001b[0m\u001b[0;34m\u001b[0m\u001b[0;34m\u001b[0m\u001b[0m\n",
            "\u001b[0;31mTypeError\u001b[0m: 'tuple' object does not support item assignment"
          ]
        }
      ]
    },
    {
      "cell_type": "code",
      "source": [
        "tu = \"이순신\", \"김유신\", \"강감찬\"\n",
        "print(tu)\n",
        "print(tu[0])\n",
        "lee, kim, kang = tu\n",
        "print(lee)\n",
        "print(kim)\n",
        "print(kang)"
      ],
      "metadata": {
        "colab": {
          "base_uri": "https://localhost:8080/"
        },
        "id": "vcjz9fGNlWRi",
        "outputId": "9cd86fa0-12d3-4298-ac3e-04baba1eed30"
      },
      "execution_count": 6,
      "outputs": [
        {
          "output_type": "stream",
          "name": "stdout",
          "text": [
            "('이순신', '김유신', '강감찬')\n",
            "이순신\n",
            "이순신\n",
            "김유신\n",
            "강감찬\n"
          ]
        }
      ]
    },
    {
      "cell_type": "code",
      "source": [
        "#ex5\n",
        "a, b=12, 34\n",
        "print (a,b)\n",
        "\n",
        "a, b= b, a\n",
        "print(a,b)"
      ],
      "metadata": {
        "colab": {
          "base_uri": "https://localhost:8080/"
        },
        "id": "C4ZumS42mjl9",
        "outputId": "57b5ea51-f400-46ac-b310-9c65f6cbcc43"
      },
      "execution_count": 7,
      "outputs": [
        {
          "output_type": "stream",
          "name": "stdout",
          "text": [
            "12 34\n",
            "34 12\n"
          ]
        }
      ]
    },
    {
      "cell_type": "code",
      "source": [
        "#ex6\n",
        "import time\n",
        "time.localtime()"
      ],
      "metadata": {
        "colab": {
          "base_uri": "https://localhost:8080/"
        },
        "id": "GBGRAx6RmrOl",
        "outputId": "3fb9eaa0-7888-485c-bb18-5d2477bf992b"
      },
      "execution_count": 8,
      "outputs": [
        {
          "output_type": "execute_result",
          "data": {
            "text/plain": [
              "time.struct_time(tm_year=2023, tm_mon=6, tm_mday=20, tm_hour=2, tm_min=20, tm_sec=57, tm_wday=1, tm_yday=171, tm_isdst=0)"
            ]
          },
          "metadata": {},
          "execution_count": 8
        }
      ]
    },
    {
      "cell_type": "code",
      "source": [
        "#\n",
        "import time\n",
        "\n",
        "def gettime():\n",
        "  now = time.localtime()\n",
        "  return now.tm_hour, now.tm_min\n",
        "\n",
        "print(gettime())"
      ],
      "metadata": {
        "colab": {
          "base_uri": "https://localhost:8080/"
        },
        "id": "-bIlhyrunWex",
        "outputId": "5c345e3b-4a5a-4483-ac4b-6e10c04e1447"
      },
      "execution_count": 9,
      "outputs": [
        {
          "output_type": "stream",
          "name": "stdout",
          "text": [
            "(2, 24)\n"
          ]
        }
      ]
    },
    {
      "cell_type": "code",
      "source": [
        "d, m = divmod(7,3)\n",
        "print(\"몫\", d)\n",
        "print(\"나머지\", m)"
      ],
      "metadata": {
        "colab": {
          "base_uri": "https://localhost:8080/"
        },
        "id": "5Af8Erx2oaqD",
        "outputId": "082d39fd-fe50-4160-90b1-e33e001ba030"
      },
      "execution_count": 10,
      "outputs": [
        {
          "output_type": "stream",
          "name": "stdout",
          "text": [
            "몫 2\n",
            "나머지 1\n"
          ]
        }
      ]
    },
    {
      "cell_type": "code",
      "source": [
        "score = [88, 95, 70, 100, 99]\n",
        "print(score)\n",
        "print(type(score))\n",
        "tu=tuple(score)\n",
        "print(tu)\n",
        "print(type(tu))\n",
        "\n",
        "li = list(tu)\n",
        "print(li)\n",
        "li[0]=100\n",
        "print(li)"
      ],
      "metadata": {
        "colab": {
          "base_uri": "https://localhost:8080/"
        },
        "id": "-hizx_fFonIA",
        "outputId": "da6ef10e-4db9-4301-b890-ddb519ca39fe"
      },
      "execution_count": 14,
      "outputs": [
        {
          "output_type": "stream",
          "name": "stdout",
          "text": [
            "[88, 95, 70, 100, 99]\n",
            "<class 'list'>\n",
            "(88, 95, 70, 100, 99)\n",
            "<class 'tuple'>\n",
            "[88, 95, 70, 100, 99]\n",
            "[100, 95, 70, 100, 99]\n"
          ]
        }
      ]
    }
  ]
}